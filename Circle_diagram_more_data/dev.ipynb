{
 "cells": [
  {
   "cell_type": "markdown",
   "metadata": {},
   "source": [
    "В этом ноутбуке попробуем разобраться и собрать код, позволяющий в круговой диаграмме учитывать угловые размеры объекта.\n",
    "\n",
    "Для этого возьмём искуственный пример из `artificial_example.ipynb`, построем по нему osm_object для изображения, а затем доработаем круговую диаграмму."
   ]
  },
  {
   "cell_type": "code",
   "execution_count": 1,
   "metadata": {},
   "outputs": [],
   "source": [
    "import os\n",
    "import pickle\n",
    "import numpy as np\n",
    "import matplotlib.pyplot as plt\n",
    "import cv2"
   ]
  },
  {
   "cell_type": "code",
   "execution_count": 2,
   "metadata": {},
   "outputs": [],
   "source": [
    "import sys\n",
    "sys.path.append('..')\n",
    "from rectangles_drawing import calculate_one_pixels_diffs\n",
    "from osm_object import Image_OSM_object\n",
    "\n",
    "from utils import read_pickle, dump_pickle"
   ]
  },
  {
   "cell_type": "code",
   "execution_count": null,
   "metadata": {},
   "outputs": [],
   "source": []
  },
  {
   "cell_type": "markdown",
   "metadata": {},
   "source": [
    "### Копипастим искусственный пример"
   ]
  },
  {
   "cell_type": "code",
   "execution_count": 3,
   "metadata": {},
   "outputs": [
    {
     "data": {
      "image/png": "[encoded data removed]",
      "text/plain": [
       "<Figure size 864x648 with 3 Axes>"
      ]
     },
     "metadata": {
      "needs_background": "light"
     },
     "output_type": "display_data"
    }
   ],
   "source": [
    "mask = np.zeros((300, 400))\n",
    "\n",
    "wood_mask = mask.copy()\n",
    "wood_mask[50:100, 35:100] = 1\n",
    "wood_mask[255:270, 150:165] = 1\n",
    "\n",
    "water_mask = mask.copy()\n",
    "water_mask[170:240, 200:300] = 1\n",
    "water_mask[45:90, 320:380] = 1\n",
    "\n",
    "\n",
    "plt.figure(figsize=(12, 9))\n",
    "\n",
    "plt.subplot(131)\n",
    "plt.imshow(mask)\n",
    "\n",
    "plt.subplot(132)\n",
    "plt.title('Wood mask')\n",
    "plt.imshow(wood_mask)\n",
    "\n",
    "plt.subplot(133)\n",
    "plt.title('Water mask')\n",
    "plt.imshow(water_mask)\n",
    "\n",
    "plt.show()"
   ]
  },
  {
   "cell_type": "code",
   "execution_count": 4,
   "metadata": {},
   "outputs": [],
   "source": [
    "H, W = 300, 400\n",
    "\n",
    "def rectangle_to_coords(rectangle, right_top_lat, right_top_lon, left_bottom_lat, left_bottom_lon):\n",
    "    x1, x2, y1, y2 = rectangle\n",
    "    \n",
    "    one_pixel_lat_diff, one_pixel_lon_diff = calculate_one_pixels_diffs(right_top_lat, right_top_lon, \n",
    "                                                                    left_bottom_lat, left_bottom_lon, (H, W))\n",
    "    \n",
    "    minlat = right_top_lat - (x2 * one_pixel_lat_diff)\n",
    "    maxlat = right_top_lat - (x1 * one_pixel_lat_diff)\n",
    "    minlon = left_bottom_lon + (y1 * one_pixel_lon_diff)\n",
    "    maxlon = left_bottom_lon + (y2 * one_pixel_lon_diff)\n",
    "    \n",
    "    return minlat, maxlat, minlon, maxlon"
   ]
  },
  {
   "cell_type": "code",
   "execution_count": 5,
   "metadata": {},
   "outputs": [],
   "source": [
    "# right_top_lat, right_top_lon, left_bottom_lat, left_bottom_lon отберём у какой-нибудь существующей картинки\n",
    "corners_folder = '../dataset/corners'\n",
    "corners = read_pickle(os.path.join(corners_folder, '224.pickle'))\n",
    "\n",
    "right_top_lat = corners['right_top_lat']\n",
    "right_top_lon = corners['right_top_lon']\n",
    "left_bottom_lat = corners['left_bottom_lat']\n",
    "left_bottom_lon = corners['left_bottom_lon']"
   ]
  },
  {
   "cell_type": "code",
   "execution_count": 6,
   "metadata": {},
   "outputs": [],
   "source": [
    "def predict_one(autoencoder, img, thresh):\n",
    "    return autoencoder.predict(np.array([img / 255.]).reshape(([1] + list(img.shape))))[0] >= thresh\n",
    "\n",
    "\n",
    "def mask_to_rectangles(mask):\n",
    "    visited = np.zeros(mask.shape[:2], dtype=int)\n",
    "    queue = []\n",
    "    rectangles = []\n",
    "    \n",
    "    queue_idx = 0\n",
    "\n",
    "    for x in range(mask.shape[0]):\n",
    "        for y in range(mask.shape[1]):\n",
    "            # первая непосещённая вершина\n",
    "            if visited[x][y] == 0 and mask[x][y]:\n",
    "                cur_vertex = (x, y)\n",
    "            else:\n",
    "                continue\n",
    "        \n",
    "            queue.append(cur_vertex)\n",
    "        \n",
    "            def bfs(queue_idx):\n",
    "                min_x, max_x, min_y, max_y = None, None, None, None\n",
    "\n",
    "                while len(queue) != queue_idx:\n",
    "                    v = queue[queue_idx]\n",
    "                    queue_idx += 1\n",
    "\n",
    "                    x, y = v\n",
    "                    if visited[x][y] == 1:\n",
    "                        continue\n",
    "                    visited[x][y] = 1\n",
    "\n",
    "                    if min_x is None or x < min_x:\n",
    "                        min_x = x\n",
    "                    if max_x is None or x > max_x:\n",
    "                        max_x = x\n",
    "                    if min_y is None or y < min_y:\n",
    "                        min_y = y\n",
    "                    if max_y is None or y > max_y:\n",
    "                        max_y = y\n",
    "\n",
    "                    # рассматриваем все соседние непосещённые вершины\n",
    "                    left = (x, y - 1)\n",
    "                    right = (x, y + 1)\n",
    "                    top = (x - 1, y)\n",
    "                    bottom = (x + 1, y)\n",
    "\n",
    "                    def visit_vertex(x, y):\n",
    "                        if x >= 0 and y >= 0 and x < mask.shape[0] and y < mask.shape[1] and visited[x][y] == 0\\\n",
    "                            and mask[x][y]:\n",
    "                                queue.append((x, y))\n",
    "\n",
    "                    visit_vertex(*left)\n",
    "                    visit_vertex(*right)\n",
    "                    visit_vertex(*top)\n",
    "                    visit_vertex(*bottom)\n",
    "\n",
    "                return queue_idx, queue, visited, min_x, max_x, min_y, max_y\n",
    "\n",
    "            queue_idx, queue, visited, min_x, max_x, min_y, max_y = bfs(queue_idx)\n",
    "            if min_x is not None and max_x is not None and min_y is not None and max_y is not None:\n",
    "                rectangles.append((min_x, max_x, min_y, max_y))\n",
    "\n",
    "    return rectangles\n"
   ]
  },
  {
   "cell_type": "code",
   "execution_count": 7,
   "metadata": {},
   "outputs": [
    {
     "name": "stdout",
     "output_type": "stream",
     "text": [
      "[(50, 99, 35, 99), (255, 269, 150, 164)]\n",
      "[(45, 89, 320, 379), (170, 239, 200, 299)]\n"
     ]
    }
   ],
   "source": [
    "rectangles_wood = mask_to_rectangles(wood_mask)\n",
    "print(rectangles_wood)\n",
    "rectangles_water = mask_to_rectangles(water_mask)\n",
    "print(rectangles_water)"
   ]
  },
  {
   "cell_type": "code",
   "execution_count": 8,
   "metadata": {},
   "outputs": [],
   "source": [
    "bounds = []\n",
    "tags = []\n",
    "\n",
    "for r in rectangles_wood:\n",
    "    minlat, maxlat, minlon, maxlon = rectangle_to_coords(r, right_top_lat, right_top_lon, left_bottom_lat, left_bottom_lon)\n",
    "    bounds.append({'maxlon': maxlon, 'minlat': minlat, 'minlon': minlon, 'maxlat': maxlat})\n",
    "    tags.append('wood')\n",
    "    \n",
    "for r in rectangles_water:\n",
    "    minlat, maxlat, minlon, maxlon = rectangle_to_coords(r, right_top_lat, right_top_lon, left_bottom_lat, left_bottom_lon)\n",
    "    bounds.append({'maxlon': maxlon, 'minlat': minlat, 'minlon': minlon, 'maxlat': maxlat})\n",
    "    tags.append('water')"
   ]
  },
  {
   "cell_type": "code",
   "execution_count": 9,
   "metadata": {},
   "outputs": [
    {
     "data": {
      "text/plain": [
       "[[(50, 99, 35, 99),\n",
       "  (255, 269, 150, 164),\n",
       "  (45, 89, 320, 379),\n",
       "  (170, 239, 200, 299)]]"
      ]
     },
     "execution_count": 9,
     "metadata": {},
     "output_type": "execute_result"
    }
   ],
   "source": [
    "rectangles = [rectangles_wood + rectangles_water]\n",
    "rectangles"
   ]
  },
  {
   "cell_type": "code",
   "execution_count": null,
   "metadata": {},
   "outputs": [],
   "source": []
  },
  {
   "cell_type": "markdown",
   "metadata": {},
   "source": [
    "### Строим osm-object"
   ]
  },
  {
   "cell_type": "code",
   "execution_count": 10,
   "metadata": {},
   "outputs": [],
   "source": [
    "img_shape = (H, W)\n",
    "\n",
    "img_osm = Image_OSM_object(\n",
    "    img_shape,\n",
    "    right_top_lat,\n",
    "    right_top_lon,\n",
    "    left_bottom_lat,\n",
    "    left_bottom_lon,\n",
    "    bounds,\n",
    "    tags\n",
    ")"
   ]
  },
  {
   "cell_type": "code",
   "execution_count": null,
   "metadata": {},
   "outputs": [],
   "source": []
  },
  {
   "cell_type": "markdown",
   "metadata": {},
   "source": [
    "### Circle diagram"
   ]
  },
  {
   "cell_type": "code",
   "execution_count": 11,
   "metadata": {},
   "outputs": [],
   "source": [
    "from circle_diagram import calculate_sectors_count, create_circle_diagram\n",
    "from circle_diagram import Image_circle_diagrams"
   ]
  },
  {
   "cell_type": "code",
   "execution_count": 12,
   "metadata": {},
   "outputs": [],
   "source": [
    "bigger_side_blocks_count = 8\n",
    "sectors_count = calculate_sectors_count(bigger_side_blocks_count)\n",
    "\n",
    "img_osm.img_cutted_shape = (img_osm.img_cutted_shape[0], img_osm.img_cutted_shape[1], 3)"
   ]
  },
  {
   "cell_type": "code",
   "execution_count": 13,
   "metadata": {},
   "outputs": [],
   "source": [
    "img_cds = Image_circle_diagrams(img_osm, bigger_side_blocks_count, sectors_count, with_fast=False, with_angle_penalty=False)"
   ]
  },
  {
   "cell_type": "code",
   "execution_count": 14,
   "metadata": {},
   "outputs": [],
   "source": [
    "img_cds_1 = Image_circle_diagrams(img_osm, bigger_side_blocks_count, sectors_count, with_fast=False, with_angle_penalty=True)"
   ]
  },
  {
   "cell_type": "code",
   "execution_count": null,
   "metadata": {},
   "outputs": [],
   "source": []
  },
  {
   "cell_type": "markdown",
   "metadata": {},
   "source": [
    "### Теперь добавим диаграмму агента, чтобы было с чем сравнивать"
   ]
  },
  {
   "cell_type": "code",
   "execution_count": 15,
   "metadata": {},
   "outputs": [],
   "source": [
    "points = read_pickle('../dataset/100_random_points.pickle')\n",
    "points_to_centers_6_8 = read_pickle('../dataset/100_points_to_cell_centers_48cells_6x8.pickle')"
   ]
  },
  {
   "cell_type": "code",
   "execution_count": 16,
   "metadata": {},
   "outputs": [],
   "source": [
    "agent_cd = create_circle_diagram(sectors_count, points[0][::-1], img_osm, with_angle_penalty=False)\n",
    "agent_cd_1 = create_circle_diagram(sectors_count, points[0][::-1], img_osm, with_angle_penalty=True)"
   ]
  },
  {
   "cell_type": "code",
   "execution_count": 17,
   "metadata": {},
   "outputs": [],
   "source": [
    "from circle_diagram import calculate_penalty_for_diagrams"
   ]
  },
  {
   "cell_type": "code",
   "execution_count": 18,
   "metadata": {},
   "outputs": [
    {
     "name": "stdout",
     "output_type": "stream",
     "text": [
      "0.053216454336125034\n",
      "1.1462887309634625e-12\n",
      "CPU times: user 31.6 ms, sys: 0 ns, total: 31.6 ms\n",
      "Wall time: 31.2 ms\n"
     ]
    }
   ],
   "source": [
    "%%time\n",
    "penalties = []\n",
    "\n",
    "for i in range(len(img_cds.circle_diagrams)):\n",
    "    penalties.append(calculate_penalty_for_diagrams(img_cds.circle_diagrams[i].sectors, agent_cd.sectors))\n",
    "    \n",
    "# Добавл. 1e-8 чтобы не было нулей\n",
    "similaryties = np.max(penalties) - penalties + 1e-8\n",
    "\n",
    "probs = similaryties / similaryties.sum()\n",
    "\n",
    "print(max(probs))\n",
    "print(min(probs))"
   ]
  },
  {
   "cell_type": "code",
   "execution_count": 19,
   "metadata": {},
   "outputs": [
    {
     "name": "stdout",
     "output_type": "stream",
     "text": [
      "0.05297249390307912\n",
      "1.1449759735167882e-12\n",
      "CPU times: user 31.6 ms, sys: 0 ns, total: 31.6 ms\n",
      "Wall time: 31.3 ms\n"
     ]
    }
   ],
   "source": [
    "%%time\n",
    "penalties_1 = []\n",
    "\n",
    "for i in range(len(img_cds_1.circle_diagrams)):\n",
    "    penalties_1.append(calculate_penalty_for_diagrams(img_cds_1.circle_diagrams[i].sectors, agent_cd_1.sectors))\n",
    "    \n",
    "# Добавл. 1e-8 чтобы не было нулей\n",
    "similaryties_1 = np.max(penalties_1) - penalties_1 + 1e-8\n",
    "\n",
    "probs_1 = similaryties_1 / similaryties_1.sum()\n",
    "\n",
    "print(max(probs_1))\n",
    "print(min(probs_1))"
   ]
  },
  {
   "cell_type": "code",
   "execution_count": null,
   "metadata": {},
   "outputs": [],
   "source": []
  },
  {
   "cell_type": "code",
   "execution_count": 20,
   "metadata": {},
   "outputs": [],
   "source": [
    "def calculate_cells_probs(img_cds, agent_cd):\n",
    "    \"\"\"\n",
    "    only fast version\n",
    "    \"\"\"\n",
    "    penalties = []\n",
    "    \n",
    "    for i in range(len(img_cds.center_points)):\n",
    "#         penalties.append(img_cds.fast_diagrams[i].dist_to(agent_cd.fast_diagram))\n",
    "        penalties.append(calculate_penalty_for_diagrams(img_cds.circle_diagrams[i].sectors, agent_cd.sectors))\n",
    "        \n",
    "    # Добавл. 1e-8 чтобы не было нулей\n",
    "    similaryties = np.max(penalties) - penalties + 1e-8\n",
    "\n",
    "    return similaryties / similaryties.sum()"
   ]
  },
  {
   "cell_type": "code",
   "execution_count": 21,
   "metadata": {},
   "outputs": [],
   "source": [
    "def find_center_point_id(center_points, agent_point):\n",
    "    for i in range(len(center_points)):\n",
    "        if center_points[i] == agent_point:\n",
    "            return i"
   ]
  },
  {
   "cell_type": "code",
   "execution_count": 22,
   "metadata": {},
   "outputs": [],
   "source": [
    "def is_in_one_of_max_k(cell_probs, center_point_id, max_k):\n",
    "    is_ok_for_different_k = []\n",
    "    \n",
    "    argsort = np.argsort(cell_probs)[::-1]\n",
    "    for k in range(0, max_k):\n",
    "        if argsort[k] == center_point_id:\n",
    "            is_ok_for_different_k += [True for _ in range(max_k - k)]\n",
    "            break\n",
    "        else:\n",
    "            is_ok_for_different_k.append(False)\n",
    "        \n",
    "    return is_ok_for_different_k"
   ]
  },
  {
   "cell_type": "code",
   "execution_count": 23,
   "metadata": {},
   "outputs": [],
   "source": [
    "def calculate_precision_k_for_one(img_cds, img_cds_1, max_k):\n",
    "    \n",
    "    is_in_k_one_image = []\n",
    "    is_in_k_one_image_1 = []\n",
    "    \n",
    "    for agent_point in points:\n",
    "        agent_cd = create_circle_diagram(sectors_count, agent_point[::-1], img_osm, with_angle_penalty=False)\n",
    "#         agent_cd.make_fast()\n",
    "        agent_cd_1 = create_circle_diagram(sectors_count, agent_point[::-1], img_osm, with_angle_penalty=True)\n",
    "        \n",
    "        cell_probs = calculate_cells_probs(img_cds, agent_cd)\n",
    "        cell_probs_1 = calculate_cells_probs(img_cds_1, agent_cd_1)\n",
    "        \n",
    "        center_point_id = find_center_point_id(img_cds.center_points, points_to_centers_6_8[agent_point][::-1])\n",
    "\n",
    "        is_in_k_one_point = is_in_one_of_max_k(cell_probs, center_point_id, max_k)\n",
    "        is_in_k_one_image.append(is_in_k_one_point)\n",
    "        \n",
    "        is_in_k_one_point_1 = is_in_one_of_max_k(cell_probs_1, center_point_id, max_k)\n",
    "        is_in_k_one_image_1.append(is_in_k_one_point_1)\n",
    "        \n",
    "    return is_in_k_one_image, is_in_k_one_image_1"
   ]
  },
  {
   "cell_type": "code",
   "execution_count": 24,
   "metadata": {},
   "outputs": [
    {
     "name": "stdout",
     "output_type": "stream",
     "text": [
      "CPU times: user 7.05 s, sys: 2.31 ms, total: 7.05 s\n",
      "Wall time: 7.05 s\n"
     ]
    }
   ],
   "source": [
    "%%time\n",
    "is_in_k, is_in_k_1 = calculate_precision_k_for_one(img_cds, img_cds_1, max_k=48)"
   ]
  },
  {
   "cell_type": "code",
   "execution_count": 25,
   "metadata": {},
   "outputs": [],
   "source": [
    "is_in_k = np.array(is_in_k)\n",
    "is_in_k_1 = np.array(is_in_k_1)"
   ]
  },
  {
   "cell_type": "code",
   "execution_count": 26,
   "metadata": {},
   "outputs": [
    {
     "name": "stdout",
     "output_type": "stream",
     "text": [
      "0.77\n",
      "0.78\n"
     ]
    }
   ],
   "source": [
    "print(is_in_k[:, 0].sum() / is_in_k.shape[0])\n",
    "print(is_in_k_1[:, 0].sum() / is_in_k_1.shape[0])"
   ]
  },
  {
   "cell_type": "code",
   "execution_count": 27,
   "metadata": {},
   "outputs": [
    {
     "name": "stdout",
     "output_type": "stream",
     "text": [
      "0.84\n",
      "0.84\n"
     ]
    }
   ],
   "source": [
    "print(is_in_k[:, 1].sum() / is_in_k.shape[0])\n",
    "print(is_in_k_1[:, 1].sum() / is_in_k_1.shape[0])"
   ]
  },
  {
   "cell_type": "code",
   "execution_count": 28,
   "metadata": {},
   "outputs": [
    {
     "name": "stdout",
     "output_type": "stream",
     "text": [
      "0.87\n",
      "0.87\n"
     ]
    }
   ],
   "source": [
    "print(is_in_k[:, 2].sum() / is_in_k.shape[0])\n",
    "print(is_in_k_1[:, 2].sum() / is_in_k_1.shape[0])"
   ]
  },
  {
   "cell_type": "code",
   "execution_count": 29,
   "metadata": {},
   "outputs": [
    {
     "name": "stdout",
     "output_type": "stream",
     "text": [
      "0.87\n",
      "0.87\n"
     ]
    }
   ],
   "source": [
    "print(is_in_k[:, 3].sum() / is_in_k.shape[0])\n",
    "print(is_in_k_1[:, 3].sum() / is_in_k_1.shape[0])"
   ]
  },
  {
   "cell_type": "code",
   "execution_count": 30,
   "metadata": {},
   "outputs": [
    {
     "name": "stdout",
     "output_type": "stream",
     "text": [
      "0.87\n",
      "0.87\n"
     ]
    }
   ],
   "source": [
    "print(is_in_k[:, 4].sum() / is_in_k.shape[0])\n",
    "print(is_in_k_1[:, 4].sum() / is_in_k_1.shape[0])"
   ]
  },
  {
   "cell_type": "code",
   "execution_count": 31,
   "metadata": {},
   "outputs": [
    {
     "name": "stdout",
     "output_type": "stream",
     "text": [
      "0.89\n",
      "0.89\n"
     ]
    }
   ],
   "source": [
    "print(is_in_k[:, 10].sum() / is_in_k.shape[0])\n",
    "print(is_in_k_1[:, 10].sum() / is_in_k_1.shape[0])"
   ]
  },
  {
   "cell_type": "code",
   "execution_count": null,
   "metadata": {},
   "outputs": [],
   "source": []
  }
 ],
 "metadata": {
  "kernelspec": {
   "display_name": "Python (tf-gpu)",
   "language": "python",
   "name": "tf-gpu"
  },
  "language_info": {
   "codemirror_mode": {
    "name": "ipython",
    "version": 3
   },
   "file_extension": ".py",
   "mimetype": "text/x-python",
   "name": "python",
   "nbconvert_exporter": "python",
   "pygments_lexer": "ipython3",
   "version": "3.7.5"
  }
 },
 "nbformat": 4,
 "nbformat_minor": 2
}
