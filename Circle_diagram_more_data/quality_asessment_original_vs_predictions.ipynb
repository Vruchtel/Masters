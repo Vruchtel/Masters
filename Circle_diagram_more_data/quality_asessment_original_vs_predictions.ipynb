{
 "cells": [
  {
   "cell_type": "markdown",
   "metadata": {},
   "source": [
    "Здесь попробуем оценить точность используя новый метод с учётом видимых угловых размеров объекта в штрафе используя для в оригинале разметку open street map и сравнивая её с предсказанной разметкой для агента."
   ]
  },
  {
   "cell_type": "code",
   "execution_count": 1,
   "metadata": {},
   "outputs": [],
   "source": [
    "import pickle\n",
    "import os\n",
    "import cv2\n",
    "import numpy as np\n",
    "import matplotlib.pyplot as plt"
   ]
  },
  {
   "cell_type": "code",
   "execution_count": 2,
   "metadata": {},
   "outputs": [],
   "source": [
    "import sys\n",
    "sys.path.append('..')\n",
    "from rectangles_drawing import calculate_one_pixels_diffs, draw_all_rectangles\n",
    "from osm_object import Image_OSM_object\n",
    "\n",
    "from circle_diagram import calculate_sectors_count, create_circle_diagram\n",
    "from circle_diagram import Image_circle_diagrams\n",
    "from circle_diagram import calculate_penalty_for_diagrams\n",
    "\n",
    "from utils import read_pickle, dump_pickle\n"
   ]
  },
  {
   "cell_type": "code",
   "execution_count": null,
   "metadata": {},
   "outputs": [],
   "source": []
  },
  {
   "cell_type": "code",
   "execution_count": 3,
   "metadata": {},
   "outputs": [],
   "source": [
    "points = read_pickle('../dataset/100_random_points.pickle')\n",
    "points_to_centers_6_8 = read_pickle('../dataset/100_points_to_cell_centers_48cells_6x8.pickle')\n",
    "points_to_centers_3_4 = read_pickle('../dataset/100_points_to_cell_centers_12cells_3x4.pickle')"
   ]
  },
  {
   "cell_type": "code",
   "execution_count": 10,
   "metadata": {},
   "outputs": [],
   "source": [
    "predictions_folder = '../dataset/predictions/'\n",
    "predicts_osm_folder = 'predicts_osm'\n",
    "rectangled_predicts_folder = 'rectangled_predicts_pixel'\n",
    "objects_predicts_folder = 'rectangled_predicts_obj'\n",
    "\n",
    "osm_objects_path = os.path.join(predictions_folder, predicts_osm_folder)\n",
    "\n",
    "orig_osm_objects_path = '../dataset/osm_objects/'"
   ]
  },
  {
   "cell_type": "code",
   "execution_count": 5,
   "metadata": {},
   "outputs": [],
   "source": [
    "train_val_test = read_pickle(\"../dataset/train_val_test_split.pickle\")\n",
    "test_ids = train_val_test['test']"
   ]
  },
  {
   "cell_type": "code",
   "execution_count": 6,
   "metadata": {},
   "outputs": [
    {
     "name": "stdout",
     "output_type": "stream",
     "text": [
      "Sectors count: 616\n"
     ]
    }
   ],
   "source": [
    "bigger_side_blocks_count = 8\n",
    "sectors_count = calculate_sectors_count(bigger_side_blocks_count)\n",
    "print(\"Sectors count:\", sectors_count)"
   ]
  },
  {
   "cell_type": "code",
   "execution_count": null,
   "metadata": {},
   "outputs": [],
   "source": []
  },
  {
   "cell_type": "code",
   "execution_count": 7,
   "metadata": {},
   "outputs": [],
   "source": [
    "def calculate_cells_probs(img_cds, agent_cd):\n",
    "    \"\"\"\n",
    "    only fast version\n",
    "    \"\"\"\n",
    "    penalties = []\n",
    "    \n",
    "    for i in range(len(img_cds.center_points)):\n",
    "#         penalties.append(img_cds.fast_diagrams[i].dist_to(agent_cd.fast_diagram))\n",
    "        penalties.append(calculate_penalty_for_diagrams(img_cds.circle_diagrams[i].sectors, agent_cd.sectors))\n",
    "        \n",
    "    # Добавл. 1e-8 чтобы не было нулей\n",
    "    similaryties = np.max(penalties) - penalties + 1e-8\n",
    "\n",
    "    return similaryties / similaryties.sum()"
   ]
  },
  {
   "cell_type": "code",
   "execution_count": 8,
   "metadata": {},
   "outputs": [],
   "source": [
    "def find_center_point_id(center_points, agent_point):\n",
    "    for i in range(len(center_points)):\n",
    "        if center_points[i] == agent_point:\n",
    "            return i"
   ]
  },
  {
   "cell_type": "code",
   "execution_count": 9,
   "metadata": {},
   "outputs": [],
   "source": [
    "def is_in_one_of_max_k(cell_probs, center_point_id, max_k):\n",
    "    is_ok_for_different_k = []\n",
    "    \n",
    "    argsort = np.argsort(cell_probs)[::-1]\n",
    "    for k in range(0, max_k):\n",
    "        if argsort[k] == center_point_id:\n",
    "            is_ok_for_different_k += [True for _ in range(max_k - k)]\n",
    "            break\n",
    "        else:\n",
    "            is_ok_for_different_k.append(False)\n",
    "        \n",
    "    return is_ok_for_different_k"
   ]
  },
  {
   "cell_type": "code",
   "execution_count": 11,
   "metadata": {},
   "outputs": [],
   "source": [
    "def calculate_precision_k_for_one(img_id, max_k):\n",
    "    \n",
    "    filename_pickle = img_id + '.pickle'\n",
    "    \n",
    "    img_osm = read_pickle(os.path.join(osm_objects_path, filename_pickle))\n",
    "    img_osm.img_cutted_shape = (img_osm.img_cutted_shape[0], img_osm.img_cutted_shape[1], 3)\n",
    "    img_cds = Image_circle_diagrams(img_osm, bigger_side_blocks_count, sectors_count, with_fast=False, with_angle_penalty=True)\n",
    "    \n",
    "    img_osm_for_agent = read_pickle(os.path.join(orig_osm_objects_path, filename_pickle))\n",
    "    img_osm_for_agent.img_cutted_shape = (img_osm.img_cutted_shape[0], img_osm.img_cutted_shape[1], 3)\n",
    "    \n",
    "    is_in_k_one_image = []\n",
    "    \n",
    "    for agent_point in points:\n",
    "        agent_point = agent_point[::-1]\n",
    "        agent_cd = create_circle_diagram(sectors_count, agent_point, img_osm_for_agent, with_angle_penalty=True)\n",
    "#         agent_cd.make_fast()\n",
    "        \n",
    "        cell_probs = calculate_cells_probs(img_cds, agent_cd)\n",
    "        \n",
    "        center_point_id = find_center_point_id(img_cds.center_points, points_to_centers_6_8[agent_point[::-1]][::-1])\n",
    "\n",
    "        is_in_k_one_point = is_in_one_of_max_k(cell_probs, center_point_id, max_k)\n",
    "        is_in_k_one_image.append(is_in_k_one_point)\n",
    "        \n",
    "    return is_in_k_one_image"
   ]
  },
  {
   "cell_type": "code",
   "execution_count": 12,
   "metadata": {},
   "outputs": [
    {
     "name": "stdout",
     "output_type": "stream",
     "text": [
      "CPU times: user 4.04 s, sys: 5.36 ms, total: 4.05 s\n",
      "Wall time: 4.04 s\n"
     ]
    }
   ],
   "source": [
    "%%time\n",
    "is_in_k_one_image = calculate_precision_k_for_one(test_ids[0], max_k=47)"
   ]
  },
  {
   "cell_type": "code",
   "execution_count": 13,
   "metadata": {},
   "outputs": [
    {
     "data": {
      "text/plain": [
       "0.08"
      ]
     },
     "execution_count": 13,
     "metadata": {},
     "output_type": "execute_result"
    }
   ],
   "source": [
    "np.array(is_in_k_one_image)[:, 0].sum() / len(is_in_k_one_image)"
   ]
  },
  {
   "cell_type": "code",
   "execution_count": 14,
   "metadata": {},
   "outputs": [
    {
     "data": {
      "text/plain": [
       "0.12"
      ]
     },
     "execution_count": 14,
     "metadata": {},
     "output_type": "execute_result"
    }
   ],
   "source": [
    "np.array(is_in_k_one_image)[:, 1].sum() / len(is_in_k_one_image)"
   ]
  },
  {
   "cell_type": "markdown",
   "metadata": {},
   "source": [
    "Даже тут точность получилась выше, чем просто случайность."
   ]
  },
  {
   "cell_type": "code",
   "execution_count": 15,
   "metadata": {},
   "outputs": [
    {
     "name": "stdout",
     "output_type": "stream",
     "text": [
      "200\n",
      "400\n"
     ]
    },
    {
     "name": "stderr",
     "output_type": "stream",
     "text": [
      "../utils.py:39: RuntimeWarning: invalid value encountered in arccos\n",
      "  return np.rad2deg(np.arccos(scalar_product / (norm_1 * norm_2)))\n"
     ]
    },
    {
     "name": "stdout",
     "output_type": "stream",
     "text": [
      "600\n",
      "800\n",
      "1000\n",
      "1200\n",
      "1400\n",
      "1600\n",
      "1800\n",
      "2000\n",
      "2200\n",
      "2400\n",
      "2600\n",
      "2800\n",
      "3000\n",
      "3200\n",
      "3400\n",
      "3600\n",
      "3800\n",
      "4000\n",
      "4200\n",
      "4400\n",
      "4600\n",
      "4800\n",
      "5000\n",
      "5200\n",
      "5400\n",
      "5600\n",
      "5800\n",
      "6000\n",
      "6200\n",
      "6400\n",
      "6600\n",
      "6800\n",
      "7000\n",
      "7200\n",
      "7400\n",
      "7600\n",
      "7800\n",
      "8000\n",
      "8200\n",
      "8400\n",
      "8600\n",
      "8800\n",
      "9000\n",
      "9200\n",
      "9400\n",
      "9600\n",
      "9800\n",
      "10000\n",
      "CPU times: user 5min 7s, sys: 403 ms, total: 5min 7s\n",
      "Wall time: 5min 8s\n"
     ]
    }
   ],
   "source": [
    "%%time\n",
    "is_in_k = []\n",
    "\n",
    "for img_id in test_ids[:100]:\n",
    "    \n",
    "    is_in_k += calculate_precision_k_for_one(img_id, max_k=48)\n",
    "    \n",
    "    if len(is_in_k) % 200 == 0:\n",
    "        print(len(is_in_k))\n",
    "        "
   ]
  },
  {
   "cell_type": "code",
   "execution_count": 16,
   "metadata": {},
   "outputs": [],
   "source": [
    "is_in_k = np.array(is_in_k)\n",
    "\n",
    "acc_k = []\n",
    "for i in range(48):\n",
    "    acc_k.append(is_in_k[:, i].sum() / is_in_k.shape[0])"
   ]
  },
  {
   "cell_type": "code",
   "execution_count": 17,
   "metadata": {},
   "outputs": [
    {
     "data": {
      "image/png": "[encoded data removed]",
      "text/plain": [
       "<Figure size 1152x576 with 2 Axes>"
      ]
     },
     "metadata": {
      "needs_background": "light"
     },
     "output_type": "display_data"
    }
   ],
   "source": [
    "plt.figure(figsize=(16, 8))\n",
    "\n",
    "plt.subplot(121)\n",
    "plt.plot(range(1, 49), acc_k, label='predicted result')\n",
    "plt.plot(range(49), [i / 48 for i in range(49)], color='red', label='random')\n",
    "plt.xlabel('k')\n",
    "plt.ylabel('precision')\n",
    "plt.legend()\n",
    "\n",
    "plt.subplot(122)\n",
    "plt.scatter(range(1, 49), acc_k)\n",
    "plt.xlabel('k')\n",
    "plt.ylabel('precision')\n",
    "\n",
    "plt.show()"
   ]
  },
  {
   "cell_type": "code",
   "execution_count": 18,
   "metadata": {},
   "outputs": [
    {
     "data": {
      "image/png": "[encoded data removed]",
      "text/plain": [
       "<Figure size 432x288 with 1 Axes>"
      ]
     },
     "metadata": {
      "needs_background": "light"
     },
     "output_type": "display_data"
    }
   ],
   "source": [
    "plt.scatter(range(4), acc_k[:4], color='red')\n",
    "plt.xlabel('k')\n",
    "plt.ylabel('precision')\n",
    "\n",
    "plt.show()"
   ]
  },
  {
   "cell_type": "code",
   "execution_count": 19,
   "metadata": {},
   "outputs": [
    {
     "name": "stdout",
     "output_type": "stream",
     "text": [
      "K: 1, precision - 0.0492\n",
      "K: 2, precision - 0.0896\n",
      "K: 3, precision - 0.1185\n",
      "K: 4, precision - 0.1502\n",
      "K: 5, precision - 0.1702\n",
      "K: 6, precision - 0.2033\n",
      "K: 7, precision - 0.2379\n",
      "K: 8, precision - 0.2601\n",
      "K: 9, precision - 0.2814\n",
      "K: 10, precision - 0.3071\n",
      "K: 11, precision - 0.3221\n",
      "K: 12, precision - 0.3535\n",
      "K: 13, precision - 0.3679\n",
      "K: 14, precision - 0.3778\n",
      "K: 15, precision - 0.3912\n",
      "K: 16, precision - 0.4108\n",
      "K: 17, precision - 0.4251\n",
      "K: 18, precision - 0.4546\n",
      "K: 19, precision - 0.4726\n",
      "K: 20, precision - 0.486\n",
      "K: 21, precision - 0.5171\n",
      "K: 22, precision - 0.5456\n",
      "K: 23, precision - 0.5643\n",
      "K: 24, precision - 0.5783\n",
      "K: 25, precision - 0.5925\n",
      "K: 26, precision - 0.6006\n",
      "K: 27, precision - 0.6173\n",
      "K: 28, precision - 0.6376\n",
      "K: 29, precision - 0.6511\n",
      "K: 30, precision - 0.6636\n",
      "K: 31, precision - 0.6799\n",
      "K: 32, precision - 0.7071\n",
      "K: 33, precision - 0.7198\n",
      "K: 34, precision - 0.7362\n",
      "K: 35, precision - 0.7544\n",
      "K: 36, precision - 0.772\n",
      "K: 37, precision - 0.7908\n",
      "K: 38, precision - 0.8052\n",
      "K: 39, precision - 0.8193\n",
      "K: 40, precision - 0.8486\n",
      "K: 41, precision - 0.8722\n",
      "K: 42, precision - 0.9021\n",
      "K: 43, precision - 0.9149\n",
      "K: 44, precision - 0.9342\n",
      "K: 45, precision - 0.9511\n",
      "K: 46, precision - 0.9642\n",
      "K: 47, precision - 0.9766\n",
      "K: 48, precision - 1.0\n"
     ]
    }
   ],
   "source": [
    "for k in range(48):\n",
    "    print(f\"K: {k+1}, precision - {acc_k[k]}\")"
   ]
  },
  {
   "cell_type": "code",
   "execution_count": null,
   "metadata": {},
   "outputs": [],
   "source": []
  }
 ],
 "metadata": {
  "kernelspec": {
   "display_name": "Python (tf-gpu)",
   "language": "python",
   "name": "tf-gpu"
  },
  "language_info": {
   "codemirror_mode": {
    "name": "ipython",
    "version": 3
   },
   "file_extension": ".py",
   "mimetype": "text/x-python",
   "name": "python",
   "nbconvert_exporter": "python",
   "pygments_lexer": "ipython3",
   "version": "3.7.5"
  }
 },
 "nbformat": 4,
 "nbformat_minor": 2
}
