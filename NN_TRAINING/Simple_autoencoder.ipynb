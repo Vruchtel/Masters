{
 "cells": [
  {
   "cell_type": "code",
   "execution_count": 1,
   "metadata": {},
   "outputs": [
    {
     "name": "stderr",
     "output_type": "stream",
     "text": [
      "Using TensorFlow backend.\n"
     ]
    }
   ],
   "source": [
    "from keras.datasets import mnist\n",
    "\n",
    "(x_train, y_train), (x_test, y_test) = mnist.load_data()"
   ]
  },
  {
   "cell_type": "code",
   "execution_count": 2,
   "metadata": {},
   "outputs": [],
   "source": [
    "import numpy as np\n",
    "import matplotlib.pyplot as plt\n",
    "from keras.datasets import mnist\n",
    "from keras.layers import Input, Dense, Conv2D, MaxPooling2D, UpSampling2D\n",
    "from keras.models import Model\n",
    "from keras import backend as K"
   ]
  },
  {
   "cell_type": "code",
   "execution_count": 3,
   "metadata": {},
   "outputs": [],
   "source": [
    "#Load Dataset\n",
    "(x_train, _), (x_test, _) = mnist.load_data()"
   ]
  },
  {
   "cell_type": "code",
   "execution_count": 4,
   "metadata": {},
   "outputs": [],
   "source": [
    "#Scale Dataset values to lie between 0 and 1\n",
    "x_train = x_train.astype('float32') / 255.\n",
    "x_test = x_test.astype('float32') / 255.\n",
    "x_train = np.reshape(x_train, (len(x_train), 28, 28, 1))\n",
    "x_test = np.reshape(x_test, (len(x_test), 28, 28, 1))"
   ]
  },
  {
   "cell_type": "code",
   "execution_count": 5,
   "metadata": {},
   "outputs": [],
   "source": [
    "#Add Noise to our MNNIST Dataset by sampling random values from Gaussian distribution\n",
    "#by using np.random.normal() and adding it to our original images to change pixel values\n",
    "\n",
    "noise_factor = 0.5\n",
    "x_train_noisy = x_train + noise_factor * np.random.normal(loc=0.0, scale=1.0, size=x_train.shape)\n",
    "x_test_noisy = x_test + noise_factor * np.random.normal(loc=0.0, scale=1.0, size=x_test.shape)\n",
    "x_train_noisy = np.clip(x_train_noisy, 0., 1.)\n",
    "x_test_noisy = np.clip(x_test_noisy, 0., 1.)"
   ]
  },
  {
   "cell_type": "code",
   "execution_count": 6,
   "metadata": {},
   "outputs": [
    {
     "data": {
      "image/png": "[encoded data removed]",
      "text/plain": [
       "<Figure size 1440x144 with 10 Axes>"
      ]
     },
     "metadata": {
      "needs_background": "light"
     },
     "output_type": "display_data"
    }
   ],
   "source": [
    "# Visualising the Noisy Digits using Matplotlib\n",
    "n = 10 #change this number to visualise more digits.\n",
    "plt.figure(figsize=(20, 2))\n",
    "for i in range(n):\n",
    "    ax = plt.subplot(1, n, i+1)\n",
    "    plt.imshow(x_test_noisy[i].reshape(28, 28))\n",
    "    plt.gray()\n",
    "    ax.get_xaxis().set_visible(False)\n",
    "    ax.get_yaxis().set_visible(False)\n",
    "plt.show()"
   ]
  },
  {
   "cell_type": "code",
   "execution_count": 7,
   "metadata": {},
   "outputs": [
    {
     "name": "stdout",
     "output_type": "stream",
     "text": [
      "WARNING:tensorflow:From /home/sima/anaconda3/envs/tf-gpu/lib/python3.7/site-packages/keras/backend/tensorflow_backend.py:74: The name tf.get_default_graph is deprecated. Please use tf.compat.v1.get_default_graph instead.\n",
      "\n",
      "WARNING:tensorflow:From /home/sima/anaconda3/envs/tf-gpu/lib/python3.7/site-packages/keras/backend/tensorflow_backend.py:517: The name tf.placeholder is deprecated. Please use tf.compat.v1.placeholder instead.\n",
      "\n"
     ]
    }
   ],
   "source": [
    "# Specify the Input Layer size which is 28x28x1\n",
    "input_img = Input(shape=(28, 28, 1))"
   ]
  },
  {
   "cell_type": "code",
   "execution_count": 8,
   "metadata": {},
   "outputs": [
    {
     "name": "stdout",
     "output_type": "stream",
     "text": [
      "WARNING:tensorflow:From /home/sima/anaconda3/envs/tf-gpu/lib/python3.7/site-packages/keras/backend/tensorflow_backend.py:4138: The name tf.random_uniform is deprecated. Please use tf.random.uniform instead.\n",
      "\n",
      "WARNING:tensorflow:From /home/sima/anaconda3/envs/tf-gpu/lib/python3.7/site-packages/keras/backend/tensorflow_backend.py:3976: The name tf.nn.max_pool is deprecated. Please use tf.nn.max_pool2d instead.\n",
      "\n",
      "WARNING:tensorflow:From /home/sima/anaconda3/envs/tf-gpu/lib/python3.7/site-packages/keras/backend/tensorflow_backend.py:2018: The name tf.image.resize_nearest_neighbor is deprecated. Please use tf.compat.v1.image.resize_nearest_neighbor instead.\n",
      "\n",
      "WARNING:tensorflow:From /home/sima/anaconda3/envs/tf-gpu/lib/python3.7/site-packages/keras/optimizers.py:790: The name tf.train.Optimizer is deprecated. Please use tf.compat.v1.train.Optimizer instead.\n",
      "\n",
      "WARNING:tensorflow:From /home/sima/anaconda3/envs/tf-gpu/lib/python3.7/site-packages/keras/backend/tensorflow_backend.py:3376: The name tf.log is deprecated. Please use tf.math.log instead.\n",
      "\n",
      "WARNING:tensorflow:From /home/sima/anaconda3/envs/tf-gpu/lib/python3.7/site-packages/tensorflow_core/python/ops/nn_impl.py:183: where (from tensorflow.python.ops.array_ops) is deprecated and will be removed in a future version.\n",
      "Instructions for updating:\n",
      "Use tf.where in 2.0, which has the same broadcast rule as np.where\n"
     ]
    }
   ],
   "source": [
    "# Model Construction\n",
    "x = Conv2D(32, (3, 3), activation='relu', padding='same')(input_img)\n",
    "x = MaxPooling2D((2, 2), padding='same')(x)\n",
    "x = Conv2D(32, (3, 3), activation='relu', padding='same')(x)\n",
    "encoded = MaxPooling2D((2, 2), padding='same')(x)\n",
    "# At this point the representation is (7, 7, 32)\n",
    "x = Conv2D(32, (3, 3), activation='relu', padding='same')(encoded)\n",
    "x = UpSampling2D((2, 2))(x)\n",
    "x = Conv2D(32, (3, 3), activation='relu', padding='same')(x)\n",
    "x = UpSampling2D((2, 2))(x)\n",
    "decoded = Conv2D(1, (3, 3), activation='sigmoid', padding='same')(x)\n",
    "autoencoder = Model(input_img, decoded)\n",
    "autoencoder.compile(optimizer='adam', loss='binary_crossentropy')"
   ]
  },
  {
   "cell_type": "code",
   "execution_count": 9,
   "metadata": {},
   "outputs": [
    {
     "name": "stdout",
     "output_type": "stream",
     "text": [
      "WARNING:tensorflow:From /home/sima/anaconda3/envs/tf-gpu/lib/python3.7/site-packages/keras/backend/tensorflow_backend.py:986: The name tf.assign_add is deprecated. Please use tf.compat.v1.assign_add instead.\n",
      "\n",
      "WARNING:tensorflow:From /home/sima/anaconda3/envs/tf-gpu/lib/python3.7/site-packages/keras/backend/tensorflow_backend.py:973: The name tf.assign is deprecated. Please use tf.compat.v1.assign instead.\n",
      "\n",
      "WARNING:tensorflow:From /home/sima/anaconda3/envs/tf-gpu/lib/python3.7/site-packages/keras/backend/tensorflow_backend.py:2741: The name tf.Session is deprecated. Please use tf.compat.v1.Session instead.\n",
      "\n",
      "Train on 60000 samples, validate on 10000 samples\n",
      "Epoch 1/100\n",
      "WARNING:tensorflow:From /home/sima/anaconda3/envs/tf-gpu/lib/python3.7/site-packages/keras/backend/tensorflow_backend.py:174: The name tf.get_default_session is deprecated. Please use tf.compat.v1.get_default_session instead.\n",
      "\n",
      "WARNING:tensorflow:From /home/sima/anaconda3/envs/tf-gpu/lib/python3.7/site-packages/keras/backend/tensorflow_backend.py:181: The name tf.ConfigProto is deprecated. Please use tf.compat.v1.ConfigProto instead.\n",
      "\n",
      "WARNING:tensorflow:From /home/sima/anaconda3/envs/tf-gpu/lib/python3.7/site-packages/keras/backend/tensorflow_backend.py:190: The name tf.global_variables is deprecated. Please use tf.compat.v1.global_variables instead.\n",
      "\n",
      "WARNING:tensorflow:From /home/sima/anaconda3/envs/tf-gpu/lib/python3.7/site-packages/keras/backend/tensorflow_backend.py:199: The name tf.is_variable_initialized is deprecated. Please use tf.compat.v1.is_variable_initialized instead.\n",
      "\n",
      "WARNING:tensorflow:From /home/sima/anaconda3/envs/tf-gpu/lib/python3.7/site-packages/keras/backend/tensorflow_backend.py:206: The name tf.variables_initializer is deprecated. Please use tf.compat.v1.variables_initializer instead.\n",
      "\n",
      "60000/60000 [==============================] - 36s 594us/step - loss: 0.1679 - val_loss: 0.1137\n",
      "Epoch 2/100\n",
      "60000/60000 [==============================] - 28s 458us/step - loss: 0.1110 - val_loss: 0.1066\n",
      "Epoch 3/100\n",
      "60000/60000 [==============================] - 27s 458us/step - loss: 0.1063 - val_loss: 0.1034\n",
      "Epoch 4/100\n",
      "60000/60000 [==============================] - 27s 457us/step - loss: 0.1037 - val_loss: 0.1015\n",
      "Epoch 5/100\n",
      "60000/60000 [==============================] - 28s 458us/step - loss: 0.1020 - val_loss: 0.1004\n",
      "Epoch 6/100\n",
      "60000/60000 [==============================] - 27s 458us/step - loss: 0.1007 - val_loss: 0.0994\n",
      "Epoch 7/100\n",
      "60000/60000 [==============================] - 28s 459us/step - loss: 0.0996 - val_loss: 0.0983\n",
      "Epoch 8/100\n",
      "60000/60000 [==============================] - 27s 458us/step - loss: 0.0989 - val_loss: 0.0977\n",
      "Epoch 9/100\n",
      "60000/60000 [==============================] - 27s 458us/step - loss: 0.0983 - val_loss: 0.0973\n",
      "Epoch 10/100\n",
      "60000/60000 [==============================] - 27s 458us/step - loss: 0.0978 - val_loss: 0.0970\n",
      "Epoch 11/100\n",
      "60000/60000 [==============================] - 28s 458us/step - loss: 0.0974 - val_loss: 0.0966\n",
      "Epoch 12/100\n",
      "60000/60000 [==============================] - 27s 458us/step - loss: 0.0970 - val_loss: 0.0964\n",
      "Epoch 13/100\n",
      "60000/60000 [==============================] - 27s 458us/step - loss: 0.0967 - val_loss: 0.0959\n",
      "Epoch 14/100\n",
      "60000/60000 [==============================] - 27s 457us/step - loss: 0.0964 - val_loss: 0.0957\n",
      "Epoch 15/100\n",
      "60000/60000 [==============================] - 27s 458us/step - loss: 0.0962 - val_loss: 0.0954\n",
      "Epoch 16/100\n",
      "60000/60000 [==============================] - 27s 458us/step - loss: 0.0960 - val_loss: 0.0958\n",
      "Epoch 17/100\n",
      "60000/60000 [==============================] - 27s 457us/step - loss: 0.0958 - val_loss: 0.0955\n",
      "Epoch 18/100\n",
      "60000/60000 [==============================] - 27s 458us/step - loss: 0.0956 - val_loss: 0.0950\n",
      "Epoch 19/100\n",
      "60000/60000 [==============================] - 27s 458us/step - loss: 0.0955 - val_loss: 0.0950\n",
      "Epoch 20/100\n",
      "60000/60000 [==============================] - 27s 457us/step - loss: 0.0953 - val_loss: 0.0947\n",
      "Epoch 21/100\n",
      "60000/60000 [==============================] - 27s 457us/step - loss: 0.0952 - val_loss: 0.0944\n",
      "Epoch 22/100\n",
      "60000/60000 [==============================] - 27s 457us/step - loss: 0.0951 - val_loss: 0.0944\n",
      "Epoch 23/100\n",
      "60000/60000 [==============================] - 27s 458us/step - loss: 0.0949 - val_loss: 0.0944\n",
      "Epoch 24/100\n",
      "60000/60000 [==============================] - 27s 458us/step - loss: 0.0948 - val_loss: 0.0944\n",
      "Epoch 25/100\n",
      "60000/60000 [==============================] - 27s 458us/step - loss: 0.0948 - val_loss: 0.0942\n",
      "Epoch 26/100\n",
      "60000/60000 [==============================] - 27s 458us/step - loss: 0.0946 - val_loss: 0.0944\n",
      "Epoch 27/100\n",
      "60000/60000 [==============================] - 27s 458us/step - loss: 0.0946 - val_loss: 0.0942\n",
      "Epoch 28/100\n",
      "60000/60000 [==============================] - 27s 458us/step - loss: 0.0945 - val_loss: 0.0940\n",
      "Epoch 29/100\n",
      "60000/60000 [==============================] - 27s 457us/step - loss: 0.0944 - val_loss: 0.0940\n",
      "Epoch 30/100\n",
      "60000/60000 [==============================] - 27s 458us/step - loss: 0.0944 - val_loss: 0.0942\n",
      "Epoch 31/100\n",
      "60000/60000 [==============================] - 27s 458us/step - loss: 0.0943 - val_loss: 0.0944\n",
      "Epoch 32/100\n",
      "60000/60000 [==============================] - 27s 458us/step - loss: 0.0942 - val_loss: 0.0938\n",
      "Epoch 33/100\n",
      "60000/60000 [==============================] - 27s 458us/step - loss: 0.0942 - val_loss: 0.0938\n",
      "Epoch 34/100\n",
      "60000/60000 [==============================] - 27s 457us/step - loss: 0.0942 - val_loss: 0.0937\n",
      "Epoch 35/100\n",
      "60000/60000 [==============================] - 27s 457us/step - loss: 0.0941 - val_loss: 0.0940\n",
      "Epoch 36/100\n",
      "60000/60000 [==============================] - 27s 457us/step - loss: 0.0941 - val_loss: 0.0937\n",
      "Epoch 37/100\n",
      "60000/60000 [==============================] - 27s 458us/step - loss: 0.0940 - val_loss: 0.0937\n",
      "Epoch 38/100\n",
      "60000/60000 [==============================] - 28s 458us/step - loss: 0.0940 - val_loss: 0.0936\n",
      "Epoch 39/100\n",
      "60000/60000 [==============================] - 27s 457us/step - loss: 0.0939 - val_loss: 0.0938\n",
      "Epoch 40/100\n",
      "60000/60000 [==============================] - 27s 458us/step - loss: 0.0939 - val_loss: 0.0936\n",
      "Epoch 41/100\n",
      "60000/60000 [==============================] - 27s 458us/step - loss: 0.0939 - val_loss: 0.0936\n",
      "Epoch 42/100\n",
      "60000/60000 [==============================] - 27s 457us/step - loss: 0.0938 - val_loss: 0.0937\n",
      "Epoch 43/100\n",
      "60000/60000 [==============================] - 27s 458us/step - loss: 0.0938 - val_loss: 0.0935\n",
      "Epoch 44/100\n",
      "60000/60000 [==============================] - 27s 458us/step - loss: 0.0938 - val_loss: 0.0935\n",
      "Epoch 45/100\n",
      "60000/60000 [==============================] - 27s 458us/step - loss: 0.0938 - val_loss: 0.0934\n",
      "Epoch 46/100\n",
      "60000/60000 [==============================] - 27s 457us/step - loss: 0.0937 - val_loss: 0.0934\n",
      "Epoch 47/100\n",
      "60000/60000 [==============================] - 27s 458us/step - loss: 0.0937 - val_loss: 0.0934\n",
      "Epoch 48/100\n",
      "60000/60000 [==============================] - 27s 458us/step - loss: 0.0937 - val_loss: 0.0933\n",
      "Epoch 49/100\n",
      "60000/60000 [==============================] - 28s 459us/step - loss: 0.0936 - val_loss: 0.0934\n",
      "Epoch 50/100\n",
      "60000/60000 [==============================] - 28s 458us/step - loss: 0.0937 - val_loss: 0.0933\n",
      "Epoch 51/100\n",
      "60000/60000 [==============================] - 27s 458us/step - loss: 0.0936 - val_loss: 0.0933\n",
      "Epoch 52/100\n",
      "60000/60000 [==============================] - 28s 458us/step - loss: 0.0936 - val_loss: 0.0935\n",
      "Epoch 53/100\n",
      "60000/60000 [==============================] - 27s 458us/step - loss: 0.0936 - val_loss: 0.0932\n",
      "Epoch 54/100\n",
      "60000/60000 [==============================] - 27s 458us/step - loss: 0.0936 - val_loss: 0.0932\n",
      "Epoch 55/100\n",
      "60000/60000 [==============================] - 27s 458us/step - loss: 0.0935 - val_loss: 0.0934\n",
      "Epoch 56/100\n",
      "60000/60000 [==============================] - 27s 458us/step - loss: 0.0935 - val_loss: 0.0932\n",
      "Epoch 57/100\n",
      "60000/60000 [==============================] - 28s 458us/step - loss: 0.0935 - val_loss: 0.0932\n",
      "Epoch 58/100\n",
      "60000/60000 [==============================] - 27s 458us/step - loss: 0.0935 - val_loss: 0.0931\n",
      "Epoch 59/100\n",
      "60000/60000 [==============================] - 28s 458us/step - loss: 0.0934 - val_loss: 0.0932\n"
     ]
    },
    {
     "name": "stdout",
     "output_type": "stream",
     "text": [
      "Epoch 60/100\n",
      "60000/60000 [==============================] - 27s 458us/step - loss: 0.0934 - val_loss: 0.0936\n",
      "Epoch 61/100\n",
      "60000/60000 [==============================] - 27s 458us/step - loss: 0.0934 - val_loss: 0.0932\n",
      "Epoch 62/100\n",
      "60000/60000 [==============================] - 28s 458us/step - loss: 0.0934 - val_loss: 0.0931\n",
      "Epoch 63/100\n",
      "60000/60000 [==============================] - 27s 458us/step - loss: 0.0934 - val_loss: 0.0931\n",
      "Epoch 64/100\n",
      "60000/60000 [==============================] - 27s 458us/step - loss: 0.0934 - val_loss: 0.0932\n",
      "Epoch 65/100\n",
      "60000/60000 [==============================] - 28s 459us/step - loss: 0.0933 - val_loss: 0.0931\n",
      "Epoch 66/100\n",
      "60000/60000 [==============================] - 28s 459us/step - loss: 0.0933 - val_loss: 0.0932\n",
      "Epoch 67/100\n",
      "60000/60000 [==============================] - 27s 458us/step - loss: 0.0933 - val_loss: 0.0932\n",
      "Epoch 68/100\n",
      "60000/60000 [==============================] - 27s 457us/step - loss: 0.0933 - val_loss: 0.0932\n",
      "Epoch 69/100\n",
      "60000/60000 [==============================] - 28s 459us/step - loss: 0.0933 - val_loss: 0.0931\n",
      "Epoch 70/100\n",
      "60000/60000 [==============================] - 27s 457us/step - loss: 0.0933 - val_loss: 0.0931\n",
      "Epoch 71/100\n",
      "60000/60000 [==============================] - 27s 458us/step - loss: 0.0932 - val_loss: 0.0932\n",
      "Epoch 72/100\n",
      "60000/60000 [==============================] - 27s 458us/step - loss: 0.0932 - val_loss: 0.0930\n",
      "Epoch 73/100\n",
      "60000/60000 [==============================] - 27s 457us/step - loss: 0.0933 - val_loss: 0.0932\n",
      "Epoch 74/100\n",
      "60000/60000 [==============================] - 27s 458us/step - loss: 0.0932 - val_loss: 0.0931\n",
      "Epoch 75/100\n",
      "60000/60000 [==============================] - 27s 458us/step - loss: 0.0932 - val_loss: 0.0931\n",
      "Epoch 76/100\n",
      "60000/60000 [==============================] - 27s 458us/step - loss: 0.0932 - val_loss: 0.0931\n",
      "Epoch 77/100\n",
      "60000/60000 [==============================] - 27s 458us/step - loss: 0.0932 - val_loss: 0.0931\n",
      "Epoch 78/100\n",
      "60000/60000 [==============================] - 27s 458us/step - loss: 0.0932 - val_loss: 0.0930\n",
      "Epoch 79/100\n",
      "60000/60000 [==============================] - 27s 458us/step - loss: 0.0932 - val_loss: 0.0931\n",
      "Epoch 80/100\n",
      "60000/60000 [==============================] - 27s 458us/step - loss: 0.0932 - val_loss: 0.0929\n",
      "Epoch 81/100\n",
      "60000/60000 [==============================] - 27s 458us/step - loss: 0.0932 - val_loss: 0.0931\n",
      "Epoch 82/100\n",
      "60000/60000 [==============================] - 27s 458us/step - loss: 0.0931 - val_loss: 0.0931\n",
      "Epoch 83/100\n",
      "60000/60000 [==============================] - 27s 458us/step - loss: 0.0931 - val_loss: 0.0929\n",
      "Epoch 84/100\n",
      "60000/60000 [==============================] - 27s 458us/step - loss: 0.0931 - val_loss: 0.0932\n",
      "Epoch 85/100\n",
      "60000/60000 [==============================] - 27s 458us/step - loss: 0.0931 - val_loss: 0.0930\n",
      "Epoch 86/100\n",
      "60000/60000 [==============================] - 27s 458us/step - loss: 0.0931 - val_loss: 0.0930\n",
      "Epoch 87/100\n",
      "60000/60000 [==============================] - 28s 459us/step - loss: 0.0931 - val_loss: 0.0931\n",
      "Epoch 88/100\n",
      "60000/60000 [==============================] - 27s 458us/step - loss: 0.0931 - val_loss: 0.0930\n",
      "Epoch 89/100\n",
      "60000/60000 [==============================] - 28s 459us/step - loss: 0.0931 - val_loss: 0.0930\n",
      "Epoch 90/100\n",
      "60000/60000 [==============================] - 27s 458us/step - loss: 0.0930 - val_loss: 0.0929\n",
      "Epoch 91/100\n",
      "60000/60000 [==============================] - 27s 458us/step - loss: 0.0930 - val_loss: 0.0936\n",
      "Epoch 92/100\n",
      "60000/60000 [==============================] - 28s 458us/step - loss: 0.0931 - val_loss: 0.0933\n",
      "Epoch 93/100\n",
      "60000/60000 [==============================] - 27s 458us/step - loss: 0.0930 - val_loss: 0.0930\n",
      "Epoch 94/100\n",
      "60000/60000 [==============================] - 27s 458us/step - loss: 0.0930 - val_loss: 0.0929\n",
      "Epoch 95/100\n",
      "60000/60000 [==============================] - 27s 457us/step - loss: 0.0930 - val_loss: 0.0930\n",
      "Epoch 96/100\n",
      "60000/60000 [==============================] - 28s 459us/step - loss: 0.0930 - val_loss: 0.0934\n",
      "Epoch 97/100\n",
      "60000/60000 [==============================] - 28s 459us/step - loss: 0.0930 - val_loss: 0.0932\n",
      "Epoch 98/100\n",
      "60000/60000 [==============================] - 27s 458us/step - loss: 0.0930 - val_loss: 0.0933\n",
      "Epoch 99/100\n",
      "60000/60000 [==============================] - 27s 458us/step - loss: 0.0930 - val_loss: 0.0929\n",
      "Epoch 100/100\n",
      "60000/60000 [==============================] - 27s 458us/step - loss: 0.0930 - val_loss: 0.0929\n"
     ]
    },
    {
     "data": {
      "text/plain": [
       "<keras.callbacks.History at 0x7f3b9a890110>"
      ]
     },
     "execution_count": 9,
     "metadata": {},
     "output_type": "execute_result"
    }
   ],
   "source": [
    "autoencoder.fit(x_train_noisy, x_train,\n",
    "    epochs=100,\n",
    "    batch_size=128,\n",
    "    shuffle=True,\n",
    "    validation_data=(x_test_noisy, x_test),\n",
    ")"
   ]
  },
  {
   "cell_type": "code",
   "execution_count": 11,
   "metadata": {},
   "outputs": [],
   "source": [
    "img_pred = autoencoder.predict(x_test_noisy[:1])"
   ]
  },
  {
   "cell_type": "code",
   "execution_count": 13,
   "metadata": {},
   "outputs": [
    {
     "data": {
      "text/plain": [
       "<matplotlib.image.AxesImage at 0x7f3ab60a0650>"
      ]
     },
     "execution_count": 13,
     "metadata": {},
     "output_type": "execute_result"
    },
    {
     "data": {
      "image/png": "[encoded data removed]",
      "text/plain": [
       "<Figure size 432x288 with 1 Axes>"
      ]
     },
     "metadata": {
      "needs_background": "light"
     },
     "output_type": "display_data"
    }
   ],
   "source": [
    "plt.imshow(x_test_noisy[0].reshape((28, 28)))"
   ]
  },
  {
   "cell_type": "code",
   "execution_count": 14,
   "metadata": {},
   "outputs": [
    {
     "data": {
      "text/plain": [
       "<matplotlib.image.AxesImage at 0x7f3ab5f86e50>"
      ]
     },
     "execution_count": 14,
     "metadata": {},
     "output_type": "execute_result"
    },
    {
     "data": {
      "image/png": "[encoded data removed]",
      "text/plain": [
       "<Figure size 432x288 with 1 Axes>"
      ]
     },
     "metadata": {
      "needs_background": "light"
     },
     "output_type": "display_data"
    }
   ],
   "source": [
    "plt.imshow(img_pred.reshape((28, 28)))"
   ]
  },
  {
   "cell_type": "code",
   "execution_count": 15,
   "metadata": {},
   "outputs": [],
   "source": [
    "img_pred = autoencoder.predict(x_test_noisy[1:2])"
   ]
  },
  {
   "cell_type": "code",
   "execution_count": 16,
   "metadata": {},
   "outputs": [
    {
     "data": {
      "text/plain": [
       "<matplotlib.image.AxesImage at 0x7f3ab5eef850>"
      ]
     },
     "execution_count": 16,
     "metadata": {},
     "output_type": "execute_result"
    },
    {
     "data": {
      "image/png": "[encoded data removed]",
      "text/plain": [
       "<Figure size 432x288 with 1 Axes>"
      ]
     },
     "metadata": {
      "needs_background": "light"
     },
     "output_type": "display_data"
    }
   ],
   "source": [
    "plt.imshow(x_test_noisy[1].reshape((28, 28)))"
   ]
  },
  {
   "cell_type": "code",
   "execution_count": 17,
   "metadata": {},
   "outputs": [
    {
     "data": {
      "text/plain": [
       "<matplotlib.image.AxesImage at 0x7f3ab5ed0810>"
      ]
     },
     "execution_count": 17,
     "metadata": {},
     "output_type": "execute_result"
    },
    {
     "data": {
      "image/png": "[encoded data removed]",
      "text/plain": [
       "<Figure size 432x288 with 1 Axes>"
      ]
     },
     "metadata": {
      "needs_background": "light"
     },
     "output_type": "display_data"
    }
   ],
   "source": [
    "plt.imshow(img_pred.reshape((28, 28)))"
   ]
  },
  {
   "cell_type": "markdown",
   "metadata": {},
   "source": [
    "### Работает!"
   ]
  },
  {
   "cell_type": "code",
   "execution_count": null,
   "metadata": {},
   "outputs": [],
   "source": []
  }
 ],
 "metadata": {
  "kernelspec": {
   "display_name": "Python (tf-gpu)",
   "language": "python",
   "name": "tf-gpu"
  },
  "language_info": {
   "codemirror_mode": {
    "name": "ipython",
    "version": 3
   },
   "file_extension": ".py",
   "mimetype": "text/x-python",
   "name": "python",
   "nbconvert_exporter": "python",
   "pygments_lexer": "ipython3",
   "version": "3.7.5"
  }
 },
 "nbformat": 4,
 "nbformat_minor": 2
}
