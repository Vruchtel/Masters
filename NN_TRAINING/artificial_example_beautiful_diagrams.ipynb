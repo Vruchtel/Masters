{
 "cells": [
  {
   "cell_type": "markdown",
   "metadata": {},
   "source": [
    "В этом ноутбуке скопипастим какую-то часть `artificial_example.ipynb` с целью получить красивые картинки диаграмм. Всего нужно 3 диаграммы:\n",
    "\n",
    "- оригинальная диаграмма агента\n",
    "- диаграмма для центра квадрата, в котором агент находится (должна быть максимально похожа на диаграмму агента)\n",
    "- диаграмма для центра любого другого квадрата, в котором агент не находится (должна максимально отличаться)"
   ]
  },
  {
   "cell_type": "markdown",
   "metadata": {},
   "source": [
    "### Сначала просто копипастим построение искусственного примера"
   ]
  },
  {
   "cell_type": "code",
   "execution_count": 1,
   "metadata": {},
   "outputs": [],
   "source": [
    "import os\n",
    "import pickle\n",
    "import numpy as np\n",
    "import matplotlib.pyplot as plt\n",
    "import cv2"
   ]
  },
  {
   "cell_type": "code",
   "execution_count": 2,
   "metadata": {},
   "outputs": [],
   "source": [
    "import sys\n",
    "sys.path.append('..')\n",
    "from rectangles_drawing import calculate_one_pixels_diffs\n",
    "from osm_object import Image_OSM_object\n",
    "\n",
    "from circle_diagram import calculate_sectors_count, create_circle_diagram\n",
    "from circle_diagram import Image_circle_diagrams\n",
    "\n",
    "from utils import read_pickle, dump_pickle"
   ]
  },
  {
   "cell_type": "code",
   "execution_count": null,
   "metadata": {},
   "outputs": [],
   "source": []
  },
  {
   "cell_type": "code",
   "execution_count": 3,
   "metadata": {},
   "outputs": [],
   "source": [
    "mask = np.zeros((300, 400))"
   ]
  },
  {
   "cell_type": "code",
   "execution_count": 4,
   "metadata": {},
   "outputs": [],
   "source": [
    "wood_mask = mask.copy()\n",
    "wood_mask[50:100, 35:100] = 1\n",
    "wood_mask[255:270, 150:165] = 1"
   ]
  },
  {
   "cell_type": "code",
   "execution_count": 5,
   "metadata": {},
   "outputs": [],
   "source": [
    "water_mask = mask.copy()\n",
    "water_mask[170:240, 200:300] = 1\n",
    "water_mask[45:90, 320:380] = 1"
   ]
  },
  {
   "cell_type": "code",
   "execution_count": 6,
   "metadata": {},
   "outputs": [
    {
     "data": {
      "image/png": "[encoded data removed]",
      "text/plain": [
       "<Figure size 864x648 with 3 Axes>"
      ]
     },
     "metadata": {
      "needs_background": "light"
     },
     "output_type": "display_data"
    }
   ],
   "source": [
    "plt.figure(figsize=(12, 9))\n",
    "\n",
    "plt.subplot(131)\n",
    "plt.imshow(mask)\n",
    "\n",
    "plt.subplot(132)\n",
    "plt.title('Wood mask')\n",
    "plt.imshow(wood_mask)\n",
    "\n",
    "plt.subplot(133)\n",
    "plt.title('Water mask')\n",
    "plt.imshow(water_mask)\n",
    "\n",
    "plt.show()"
   ]
  },
  {
   "cell_type": "code",
   "execution_count": null,
   "metadata": {},
   "outputs": [],
   "source": []
  },
  {
   "cell_type": "code",
   "execution_count": 7,
   "metadata": {},
   "outputs": [],
   "source": [
    "H, W = 300, 400\n",
    "\n",
    "def rectangle_to_coords(rectangle, right_top_lat, right_top_lon, left_bottom_lat, left_bottom_lon):\n",
    "    x1, x2, y1, y2 = rectangle\n",
    "    \n",
    "    one_pixel_lat_diff, one_pixel_lon_diff = calculate_one_pixels_diffs(right_top_lat, right_top_lon, \n",
    "                                                                    left_bottom_lat, left_bottom_lon, (H, W))\n",
    "    \n",
    "    minlat = right_top_lat - (x2 * one_pixel_lat_diff)\n",
    "    maxlat = right_top_lat - (x1 * one_pixel_lat_diff)\n",
    "    minlon = left_bottom_lon + (y1 * one_pixel_lon_diff)\n",
    "    maxlon = left_bottom_lon + (y2 * one_pixel_lon_diff)\n",
    "    \n",
    "    return minlat, maxlat, minlon, maxlon"
   ]
  },
  {
   "cell_type": "code",
   "execution_count": 8,
   "metadata": {},
   "outputs": [],
   "source": [
    "# right_top_lat, right_top_lon, left_bottom_lat, left_bottom_lon отберём у какой-нибудь существующей картинки\n",
    "corners_folder = '../dataset/corners'\n",
    "corners = read_pickle(os.path.join(corners_folder, '224.pickle'))\n",
    "\n",
    "right_top_lat = corners['right_top_lat']\n",
    "right_top_lon = corners['right_top_lon']\n",
    "left_bottom_lat = corners['left_bottom_lat']\n",
    "left_bottom_lon = corners['left_bottom_lon']"
   ]
  },
  {
   "cell_type": "code",
   "execution_count": 9,
   "metadata": {},
   "outputs": [],
   "source": [
    "def predict_one(autoencoder, img, thresh):\n",
    "    return autoencoder.predict(np.array([img / 255.]).reshape(([1] + list(img.shape))))[0] >= thresh\n",
    "\n",
    "\n",
    "def mask_to_rectangles(mask):\n",
    "    visited = np.zeros(mask.shape[:2], dtype=int)\n",
    "    queue = []\n",
    "    rectangles = []\n",
    "    \n",
    "    queue_idx = 0\n",
    "\n",
    "    for x in range(mask.shape[0]):\n",
    "        for y in range(mask.shape[1]):\n",
    "            # первая непосещённая вершина\n",
    "            if visited[x][y] == 0 and mask[x][y]:\n",
    "                cur_vertex = (x, y)\n",
    "            else:\n",
    "                continue\n",
    "        \n",
    "            queue.append(cur_vertex)\n",
    "        \n",
    "            def bfs(queue_idx):\n",
    "                min_x, max_x, min_y, max_y = None, None, None, None\n",
    "\n",
    "                while len(queue) != queue_idx:\n",
    "                    v = queue[queue_idx]\n",
    "                    queue_idx += 1\n",
    "\n",
    "                    x, y = v\n",
    "                    if visited[x][y] == 1:\n",
    "                        continue\n",
    "                    visited[x][y] = 1\n",
    "\n",
    "                    if min_x is None or x < min_x:\n",
    "                        min_x = x\n",
    "                    if max_x is None or x > max_x:\n",
    "                        max_x = x\n",
    "                    if min_y is None or y < min_y:\n",
    "                        min_y = y\n",
    "                    if max_y is None or y > max_y:\n",
    "                        max_y = y\n",
    "\n",
    "                    # рассматриваем все соседние непосещённые вершины\n",
    "                    left = (x, y - 1)\n",
    "                    right = (x, y + 1)\n",
    "                    top = (x - 1, y)\n",
    "                    bottom = (x + 1, y)\n",
    "\n",
    "                    def visit_vertex(x, y):\n",
    "                        if x >= 0 and y >= 0 and x < mask.shape[0] and y < mask.shape[1] and visited[x][y] == 0\\\n",
    "                            and mask[x][y]:\n",
    "                                queue.append((x, y))\n",
    "\n",
    "                    visit_vertex(*left)\n",
    "                    visit_vertex(*right)\n",
    "                    visit_vertex(*top)\n",
    "                    visit_vertex(*bottom)\n",
    "\n",
    "                return queue_idx, queue, visited, min_x, max_x, min_y, max_y\n",
    "\n",
    "            queue_idx, queue, visited, min_x, max_x, min_y, max_y = bfs(queue_idx)\n",
    "            if min_x is not None and max_x is not None and min_y is not None and max_y is not None:\n",
    "                rectangles.append((min_x, max_x, min_y, max_y))\n",
    "\n",
    "    return rectangles\n"
   ]
  },
  {
   "cell_type": "code",
   "execution_count": 10,
   "metadata": {},
   "outputs": [
    {
     "name": "stdout",
     "output_type": "stream",
     "text": [
      "[(50, 99, 35, 99), (255, 269, 150, 164)]\n",
      "[(45, 89, 320, 379), (170, 239, 200, 299)]\n"
     ]
    }
   ],
   "source": [
    "rectangles_wood = mask_to_rectangles(wood_mask)\n",
    "print(rectangles_wood)\n",
    "rectangles_water = mask_to_rectangles(water_mask)\n",
    "print(rectangles_water)"
   ]
  },
  {
   "cell_type": "code",
   "execution_count": 11,
   "metadata": {},
   "outputs": [],
   "source": [
    "bounds = []\n",
    "tags = []\n",
    "\n",
    "for r in rectangles_wood:\n",
    "    minlat, maxlat, minlon, maxlon = rectangle_to_coords(r, right_top_lat, right_top_lon, left_bottom_lat, left_bottom_lon)\n",
    "    bounds.append({'maxlon': maxlon, 'minlat': minlat, 'minlon': minlon, 'maxlat': maxlat})\n",
    "    tags.append('wood')\n",
    "    \n",
    "for r in rectangles_water:\n",
    "    minlat, maxlat, minlon, maxlon = rectangle_to_coords(r, right_top_lat, right_top_lon, left_bottom_lat, left_bottom_lon)\n",
    "    bounds.append({'maxlon': maxlon, 'minlat': minlat, 'minlon': minlon, 'maxlat': maxlat})\n",
    "    tags.append('water')"
   ]
  },
  {
   "cell_type": "code",
   "execution_count": 12,
   "metadata": {},
   "outputs": [
    {
     "data": {
      "text/plain": [
       "[[(50, 99, 35, 99),\n",
       "  (255, 269, 150, 164),\n",
       "  (45, 89, 320, 379),\n",
       "  (170, 239, 200, 299)]]"
      ]
     },
     "execution_count": 12,
     "metadata": {},
     "output_type": "execute_result"
    }
   ],
   "source": [
    "rectangles = [rectangles_wood + rectangles_water]\n",
    "rectangles"
   ]
  },
  {
   "cell_type": "code",
   "execution_count": null,
   "metadata": {},
   "outputs": [],
   "source": []
  },
  {
   "cell_type": "code",
   "execution_count": 13,
   "metadata": {},
   "outputs": [],
   "source": [
    "img_shape = (H, W)\n",
    "\n",
    "img_osm = Image_OSM_object(\n",
    "    img_shape,\n",
    "    right_top_lat,\n",
    "    right_top_lon,\n",
    "    left_bottom_lat,\n",
    "    left_bottom_lon,\n",
    "    bounds,\n",
    "    tags\n",
    ")"
   ]
  },
  {
   "cell_type": "code",
   "execution_count": 14,
   "metadata": {},
   "outputs": [
    {
     "data": {
      "text/plain": [
       "[<osm_object.One_OSM_object at 0x7f7862e22450>,\n",
       " <osm_object.One_OSM_object at 0x7f7872657090>,\n",
       " <osm_object.One_OSM_object at 0x7f7862cf41d0>,\n",
       " <osm_object.One_OSM_object at 0x7f7862cf4150>]"
      ]
     },
     "execution_count": 14,
     "metadata": {},
     "output_type": "execute_result"
    }
   ],
   "source": [
    "img_osm.osm_objects"
   ]
  },
  {
   "cell_type": "code",
   "execution_count": null,
   "metadata": {},
   "outputs": [],
   "source": []
  },
  {
   "cell_type": "code",
   "execution_count": 15,
   "metadata": {},
   "outputs": [],
   "source": [
    "bigger_side_blocks_count = 8\n",
    "sectors_count = calculate_sectors_count(bigger_side_blocks_count)\n",
    "\n",
    "img_osm.img_cutted_shape = (img_osm.img_cutted_shape[0], img_osm.img_cutted_shape[1], 3)\n",
    "img_cds = Image_circle_diagrams(img_osm, bigger_side_blocks_count, sectors_count, with_fast=True)"
   ]
  },
  {
   "cell_type": "code",
   "execution_count": 16,
   "metadata": {},
   "outputs": [],
   "source": [
    "points = read_pickle('../dataset/100_random_points.pickle')\n",
    "points_to_centers_6_8 = read_pickle('../dataset/100_points_to_cell_centers_48cells_6x8.pickle')"
   ]
  },
  {
   "cell_type": "code",
   "execution_count": 17,
   "metadata": {},
   "outputs": [],
   "source": [
    "def calculate_cells_probs(img_cds, agent_cd):\n",
    "    \"\"\"\n",
    "    only fast version\n",
    "    \"\"\"\n",
    "    penalties = []\n",
    "    \n",
    "    for i in range(len(img_cds.center_points)):\n",
    "        penalties.append(img_cds.fast_diagrams[i].dist_to(agent_cd.fast_diagram))\n",
    "        \n",
    "    # Добавл. 1e-8 чтобы не было нулей\n",
    "    similaryties = np.max(penalties) - penalties + 1e-8\n",
    "\n",
    "    return similaryties / similaryties.sum()"
   ]
  },
  {
   "cell_type": "code",
   "execution_count": 18,
   "metadata": {},
   "outputs": [],
   "source": [
    "def find_center_point_id(center_points, agent_point):\n",
    "    for i in range(len(center_points)):\n",
    "        if center_points[i] == agent_point:\n",
    "            return i"
   ]
  },
  {
   "cell_type": "code",
   "execution_count": null,
   "metadata": {},
   "outputs": [],
   "source": []
  },
  {
   "cell_type": "code",
   "execution_count": 21,
   "metadata": {},
   "outputs": [],
   "source": [
    "def calculate_cell_probs_for_all_points():\n",
    "    point_to_probs = []\n",
    "    agent_cds = []\n",
    "    \n",
    "    for agent_point in points:\n",
    "        agent_cd = create_circle_diagram(sectors_count, agent_point[::-1], img_osm)\n",
    "        agent_cd.make_fast()\n",
    "        agent_cds.append(agent_cd)\n",
    "        \n",
    "        cell_probs = calculate_cells_probs(img_cds, agent_cd)\n",
    "        \n",
    "        point_to_probs.append((agent_point[::-1], cell_probs))\n",
    "        \n",
    "    return point_to_probs, agent_cds"
   ]
  },
  {
   "cell_type": "code",
   "execution_count": 22,
   "metadata": {},
   "outputs": [],
   "source": [
    "point_to_probs, agent_cds = calculate_cell_probs_for_all_points()"
   ]
  },
  {
   "cell_type": "code",
   "execution_count": 24,
   "metadata": {},
   "outputs": [
    {
     "name": "stdout",
     "output_type": "stream",
     "text": [
      "Для точки (231, 316)\n",
      "Имеем уверенности: ((231, 316), array([1.38168768e-02, 1.25044558e-02, 1.54938592e-02, 1.92852977e-02,\n",
      "       2.23476134e-02, 2.46078940e-02, 3.26647008e-02, 3.15305063e-02,\n",
      "       8.31199976e-03, 1.45824557e-12, 2.95294728e-03, 1.73895784e-02,\n",
      "       1.91394731e-02, 1.86290872e-02, 2.83628764e-02, 2.25298941e-02,\n",
      "       1.81187012e-02, 6.59856121e-03, 1.28690172e-02, 1.97227714e-02,\n",
      "       2.12174731e-02, 2.27850871e-02, 1.03170874e-02, 2.42433326e-02,\n",
      "       1.70979293e-02, 1.65146311e-02, 1.75354030e-02, 2.40975081e-02,\n",
      "       2.76702097e-02, 2.83264202e-02, 2.28579993e-02, 2.55192975e-02,\n",
      "       1.88478240e-02, 1.82645258e-02, 1.83738942e-02, 2.23111572e-02,\n",
      "       2.76337536e-02, 2.50818238e-02, 4.18881040e-02, 2.83264202e-02,\n",
      "       1.98685959e-02, 2.01237889e-02, 1.88599775e-02, 1.50563855e-02,\n",
      "       2.96752974e-02, 3.35396481e-02, 3.01492272e-02, 2.69410869e-02]))\n"
     ]
    }
   ],
   "source": [
    "print(\"Для точки\", point_to_probs[0][0])\n",
    "print(\"Имеем уверенности:\", point_to_probs[0])"
   ]
  },
  {
   "cell_type": "code",
   "execution_count": 25,
   "metadata": {},
   "outputs": [
    {
     "name": "stdout",
     "output_type": "stream",
     "text": [
      "Выбранная центральная точка: (225.0, 325.0)\n"
     ]
    }
   ],
   "source": [
    "probs = point_to_probs[0][1]\n",
    "\n",
    "max_proba_point_id = np.argmax(probs)\n",
    "max_center_point = img_cds.center_points[max_proba_point_id]\n",
    "print(\"Выбранная центральная точка:\", max_center_point)"
   ]
  },
  {
   "cell_type": "code",
   "execution_count": 40,
   "metadata": {},
   "outputs": [
    {
     "name": "stdout",
     "output_type": "stream",
     "text": [
      "Не выбранная точка: (75.0, 75.0)\n"
     ]
    }
   ],
   "source": [
    "min_proba_point_id = np.argmin(probs)\n",
    "min_center_point = img_cds.center_points[min_proba_point_id]\n",
    "print(\"Не выбранная точка:\", min_center_point)"
   ]
  },
  {
   "cell_type": "code",
   "execution_count": 28,
   "metadata": {},
   "outputs": [
    {
     "name": "stdout",
     "output_type": "stream",
     "text": [
      "А должна была быть выбрана точка: (225.0, 325.0)\n"
     ]
    }
   ],
   "source": [
    "need_to_point = points_to_centers_6_8[point_to_probs[0][0][::-1]][::-1]\n",
    "print(\"А должна была быть выбрана точка:\", need_to_point)"
   ]
  },
  {
   "cell_type": "markdown",
   "metadata": {},
   "source": [
    "В общем, угадали правильно"
   ]
  },
  {
   "cell_type": "code",
   "execution_count": 29,
   "metadata": {},
   "outputs": [],
   "source": [
    "correct_cd = create_circle_diagram(sectors_count, max_center_point, img_osm)"
   ]
  },
  {
   "cell_type": "code",
   "execution_count": 41,
   "metadata": {},
   "outputs": [],
   "source": [
    "# Была бы ошибочная диаграмма\n",
    "incorrect_cd = create_circle_diagram(sectors_count, min_center_point, img_osm)"
   ]
  },
  {
   "cell_type": "code",
   "execution_count": 32,
   "metadata": {},
   "outputs": [],
   "source": [
    "def draw_sectors(sectors, shift=0.0, title=None):\n",
    "    plt.figure(figsize=(15, 3))\n",
    "    shift = int(len(sectors) * shift)\n",
    "    for t, c in [('wood', 'orange'), ('water', 'blue')]:\n",
    "        for i, k in enumerate([0.95, 1.0, 1.05, 1.1]):\n",
    "            x = range(len(sectors))\n",
    "            y = [(s[i][1] == t if i < len(s) else 0) for s in sectors]\n",
    "            y = y[shift:] + y[:shift]\n",
    "            if any(y):\n",
    "                plt.plot(x, np.array(y) * k, label=t, color=c)\n",
    "    if title:\n",
    "        plt.title(title)\n",
    "    plt.legend()\n",
    "    plt.show()\n"
   ]
  },
  {
   "cell_type": "code",
   "execution_count": 44,
   "metadata": {},
   "outputs": [
    {
     "data": {
      "image/png": "[encoded data removed]",
      "text/plain": [
       "<Figure size 1080x216 with 1 Axes>"
      ]
     },
     "metadata": {
      "needs_background": "light"
     },
     "output_type": "display_data"
    },
    {
     "data": {
      "image/png": "[encoded data removed]",
      "text/plain": [
       "<Figure size 1080x216 with 1 Axes>"
      ]
     },
     "metadata": {
      "needs_background": "light"
     },
     "output_type": "display_data"
    },
    {
     "data": {
      "image/png": "[encoded data removed]",
      "text/plain": [
       "<Figure size 1080x216 with 1 Axes>"
      ]
     },
     "metadata": {
      "needs_background": "light"
     },
     "output_type": "display_data"
    }
   ],
   "source": [
    "draw_sectors(agent_cds[0].sectors, title='Диаграмма агента')\n",
    "draw_sectors(correct_cd.sectors, title='Диаграмма для центра корректного квадрата', shift=0.1)\n",
    "draw_sectors(incorrect_cd.sectors, title='Диаграмма для центра некорректного квадрата', shift=0.2)"
   ]
  },
  {
   "cell_type": "code",
   "execution_count": null,
   "metadata": {},
   "outputs": [],
   "source": []
  },
  {
   "cell_type": "code",
   "execution_count": null,
   "metadata": {},
   "outputs": [],
   "source": []
  }
 ],
 "metadata": {
  "kernelspec": {
   "display_name": "Python (tf-gpu)",
   "language": "python",
   "name": "tf-gpu"
  },
  "language_info": {
   "codemirror_mode": {
    "name": "ipython",
    "version": 3
   },
   "file_extension": ".py",
   "mimetype": "text/x-python",
   "name": "python",
   "nbconvert_exporter": "python",
   "pygments_lexer": "ipython3",
   "version": "3.7.5"
  }
 },
 "nbformat": 4,
 "nbformat_minor": 2
}
