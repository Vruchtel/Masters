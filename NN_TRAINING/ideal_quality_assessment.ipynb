{
 "cells": [
  {
   "cell_type": "markdown",
   "metadata": {},
   "source": [
    "Ноутбук, в котором будет оценка качества определения местоположения на идеальных данных (когда объекты не детектируются, а известно их оригинальное местоположение)."
   ]
  },
  {
   "cell_type": "markdown",
   "metadata": {},
   "source": [
    "### 1. 100 точек"
   ]
  },
  {
   "cell_type": "markdown",
   "metadata": {},
   "source": [
    "Для оценки качества сгенерируем 100 случайных точек, которые будут предполагаемыми местоположениями агента."
   ]
  },
  {
   "cell_type": "code",
   "execution_count": 1,
   "metadata": {},
   "outputs": [],
   "source": [
    "import random\n",
    "from collections import Counter\n",
    "import matplotlib.pyplot as plt\n",
    "import pickle"
   ]
  },
  {
   "cell_type": "code",
   "execution_count": 4,
   "metadata": {},
   "outputs": [],
   "source": [
    "img_height = 300\n",
    "img_width = 400\n",
    "\n",
    "points_count = 100"
   ]
  },
  {
   "cell_type": "code",
   "execution_count": 16,
   "metadata": {},
   "outputs": [],
   "source": [
    "y_coords = random.choices(range(img_height), k=points_count)\n",
    "x_coords = random.choices(range(img_width), k=points_count)\n",
    "\n",
    "points = list(zip(x_coords, y_coords))"
   ]
  },
  {
   "cell_type": "code",
   "execution_count": 17,
   "metadata": {},
   "outputs": [
    {
     "name": "stdout",
     "output_type": "stream",
     "text": [
      "100\n",
      "[(316, 231), (365, 94), (149, 172), (220, 280), (308, 13)]\n"
     ]
    }
   ],
   "source": [
    "print(len(points))\n",
    "print(points[:5])"
   ]
  },
  {
   "cell_type": "code",
   "execution_count": 18,
   "metadata": {},
   "outputs": [],
   "source": [
    "c = Counter(points)\n",
    "for k, v in c.items():\n",
    "    if v > 1:\n",
    "        print(k, v)"
   ]
  },
  {
   "cell_type": "markdown",
   "metadata": {},
   "source": [
    "Одинаковых точек не обнаружено"
   ]
  },
  {
   "cell_type": "code",
   "execution_count": 27,
   "metadata": {},
   "outputs": [
    {
     "data": {
      "image/png": "[encoded data removed]",
      "text/plain": [
       "<Figure size 576x432 with 1 Axes>"
      ]
     },
     "metadata": {
      "needs_background": "light"
     },
     "output_type": "display_data"
    }
   ],
   "source": [
    "plt.figure(figsize=(8, 6))\n",
    "plt.scatter(x_coords, y_coords)\n",
    "plt.xlim(0, 400)\n",
    "plt.ylim(0, 300)\n",
    "plt.show()"
   ]
  },
  {
   "cell_type": "markdown",
   "metadata": {},
   "source": [
    "Вот такие получились точки. Сохраним их"
   ]
  },
  {
   "cell_type": "code",
   "execution_count": 30,
   "metadata": {},
   "outputs": [],
   "source": [
    "with open('../dataset/100_random_points.pickle', 'wb') as f:\n",
    "    pickle.dump(points, f)"
   ]
  },
  {
   "cell_type": "markdown",
   "metadata": {},
   "source": [
    "### 2. Зафиксируем разбиение, и для каждой из 100 точек определим квадрат в который эта точка должна попасть"
   ]
  },
  {
   "cell_type": "markdown",
   "metadata": {},
   "source": [
    "Для начала выберем разбиение, где большая сторона разбивается на 8 клеток."
   ]
  },
  {
   "cell_type": "code",
   "execution_count": 33,
   "metadata": {},
   "outputs": [
    {
     "name": "stdout",
     "output_type": "stream",
     "text": [
      "50.0\n"
     ]
    }
   ],
   "source": [
    "bigger_side_split = 8\n",
    "one_cell_len = img_width / bigger_side_split\n",
    "print(one_cell_len)"
   ]
  },
  {
   "cell_type": "code",
   "execution_count": 34,
   "metadata": {},
   "outputs": [],
   "source": [
    "centers = []\n",
    "\n",
    "x = one_cell_len / 2\n",
    "y = one_cell_len / 2\n",
    "\n",
    "while x < img_width:\n",
    "    while y < img_height:\n",
    "        centers.append((x, y))\n",
    "        y += one_cell_len\n",
    "    y = one_cell_len / 2\n",
    "    x += one_cell_len\n",
    "    "
   ]
  },
  {
   "cell_type": "code",
   "execution_count": 53,
   "metadata": {},
   "outputs": [
    {
     "data": {
      "image/png": "[encoded data removed]",
      "text/plain": [
       "<Figure size 576x432 with 1 Axes>"
      ]
     },
     "metadata": {
      "needs_background": "light"
     },
     "output_type": "display_data"
    }
   ],
   "source": [
    "x_centers = [p[0] for p in centers]\n",
    "y_centers = [p[1] for p in centers]\n",
    "\n",
    "plt.figure(figsize=(8, 6))\n",
    "plt.scatter(x_centers, y_centers, color='red', s=50)\n",
    "plt.scatter(x_coords, y_coords)\n",
    "plt.grid()\n",
    "plt.xlim(0, 400)\n",
    "plt.ylim(0, 300)\n",
    "plt.show()"
   ]
  },
  {
   "cell_type": "markdown",
   "metadata": {},
   "source": [
    "Красным цветом обозначены цетры ячеек. Синим - сгенерированные точки."
   ]
  },
  {
   "cell_type": "code",
   "execution_count": 45,
   "metadata": {},
   "outputs": [],
   "source": [
    "point_to_cell_center = {}\n",
    "\n",
    "for x_point, y_point in points:\n",
    "    center_point = None\n",
    "    \n",
    "    bottom_cell_y = one_cell_len\n",
    "    right_cell_x = one_cell_len\n",
    "    \n",
    "    while bottom_cell_y <= img_height and center_point is None:\n",
    "        while right_cell_x <= img_width and center_point is None:\n",
    "            if x_point <= right_cell_x and y_point <= bottom_cell_y:\n",
    "                center_point = (right_cell_x - (one_cell_len / 2), bottom_cell_y - (one_cell_len / 2))\n",
    "            right_cell_x += one_cell_len\n",
    "        right_cell_x = one_cell_len\n",
    "        bottom_cell_y += one_cell_len\n",
    "    \n",
    "    point_to_cell_center[(x_point, y_point)] = center_point"
   ]
  },
  {
   "cell_type": "code",
   "execution_count": 50,
   "metadata": {
    "scrolled": true
   },
   "outputs": [
    {
     "name": "stdout",
     "output_type": "stream",
     "text": [
      "Counter({(325.0, 25.0): 4, (125.0, 25.0): 4, (225.0, 75.0): 4, (75.0, 125.0): 4, (75.0, 225.0): 4, (375.0, 175.0): 4, (125.0, 125.0): 4, (175.0, 25.0): 4, (75.0, 275.0): 4, (325.0, 275.0): 3, (25.0, 25.0): 3, (225.0, 125.0): 3, (375.0, 275.0): 3, (325.0, 75.0): 3, (25.0, 225.0): 3, (325.0, 225.0): 2, (375.0, 75.0): 2, (275.0, 25.0): 2, (375.0, 225.0): 2, (75.0, 25.0): 2, (275.0, 125.0): 2, (125.0, 275.0): 2, (275.0, 175.0): 2, (275.0, 275.0): 2, (275.0, 225.0): 2, (25.0, 75.0): 2, (175.0, 225.0): 2, (225.0, 225.0): 2, (225.0, 175.0): 2, (25.0, 125.0): 2, (125.0, 175.0): 1, (225.0, 275.0): 1, (325.0, 175.0): 1, (175.0, 275.0): 1, (125.0, 225.0): 1, (175.0, 75.0): 1, (175.0, 125.0): 1, (225.0, 25.0): 1, (375.0, 25.0): 1, (325.0, 125.0): 1, (75.0, 75.0): 1, (175.0, 175.0): 1, (375.0, 125.0): 1, (275.0, 75.0): 1, (25.0, 275.0): 1, (75.0, 175.0): 1})\n"
     ]
    }
   ],
   "source": [
    "c = Counter(point_to_cell_center.values())\n",
    "print(c)"
   ]
  },
  {
   "cell_type": "code",
   "execution_count": 51,
   "metadata": {},
   "outputs": [
    {
     "data": {
      "text/plain": [
       "46"
      ]
     },
     "execution_count": 51,
     "metadata": {},
     "output_type": "execute_result"
    }
   ],
   "source": [
    "len(c)"
   ]
  },
  {
   "cell_type": "markdown",
   "metadata": {},
   "source": [
    "Какой-то ячейке повезло больше, какой-то меньше, кроме того, оказалось две ячейки, в которую не попала ни одна точка (всего ячеек 48).\n",
    "Точку, которая оказалась чётко на границе ячейки относим к более левой / более верхней ячейке."
   ]
  },
  {
   "cell_type": "code",
   "execution_count": 54,
   "metadata": {},
   "outputs": [],
   "source": [
    "with open('../dataset/100_points_to_cell_centers_48cells_6x8.pickle', 'wb') as f:\n",
    "    pickle.dump(point_to_cell_center, f)"
   ]
  },
  {
   "cell_type": "markdown",
   "metadata": {},
   "source": [
    "### 3. Формула для вероятности попадания в нужный квадрат"
   ]
  },
  {
   "cell_type": "markdown",
   "metadata": {},
   "source": [
    "После работы алгоритма определения местоположения мы получаем сетку, где каждой ячейке соответствует штраф - штраф за несоответствие круговой диаграммы агента круговой диаграмме для центра ячейки (минимальный штраф из возможных). Чем больше оказывается штраф, тем меньше, как мы полагаем, вероятность нахождения агента в этой ячейке.\n",
    "\n",
    "Штрафы могут быть очень разными по величине (их величина зависит от количества объектов на изображении и их взаимного расположения). Поэтому будем считать за вероятность попадания в текущую ячейку следующее значение, не зависящее непосредственно от величины штрафа:\n",
    "\n",
    "$similarity_{cell} = \\max_{c \\in Cell}{penalty_c} - penalty_{cell}$ - похожесть диаграммы ячейки на диаграмму агента, где cell - индекс рассматриваемой ячейки, Cell - множество всех ячеек.\n",
    "\n",
    "$probability_{cell} = \\frac{similarity_{cell}}{\\Sigma_{c \\in Cell}similarity_c}$\n",
    "\n",
    "(Можно также сделать подобие softmax'a, чтобы увеличить разницу между уверенным попаданием и неуверенным, но значения вероятностей, полученных таким способом будут иметь другую интерпретацию)\n",
    "\n",
    "Оценивать качество будем по вероятности попадания в выбранный квадрат, а не окружающие, т.к. считаем, что они изначально были выбраны достаточно большими и если точка оказалась в неподходящем квадрате, значит, это заведомо ошибка.\n",
    "\n",
    "Понятно, что эту логику можно делать более реалистичной - например, естественно, лучше предсказать квадра, близкий к правильному, чем квадрат на другом конце картинки (особенно, когда точка, соответствующая агенту, находится близко к границе ячейки). Но, как уже было сказано ранее, в базовом варианте будем руководствоваться самой простой идеей.\n",
    "\n",
    "Для оценки качества будем учитывать уверенность предсказания нужной ячейки. Для каждой точки посчитаем вероятность попадания в требуемый квадрат и усредним эту вероятность по всем точкам. Это и будет требуемая оценка точности для одной картинки. Посчитав эту оценку для всех картинок и усреднив её получим оценку точности предсказания местоположения на идеальных данных.\n",
    "\n",
    "Для оценки точности будем использовать тестовую выборку."
   ]
  },
  {
   "cell_type": "code",
   "execution_count": null,
   "metadata": {},
   "outputs": [],
   "source": []
  },
  {
   "cell_type": "markdown",
   "metadata": {},
   "source": [
    "### 4. Предсказания и оценки на тестовой выборке"
   ]
  },
  {
   "cell_type": "markdown",
   "metadata": {},
   "source": [
    "#### 4.1 Функция для оценки качества на одной картинке"
   ]
  },
  {
   "cell_type": "markdown",
   "metadata": {},
   "source": [
    "- Построение круговых диаграмм для изображения\n",
    "- Построение круговой диаграммы агента для одной точки\n",
    "- Оценка вероятности попадания в нужный квадрат для одной точки\n",
    "- п 2 и 3 для всех точек\n",
    "- Усреднение вероятностей попадани по всем точкам\n",
    "- Повторение всех предыдущих пунктов для всех картинок\n",
    "- Усреднение средней вероятности попадания по всем картинкам\n",
    "- Profit"
   ]
  },
  {
   "cell_type": "code",
   "execution_count": 2,
   "metadata": {},
   "outputs": [],
   "source": [
    "import os\n",
    "import numpy as np\n",
    "\n",
    "import sys\n",
    "sys.path.insert(1, '../')\n",
    "\n",
    "from osm_object import One_OSM_object, Image_OSM_object\n",
    "from circle_diagram import calculate_sectors_count, create_circle_diagram\n",
    "from circle_diagram import Image_circle_diagrams"
   ]
  },
  {
   "cell_type": "code",
   "execution_count": 3,
   "metadata": {},
   "outputs": [],
   "source": [
    "def read_pickle(filepath):\n",
    "    with open(filepath, 'rb') as f:\n",
    "        return pickle.load(f)"
   ]
  },
  {
   "cell_type": "markdown",
   "metadata": {},
   "source": [
    "**Построение круговых диаграмм для изображения**"
   ]
  },
  {
   "cell_type": "code",
   "execution_count": 4,
   "metadata": {},
   "outputs": [],
   "source": [
    "img_id = 1\n",
    "filename = str(img_id) + '.pickle'\n",
    "\n",
    "osm_objects_path = '../dataset/osm_objects/'"
   ]
  },
  {
   "cell_type": "code",
   "execution_count": 5,
   "metadata": {},
   "outputs": [],
   "source": [
    "img_osm = read_pickle(os.path.join(osm_objects_path, filename))"
   ]
  },
  {
   "cell_type": "code",
   "execution_count": 6,
   "metadata": {},
   "outputs": [],
   "source": [
    "bigger_side_blocks_count = 8\n",
    "sectors_count = calculate_sectors_count(bigger_side_blocks_count)\n",
    "\n",
    "img_osm.img_cutted_shape = (img_osm.img_cutted_shape[0], img_osm.img_cutted_shape[1], 3)\n",
    "img_cds = Image_circle_diagrams(img_osm, bigger_side_blocks_count, sectors_count, with_fast=True)"
   ]
  },
  {
   "cell_type": "markdown",
   "metadata": {},
   "source": [
    "**Построение круговой диаграммы агента для одной точки**"
   ]
  },
  {
   "cell_type": "code",
   "execution_count": 7,
   "metadata": {},
   "outputs": [],
   "source": [
    "points = read_pickle('../dataset/100_random_points.pickle')\n",
    "points_to_centers = read_pickle('../dataset/100_points_to_cell_centers_48cells_6x8.pickle')\n",
    "\n",
    "agent_point = points[0]"
   ]
  },
  {
   "cell_type": "code",
   "execution_count": 8,
   "metadata": {},
   "outputs": [],
   "source": [
    "agent_cd = create_circle_diagram(sectors_count, agent_point, img_osm)\n",
    "agent_cd.make_fast()"
   ]
  },
  {
   "cell_type": "markdown",
   "metadata": {},
   "source": [
    "**Оценка вероятности попадания в нужный квадрат для одной точки**"
   ]
  },
  {
   "cell_type": "code",
   "execution_count": 28,
   "metadata": {},
   "outputs": [],
   "source": [
    "# аналогично select_minimum_penalty_grid из circle_diagram\n",
    "def calculate_cells_probs(img_cds, agent_cd):\n",
    "    \"\"\"\n",
    "    only fast version\n",
    "    \"\"\"\n",
    "    penalties = []\n",
    "    \n",
    "    for i in range(len(img_cds.center_points)):\n",
    "        penalties.append(img_cds.fast_diagrams[i].dist_to(agent_cd.fast_diagram))\n",
    "        \n",
    "    # Добавл. 1e-8 чтобы не было нулей\n",
    "    similaryties = np.max(penalties) - penalties + 1e-8\n",
    "\n",
    "    return similaryties / similaryties.sum()\n"
   ]
  },
  {
   "cell_type": "code",
   "execution_count": 29,
   "metadata": {},
   "outputs": [
    {
     "name": "stdout",
     "output_type": "stream",
     "text": [
      "CPU times: user 211 ms, sys: 0 ns, total: 211 ms\n",
      "Wall time: 210 ms\n"
     ]
    }
   ],
   "source": [
    "%%time\n",
    "cell_probs = calculate_cells_probs(img_cds, agent_cd)"
   ]
  },
  {
   "cell_type": "code",
   "execution_count": 30,
   "metadata": {},
   "outputs": [
    {
     "data": {
      "text/plain": [
       "array([2.72716719e-02, 2.43921590e-02, 1.38665953e-02, 2.36082838e-02,\n",
       "       2.73393183e-02, 1.67507801e-02, 1.32182702e-02, 3.13324768e-02,\n",
       "       2.66923856e-02, 2.43834907e-02, 1.86063760e-02, 1.96499856e-02,\n",
       "       1.58680471e-02, 1.56777390e-02, 1.97845278e-02, 2.69532429e-02,\n",
       "       2.63243009e-02, 2.45284964e-02, 2.39568491e-02, 2.28721144e-02,\n",
       "       1.59231268e-02, 1.30558374e-02, 6.01376362e-03, 1.95468112e-02,\n",
       "       2.57275600e-02, 2.15726688e-02, 2.20913319e-02, 2.48164079e-02,\n",
       "       5.88446317e-03, 1.90978531e-02, 1.70915180e-02, 1.93160580e-02,\n",
       "       2.31279642e-02, 1.67764160e-02, 1.83101057e-02, 2.29013974e-02,\n",
       "       2.47578496e-02, 2.36326897e-02, 1.81400017e-02, 2.00286779e-02,\n",
       "       2.11537995e-02, 1.00386605e-12, 1.71124390e-02, 1.83282235e-02,\n",
       "       2.94321009e-02, 2.88482392e-02, 3.08305422e-02, 3.34050429e-02])"
      ]
     },
     "execution_count": 30,
     "metadata": {},
     "output_type": "execute_result"
    }
   ],
   "source": [
    "cell_probs"
   ]
  },
  {
   "cell_type": "code",
   "execution_count": 31,
   "metadata": {},
   "outputs": [
    {
     "name": "stdout",
     "output_type": "stream",
     "text": [
      "0.033405042908617406\n"
     ]
    }
   ],
   "source": [
    "print(cell_probs.max())"
   ]
  },
  {
   "cell_type": "code",
   "execution_count": 32,
   "metadata": {},
   "outputs": [
    {
     "data": {
      "text/plain": [
       "1.0"
      ]
     },
     "execution_count": 32,
     "metadata": {},
     "output_type": "execute_result"
    }
   ],
   "source": [
    "cell_probs.sum()"
   ]
  },
  {
   "cell_type": "code",
   "execution_count": 33,
   "metadata": {},
   "outputs": [],
   "source": [
    "# Теперь нужно найти вероятность попадания в нужный квадрат"
   ]
  },
  {
   "cell_type": "code",
   "execution_count": 34,
   "metadata": {},
   "outputs": [],
   "source": [
    "def find_center_point_id(center_points, agent_point):\n",
    "    for i in range(len(center_points)):\n",
    "        if center_points[i] == agent_point:\n",
    "            return i"
   ]
  },
  {
   "cell_type": "code",
   "execution_count": 35,
   "metadata": {
    "scrolled": true
   },
   "outputs": [
    {
     "name": "stdout",
     "output_type": "stream",
     "text": [
      "38\n"
     ]
    }
   ],
   "source": [
    "center_point_id = find_center_point_id(img_cds.center_points, points_to_centers[agent_point][::-1])\n",
    "print(center_point_id)"
   ]
  },
  {
   "cell_type": "code",
   "execution_count": 36,
   "metadata": {},
   "outputs": [
    {
     "name": "stdout",
     "output_type": "stream",
     "text": [
      "0.0181400016999745\n"
     ]
    }
   ],
   "source": [
    "# Вероятность попадания в нужный квадрат\n",
    "point_prob  = cell_probs[center_point_id]\n",
    "print(point_prob)"
   ]
  },
  {
   "cell_type": "markdown",
   "metadata": {},
   "source": [
    "**Круговая диаграмма агента и оценка вероятности попадания в нужный квадрат для всех точек**"
   ]
  },
  {
   "cell_type": "code",
   "execution_count": 37,
   "metadata": {},
   "outputs": [],
   "source": [
    "osm_objects_path = '../dataset/osm_objects/'\n",
    "\n",
    "bigger_side_blocks_count = 8\n",
    "sectors_count = calculate_sectors_count(bigger_side_blocks_count)\n",
    "\n",
    "\n",
    "def one_point_one_image_prob(img_id, points, points_to_centers):\n",
    "    filename = str(img_id) + '.pickle'\n",
    "    \n",
    "    img_osm = read_pickle(os.path.join(osm_objects_path, filename))\n",
    "    img_osm.img_cutted_shape = (img_osm.img_cutted_shape[0], img_osm.img_cutted_shape[1], 3)\n",
    "    img_cds = Image_circle_diagrams(img_osm, bigger_side_blocks_count, sectors_count, with_fast=True)\n",
    "    \n",
    "    point_probs = []\n",
    "    \n",
    "    for agent_point in points:\n",
    "        agent_cd = create_circle_diagram(sectors_count, agent_point, img_osm)\n",
    "        agent_cd.make_fast()\n",
    "        \n",
    "        cell_probs = calculate_cells_probs(img_cds, agent_cd)\n",
    "        center_point_id = find_center_point_id(img_cds.center_points, points_to_centers[agent_point][::-1])\n",
    "        \n",
    "        point_probs.append(cell_probs[center_point_id])\n",
    "    return np.array(point_probs).mean()"
   ]
  },
  {
   "cell_type": "code",
   "execution_count": 38,
   "metadata": {},
   "outputs": [
    {
     "name": "stdout",
     "output_type": "stream",
     "text": [
      "CPU times: user 21.7 s, sys: 24 ms, total: 21.8 s\n",
      "Wall time: 21.7 s\n"
     ]
    },
    {
     "data": {
      "text/plain": [
       "0.02244083876363938"
      ]
     },
     "execution_count": 38,
     "metadata": {},
     "output_type": "execute_result"
    }
   ],
   "source": [
    "%%time\n",
    "one_point_one_image_prob(1, points, points_to_centers)"
   ]
  },
  {
   "cell_type": "markdown",
   "metadata": {},
   "source": [
    "**Повторение всех предыдущих пунктов для всех картинок**"
   ]
  },
  {
   "cell_type": "code",
   "execution_count": 21,
   "metadata": {},
   "outputs": [
    {
     "name": "stdout",
     "output_type": "stream",
     "text": [
      "4370\n"
     ]
    }
   ],
   "source": [
    "train_val_test = read_pickle(\"../dataset/train_val_test_split.pickle\")\n",
    "test_ids = train_val_test['test']\n",
    "print(len(test_ids))"
   ]
  },
  {
   "cell_type": "code",
   "execution_count": 22,
   "metadata": {},
   "outputs": [
    {
     "data": {
      "text/plain": [
       "27.5"
      ]
     },
     "execution_count": 22,
     "metadata": {},
     "output_type": "execute_result"
    }
   ],
   "source": [
    "22 * 4500 / 60 / 60"
   ]
  },
  {
   "cell_type": "markdown",
   "metadata": {},
   "source": [
    "27 часов это много, поэтому возьмём первые 100 картинок для оценки (они там уже перемешаны, так что ещё раз можно не перемешивать)"
   ]
  },
  {
   "cell_type": "code",
   "execution_count": 23,
   "metadata": {},
   "outputs": [
    {
     "data": {
      "text/plain": [
       "0.611111111111111"
      ]
     },
     "execution_count": 23,
     "metadata": {},
     "output_type": "execute_result"
    }
   ],
   "source": [
    "22 * 100 / 60 / 60"
   ]
  },
  {
   "cell_type": "code",
   "execution_count": 24,
   "metadata": {},
   "outputs": [],
   "source": [
    "test_ids = test_ids[:100]"
   ]
  },
  {
   "cell_type": "code",
   "execution_count": 39,
   "metadata": {},
   "outputs": [
    {
     "name": "stdout",
     "output_type": "stream",
     "text": [
      "0\n",
      "10\n",
      "20\n",
      "30\n",
      "40\n",
      "50\n",
      "60\n",
      "70\n",
      "80\n",
      "90\n",
      "CPU times: user 30min 12s, sys: 212 ms, total: 30min 12s\n",
      "Wall time: 30min 12s\n"
     ]
    }
   ],
   "source": [
    "%%time\n",
    "img_mean_probs = []\n",
    "\n",
    "for i in range(len(test_ids)):\n",
    "    if i % 10 == 0:\n",
    "        print(i)\n",
    "    img_mean_probs.append(one_point_one_image_prob(test_ids[i], points, points_to_centers))"
   ]
  },
  {
   "cell_type": "code",
   "execution_count": 40,
   "metadata": {},
   "outputs": [
    {
     "name": "stdout",
     "output_type": "stream",
     "text": [
      "[0.022993309228016484, 0.029470148443520826, 0.020833333333333343, 0.02081428085098379, 0.023956165199439966, 0.03024633667523134, 0.021514256340596366, 0.020977836639015576, 0.020484227804578082, 0.028806548581807454, 0.020833333333333343, 0.020875841258624205, 0.020833333333333343, 0.02095907678906246, 0.022647358886009203, 0.021099429743049417, 0.021749597198883534, 0.022474964076625283, 0.02271653970742642, 0.021317820449485318, 0.023200221117623366, 0.023246474009134915, 0.019032016338984388, 0.02323883911539372, 0.021339631955105506, 0.021587722273329626, 0.023134827474638246, 0.022783327951558144, 0.018984265451135587, 0.024642072696111704, 0.02065448501767099, 0.023102002430138473, 0.0276730083075721, 0.020898626950525436, 0.020833333333333343, 0.02126655130425381, 0.020137079546587566, 0.02828452114868043, 0.023574954359342162, 0.0221915841756494, 0.02158305639317211, 0.02320908489578025, 0.02111457092066956, 0.020876700630163558, 0.021480634232013966, 0.02565848031421176, 0.020400304291137265, 0.022231015576739174, 0.021767134647444716, 0.02284759495257596, 0.02069133497859144, 0.020833333333333343, 0.023070434489884682, 0.023794315510695743, 0.021702493075258133, 0.024039801462762845, 0.021441276623160515, 0.023049201805328295, 0.021967503129901426, 0.021041759401995343, 0.021669298407439697, 0.019833404482612, 0.01880988875088199, 0.020997797909722896, 0.020833333333333343, 0.020833333333333343, 0.021486357598204286, 0.020833333333333343, 0.02357320029604237, 0.030399438739158256, 0.02088765023316049, 0.020833333333333343, 0.020833333333333343, 0.02489250204125334, 0.02082430688905825, 0.020980052710466424, 0.02151530742604855, 0.020833333333333343, 0.020833333333333343, 0.024511601000350394, 0.020833333333333343, 0.020833333333333343, 0.02125826705989772, 0.020502520527801424, 0.02207416214836614, 0.020833333333333343, 0.020745231576498293, 0.021095659316581927, 0.020402866673570476, 0.020932465475574397, 0.02236385888164029, 0.020833333333333343, 0.022921981881346358, 0.02251927365434692, 0.021434466574285795, 0.020833333333333343, 0.021173399737959286, 0.021556030582769302, 0.021130739567737828, 0.025478720671859367]\n"
     ]
    }
   ],
   "source": [
    "print(img_mean_probs)"
   ]
  },
  {
   "cell_type": "code",
   "execution_count": 42,
   "metadata": {},
   "outputs": [
    {
     "name": "stdout",
     "output_type": "stream",
     "text": [
      "Средняя вероятность попадания в нужный квадрат: 0.0221\n"
     ]
    }
   ],
   "source": [
    "print(\"Средняя вероятность попадания в нужный квадрат: %.4f\" % np.array(img_mean_probs).mean())"
   ]
  },
  {
   "cell_type": "code",
   "execution_count": 46,
   "metadata": {},
   "outputs": [],
   "source": [
    "# Сохраним посчинаттые средние значения\n",
    "def dump_pickle(filepath, obj):\n",
    "    with open(filepath, 'wb') as f:\n",
    "        pickle.dump(obj, f)\n",
    "        \n",
    "dump_pickle(\"../dataset/ideal_means_48cells_6x8.pickle\", img_mean_probs)"
   ]
  },
  {
   "cell_type": "code",
   "execution_count": null,
   "metadata": {},
   "outputs": [],
   "source": []
  },
  {
   "cell_type": "markdown",
   "metadata": {},
   "source": [
    "### 5. То же самое на разный разбиениях"
   ]
  },
  {
   "cell_type": "markdown",
   "metadata": {},
   "source": [
    "**Крупное разбиение**"
   ]
  },
  {
   "cell_type": "code",
   "execution_count": 54,
   "metadata": {},
   "outputs": [],
   "source": [
    "bigger_side_blocks_count = 4\n",
    "sectors_count = calculate_sectors_count(bigger_side_blocks_count)"
   ]
  },
  {
   "cell_type": "code",
   "execution_count": 57,
   "metadata": {},
   "outputs": [],
   "source": [
    "points_to_centers = {}\n",
    "\n",
    "img_width = 400\n",
    "img_height = 300\n",
    "one_cell_len = img_width / bigger_side_blocks_count\n",
    "\n",
    "for x_point, y_point in points:\n",
    "    center_point = None\n",
    "    \n",
    "    bottom_cell_y = one_cell_len\n",
    "    right_cell_x = one_cell_len\n",
    "    \n",
    "    while bottom_cell_y <= img_height and center_point is None:\n",
    "        while right_cell_x <= img_width and center_point is None:\n",
    "            if x_point <= right_cell_x and y_point <= bottom_cell_y:\n",
    "                center_point = (right_cell_x - (one_cell_len / 2), bottom_cell_y - (one_cell_len / 2))\n",
    "            right_cell_x += one_cell_len\n",
    "        right_cell_x = one_cell_len\n",
    "        bottom_cell_y += one_cell_len\n",
    "    \n",
    "    points_to_centers[(x_point, y_point)] = center_point"
   ]
  },
  {
   "cell_type": "code",
   "execution_count": 58,
   "metadata": {},
   "outputs": [],
   "source": [
    "dump_pickle('../dataset/100_points_to_cell_centers_12cells_3x4.pickle', points_to_centers)"
   ]
  },
  {
   "cell_type": "code",
   "execution_count": null,
   "metadata": {},
   "outputs": [],
   "source": []
  },
  {
   "cell_type": "code",
   "execution_count": 60,
   "metadata": {},
   "outputs": [
    {
     "name": "stdout",
     "output_type": "stream",
     "text": [
      "0\n",
      "10\n",
      "20\n",
      "30\n",
      "40\n",
      "50\n",
      "60\n",
      "70\n",
      "80\n",
      "90\n",
      "CPU times: user 37.7 s, sys: 96 ms, total: 37.8 s\n",
      "Wall time: 37.6 s\n"
     ]
    }
   ],
   "source": [
    "%%time\n",
    "img_mean_probs_3x4 = []\n",
    "\n",
    "for i in range(len(test_ids)):\n",
    "    if i % 10 == 0:\n",
    "        print(i)\n",
    "    img_mean_probs_3x4.append(one_point_one_image_prob(test_ids[i], points, points_to_centers))"
   ]
  },
  {
   "cell_type": "code",
   "execution_count": 61,
   "metadata": {},
   "outputs": [
    {
     "name": "stdout",
     "output_type": "stream",
     "text": [
      "Средняя вероятность попадания в нужный квадрат разбиение 3x4: 0.0888\n"
     ]
    }
   ],
   "source": [
    "print(\"Средняя вероятность попадания в нужный квадрат разбиение 3x4: %.4f\" % np.array(img_mean_probs_3x4).mean())"
   ]
  },
  {
   "cell_type": "markdown",
   "metadata": {},
   "source": [
    "Здесь средняя вероятность больше, но это и закономерно, квадраты же больше."
   ]
  },
  {
   "cell_type": "code",
   "execution_count": 50,
   "metadata": {},
   "outputs": [],
   "source": [
    "dump_pickle(\"../dataset/ideal_means_12cells_3x4.pickle\", img_mean_probs_3x4)"
   ]
  },
  {
   "cell_type": "markdown",
   "metadata": {},
   "source": [
    "**Более мелкое разбиение**"
   ]
  },
  {
   "cell_type": "code",
   "execution_count": 51,
   "metadata": {},
   "outputs": [],
   "source": [
    "bigger_side_blocks_count = 16\n",
    "sectors_count = calculate_sectors_count(bigger_side_blocks_count)\n",
    "\n",
    "# TODO: пересчёт points_to_centers"
   ]
  },
  {
   "cell_type": "code",
   "execution_count": 53,
   "metadata": {},
   "outputs": [
    {
     "name": "stdout",
     "output_type": "stream",
     "text": [
      "0\n"
     ]
    },
    {
     "ename": "KeyboardInterrupt",
     "evalue": "",
     "output_type": "error",
     "traceback": [
      "\u001b[0;31m---------------------------------------------------------------------------\u001b[0m",
      "\u001b[0;31mKeyboardInterrupt\u001b[0m                         Traceback (most recent call last)",
      "\u001b[0;32m<timed exec>\u001b[0m in \u001b[0;36m<module>\u001b[0;34m\u001b[0m\n",
      "\u001b[0;32m<ipython-input-37-d27ea27d9e73>\u001b[0m in \u001b[0;36mone_point_one_image_prob\u001b[0;34m(img_id, points, points_to_centers)\u001b[0m\n\u001b[1;32m     18\u001b[0m         \u001b[0magent_cd\u001b[0m\u001b[0;34m.\u001b[0m\u001b[0mmake_fast\u001b[0m\u001b[0;34m(\u001b[0m\u001b[0;34m)\u001b[0m\u001b[0;34m\u001b[0m\u001b[0;34m\u001b[0m\u001b[0m\n\u001b[1;32m     19\u001b[0m \u001b[0;34m\u001b[0m\u001b[0m\n\u001b[0;32m---> 20\u001b[0;31m         \u001b[0mcell_probs\u001b[0m \u001b[0;34m=\u001b[0m \u001b[0mcalculate_cells_probs\u001b[0m\u001b[0;34m(\u001b[0m\u001b[0mimg_cds\u001b[0m\u001b[0;34m,\u001b[0m \u001b[0magent_cd\u001b[0m\u001b[0;34m)\u001b[0m\u001b[0;34m\u001b[0m\u001b[0;34m\u001b[0m\u001b[0m\n\u001b[0m\u001b[1;32m     21\u001b[0m         \u001b[0mcenter_point_id\u001b[0m \u001b[0;34m=\u001b[0m \u001b[0mfind_center_point_id\u001b[0m\u001b[0;34m(\u001b[0m\u001b[0mimg_cds\u001b[0m\u001b[0;34m.\u001b[0m\u001b[0mcenter_points\u001b[0m\u001b[0;34m,\u001b[0m \u001b[0mpoints_to_centers\u001b[0m\u001b[0;34m[\u001b[0m\u001b[0magent_point\u001b[0m\u001b[0;34m]\u001b[0m\u001b[0;34m[\u001b[0m\u001b[0;34m:\u001b[0m\u001b[0;34m:\u001b[0m\u001b[0;34m-\u001b[0m\u001b[0;36m1\u001b[0m\u001b[0;34m]\u001b[0m\u001b[0;34m)\u001b[0m\u001b[0;34m\u001b[0m\u001b[0;34m\u001b[0m\u001b[0m\n\u001b[1;32m     22\u001b[0m \u001b[0;34m\u001b[0m\u001b[0m\n",
      "\u001b[0;32m<ipython-input-28-3ce46c52a096>\u001b[0m in \u001b[0;36mcalculate_cells_probs\u001b[0;34m(img_cds, agent_cd)\u001b[0m\n\u001b[1;32m      7\u001b[0m \u001b[0;34m\u001b[0m\u001b[0m\n\u001b[1;32m      8\u001b[0m     \u001b[0;32mfor\u001b[0m \u001b[0mi\u001b[0m \u001b[0;32min\u001b[0m \u001b[0mrange\u001b[0m\u001b[0;34m(\u001b[0m\u001b[0mlen\u001b[0m\u001b[0;34m(\u001b[0m\u001b[0mimg_cds\u001b[0m\u001b[0;34m.\u001b[0m\u001b[0mcenter_points\u001b[0m\u001b[0;34m)\u001b[0m\u001b[0;34m)\u001b[0m\u001b[0;34m:\u001b[0m\u001b[0;34m\u001b[0m\u001b[0;34m\u001b[0m\u001b[0m\n\u001b[0;32m----> 9\u001b[0;31m         \u001b[0mpenalties\u001b[0m\u001b[0;34m.\u001b[0m\u001b[0mappend\u001b[0m\u001b[0;34m(\u001b[0m\u001b[0mimg_cds\u001b[0m\u001b[0;34m.\u001b[0m\u001b[0mfast_diagrams\u001b[0m\u001b[0;34m[\u001b[0m\u001b[0mi\u001b[0m\u001b[0;34m]\u001b[0m\u001b[0;34m.\u001b[0m\u001b[0mdist_to\u001b[0m\u001b[0;34m(\u001b[0m\u001b[0magent_cd\u001b[0m\u001b[0;34m.\u001b[0m\u001b[0mfast_diagram\u001b[0m\u001b[0;34m)\u001b[0m\u001b[0;34m)\u001b[0m\u001b[0;34m\u001b[0m\u001b[0;34m\u001b[0m\u001b[0m\n\u001b[0m\u001b[1;32m     10\u001b[0m \u001b[0;34m\u001b[0m\u001b[0m\n\u001b[1;32m     11\u001b[0m     \u001b[0;31m# Добавл. 1e-8 чтобы не было нулей\u001b[0m\u001b[0;34m\u001b[0m\u001b[0;34m\u001b[0m\u001b[0;34m\u001b[0m\u001b[0m\n",
      "\u001b[0;31mKeyboardInterrupt\u001b[0m: "
     ]
    }
   ],
   "source": [
    "%%time\n",
    "img_mean_probs_12x16 = []\n",
    "\n",
    "for i in range(len(test_ids)): \n",
    "    if i % 10 == 0:\n",
    "        print(i)\n",
    "    img_mean_probs_12x16.append(one_point_one_image_prob(test_ids[i], points, points_to_centers))"
   ]
  },
  {
   "cell_type": "markdown",
   "metadata": {},
   "source": [
    "Ещё мельче разбивать не будем, так как рассчёт займёт слишком много времени."
   ]
  },
  {
   "cell_type": "code",
   "execution_count": null,
   "metadata": {},
   "outputs": [],
   "source": []
  },
  {
   "cell_type": "markdown",
   "metadata": {},
   "source": [
    "### 6. Проверка того, что результат не меняется, если в диаграмме агента использовать не все объекты в пределах сектора, а только несколько ближайших"
   ]
  },
  {
   "cell_type": "code",
   "execution_count": 62,
   "metadata": {},
   "outputs": [],
   "source": [
    "def cut_sectors(circle_diagram, max_len):\n",
    "    for i in range(len(circle_diagram.sectors)):\n",
    "        circle_diagram.sectors[i] = circle_diagram.sectors[i][:max_len]\n",
    "    return circle_diagram"
   ]
  },
  {
   "cell_type": "code",
   "execution_count": 63,
   "metadata": {},
   "outputs": [],
   "source": [
    "bigger_side_blocks_count = 8\n",
    "sectors_count = calculate_sectors_count(bigger_side_blocks_count)\n",
    "\n",
    "\n",
    "def one_point_one_image_prob_with_cut(img_id, points, points_to_centers):\n",
    "    filename = str(img_id) + '.pickle'\n",
    "    \n",
    "    img_osm = read_pickle(os.path.join(osm_objects_path, filename))\n",
    "    img_osm.img_cutted_shape = (img_osm.img_cutted_shape[0], img_osm.img_cutted_shape[1], 3)\n",
    "    img_cds = Image_circle_diagrams(img_osm, bigger_side_blocks_count, sectors_count, with_fast=True)\n",
    "    \n",
    "    point_probs_3 = []\n",
    "    point_probs_2 = []\n",
    "    \n",
    "    for agent_point in points:\n",
    "        agent_cd = create_circle_diagram(sectors_count, agent_point, img_osm)\n",
    "        \n",
    "        # max_len = 3\n",
    "        agent_cd = cut_sectors(agent_cd, max_len=3)\n",
    "        agent_cd.make_fast()\n",
    "        \n",
    "        cell_probs = calculate_cells_probs(img_cds, agent_cd)\n",
    "        center_point_id = find_center_point_id(img_cds.center_points, points_to_centers[agent_point][::-1])\n",
    "        \n",
    "        point_probs_3.append(cell_probs[center_point_id])\n",
    "        \n",
    "        # max_len = 2\n",
    "        agent_cd = cut_sectors(agent_cd, max_len=2)\n",
    "        agent_cd.make_fast()\n",
    "        \n",
    "        cell_probs = calculate_cells_probs(img_cds, agent_cd)\n",
    "        center_point_id = find_center_point_id(img_cds.center_points, points_to_centers[agent_point][::-1])\n",
    "        \n",
    "        point_probs_2.append(cell_probs[center_point_id])\n",
    "        \n",
    "    return np.array(point_probs_3).mean(), np.array(point_probs_2).mean()"
   ]
  },
  {
   "cell_type": "code",
   "execution_count": 67,
   "metadata": {},
   "outputs": [
    {
     "name": "stdout",
     "output_type": "stream",
     "text": [
      "0\n"
     ]
    },
    {
     "name": "stderr",
     "output_type": "stream",
     "text": [
      "../utils.py:38: RuntimeWarning: invalid value encountered in arccos\n",
      "  return np.rad2deg(np.arccos(scalar_product / (norm_1 * norm_2)))\n"
     ]
    },
    {
     "name": "stdout",
     "output_type": "stream",
     "text": [
      "10\n",
      "20\n",
      "30\n",
      "40\n",
      "50\n",
      "60\n",
      "70\n",
      "80\n",
      "90\n",
      "CPU times: user 59min 8s, sys: 540 ms, total: 59min 9s\n",
      "Wall time: 59min 9s\n"
     ]
    }
   ],
   "source": [
    "%%time\n",
    "points_to_centers = read_pickle('../dataset/100_points_to_cell_centers_48cells_6x8.pickle')\n",
    "\n",
    "img_mean_probs_6x8_max3 = []\n",
    "img_mean_probs_6x8_max2 = []\n",
    "\n",
    "for i in range(len(test_ids)):\n",
    "    if i % 10 == 0:\n",
    "        print(i)\n",
    "    max3, max2 = one_point_one_image_prob_with_cut(test_ids[i], points, points_to_centers)\n",
    "    \n",
    "    img_mean_probs_6x8_max3.append(max3)\n",
    "    img_mean_probs_6x8_max2.append(max2)"
   ]
  },
  {
   "cell_type": "code",
   "execution_count": 69,
   "metadata": {},
   "outputs": [],
   "source": [
    "dump_pickle('../dataset/ideal_means_48cells_6x8_max3.pickle', img_mean_probs_6x8_max3)\n",
    "dump_pickle('../dataset/ideal_means_48cells_6x8_max2.pickle', img_mean_probs_6x8_max2)"
   ]
  },
  {
   "cell_type": "code",
   "execution_count": 73,
   "metadata": {},
   "outputs": [],
   "source": [
    "img_mean_probs = read_pickle(\"../dataset/ideal_means_48cells_6x8.pickle\")"
   ]
  },
  {
   "cell_type": "code",
   "execution_count": 70,
   "metadata": {},
   "outputs": [],
   "source": [
    "import matplotlib.pyplot as plt"
   ]
  },
  {
   "cell_type": "code",
   "execution_count": 72,
   "metadata": {},
   "outputs": [
    {
     "data": {
      "image/png": "[encoded data removed]",
      "text/plain": [
       "<Figure size 432x288 with 1 Axes>"
      ]
     },
     "metadata": {
      "needs_background": "light"
     },
     "output_type": "display_data"
    }
   ],
   "source": [
    "plt.hist(img_mean_probs_6x8_max3)\n",
    "plt.show()"
   ]
  },
  {
   "cell_type": "markdown",
   "metadata": {},
   "source": [
    "Распределение не похоже на нормальное, так что критерии для сравнения нормальных распределений использовать нельзя. Будем использовать критерий Манна-Уитни."
   ]
  },
  {
   "cell_type": "code",
   "execution_count": 74,
   "metadata": {},
   "outputs": [],
   "source": [
    "from scipy import stats"
   ]
  },
  {
   "cell_type": "code",
   "execution_count": 75,
   "metadata": {},
   "outputs": [
    {
     "data": {
      "text/plain": [
       "MannwhitneyuResult(statistic=5003.0, pvalue=0.9951140704810951)"
      ]
     },
     "execution_count": 75,
     "metadata": {},
     "output_type": "execute_result"
    }
   ],
   "source": [
    "stats.mannwhitneyu(img_mean_probs, img_mean_probs_6x8_max3, alternative='two-sided')"
   ]
  },
  {
   "cell_type": "code",
   "execution_count": 76,
   "metadata": {},
   "outputs": [
    {
     "data": {
      "text/plain": [
       "MannwhitneyuResult(statistic=5023.0, pvalue=0.9560489082772998)"
      ]
     },
     "execution_count": 76,
     "metadata": {},
     "output_type": "execute_result"
    }
   ],
   "source": [
    "stats.mannwhitneyu(img_mean_probs, img_mean_probs_6x8_max2, alternative='two-sided')"
   ]
  },
  {
   "cell_type": "markdown",
   "metadata": {},
   "source": [
    "Ни в том, ни в другом случае гипотеза о равенстве распределений не может быть отвергнута. Значит, во-первых, несмотря на то что агент не может видеть многих объектов в силу того, что они заслоняются друг другом, ему будет достаточно двух объектов в пределах одного сектора, чтобы получить фактически с тем же качеством определённое местоположение. А во-вторых, можно использовать и при синтетических рассчётах и анализе именно диаграммы агента с не более чем 2-3 объектами в пределах сектора (хотя, конечно, прироста в скорости особенного это не даёт."
   ]
  },
  {
   "cell_type": "markdown",
   "metadata": {},
   "source": [
    "Посмотрим теперь, что произойдёт, если в пределах сектора рассматривать не более 1 объекта."
   ]
  },
  {
   "cell_type": "code",
   "execution_count": 77,
   "metadata": {},
   "outputs": [],
   "source": [
    "def one_point_one_image_prob_with_serious_cut(img_id, points, points_to_centers):\n",
    "    filename = str(img_id) + '.pickle'\n",
    "    \n",
    "    img_osm = read_pickle(os.path.join(osm_objects_path, filename))\n",
    "    img_osm.img_cutted_shape = (img_osm.img_cutted_shape[0], img_osm.img_cutted_shape[1], 3)\n",
    "    img_cds = Image_circle_diagrams(img_osm, bigger_side_blocks_count, sectors_count, with_fast=True)\n",
    "    \n",
    "    point_probs_1 = []\n",
    "    \n",
    "    for agent_point in points:\n",
    "        agent_cd = create_circle_diagram(sectors_count, agent_point, img_osm)\n",
    "        \n",
    "        # max_len = 1\n",
    "        agent_cd = cut_sectors(agent_cd, max_len=1)\n",
    "        agent_cd.make_fast()\n",
    "        \n",
    "        cell_probs = calculate_cells_probs(img_cds, agent_cd)\n",
    "        center_point_id = find_center_point_id(img_cds.center_points, points_to_centers[agent_point][::-1])\n",
    "        \n",
    "        point_probs_1.append(cell_probs[center_point_id])\n",
    "        \n",
    "    return np.array(point_probs_1).mean()"
   ]
  },
  {
   "cell_type": "code",
   "execution_count": 78,
   "metadata": {},
   "outputs": [
    {
     "name": "stdout",
     "output_type": "stream",
     "text": [
      "0\n"
     ]
    },
    {
     "name": "stderr",
     "output_type": "stream",
     "text": [
      "../utils.py:38: RuntimeWarning: invalid value encountered in arccos\n",
      "  return np.rad2deg(np.arccos(scalar_product / (norm_1 * norm_2)))\n"
     ]
    },
    {
     "name": "stdout",
     "output_type": "stream",
     "text": [
      "10\n",
      "20\n",
      "30\n",
      "40\n",
      "50\n",
      "60\n",
      "70\n",
      "80\n",
      "90\n",
      "CPU times: user 29min 33s, sys: 880 ms, total: 29min 34s\n",
      "Wall time: 29min 34s\n"
     ]
    }
   ],
   "source": [
    "%%time\n",
    "\n",
    "img_mean_probs_6x8_max1 = []\n",
    "\n",
    "for i in range(len(test_ids)):\n",
    "    if i % 10 == 0:\n",
    "        print(i)\n",
    "    max1 = one_point_one_image_prob_with_serious_cut(test_ids[i], points, points_to_centers)\n",
    "    \n",
    "    img_mean_probs_6x8_max1.append(max1)"
   ]
  },
  {
   "cell_type": "code",
   "execution_count": 80,
   "metadata": {},
   "outputs": [],
   "source": [
    "dump_pickle('../dataset/ideal_means_48cells_6x8_max1.pickle', img_mean_probs_6x8_max1)"
   ]
  },
  {
   "cell_type": "code",
   "execution_count": 79,
   "metadata": {},
   "outputs": [
    {
     "data": {
      "text/plain": [
       "MannwhitneyuResult(statistic=5139.5, pvalue=0.73350257413393)"
      ]
     },
     "execution_count": 79,
     "metadata": {},
     "output_type": "execute_result"
    }
   ],
   "source": [
    "stats.mannwhitneyu(img_mean_probs, img_mean_probs_6x8_max1, alternative='two-sided')"
   ]
  },
  {
   "cell_type": "markdown",
   "metadata": {},
   "source": [
    "Даже и в этом случае отклонить гипотезу о равенстве распределений не удаётся."
   ]
  },
  {
   "cell_type": "code",
   "execution_count": null,
   "metadata": {},
   "outputs": [],
   "source": []
  }
 ],
 "metadata": {
  "kernelspec": {
   "display_name": "Python (tf-gpu)",
   "language": "python",
   "name": "tf-gpu"
  },
  "language_info": {
   "codemirror_mode": {
    "name": "ipython",
    "version": 3
   },
   "file_extension": ".py",
   "mimetype": "text/x-python",
   "name": "python",
   "nbconvert_exporter": "python",
   "pygments_lexer": "ipython3",
   "version": "3.7.5"
  }
 },
 "nbformat": 4,
 "nbformat_minor": 2
}
