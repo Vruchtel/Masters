{
 "cells": [
  {
   "cell_type": "markdown",
   "metadata": {},
   "source": [
    "Для каждого элемента датасета понадобятся osm-объекты. Они умеют хранить необходимые данные в пикселях и всё такое. В общем, это очень может пригодится для обучения нейросеток."
   ]
  },
  {
   "cell_type": "code",
   "execution_count": 7,
   "metadata": {},
   "outputs": [],
   "source": [
    "import pickle\n",
    "import os\n",
    "import cv2"
   ]
  },
  {
   "cell_type": "code",
   "execution_count": 4,
   "metadata": {},
   "outputs": [],
   "source": [
    "import sys\n",
    "sys.path.insert(1, '../')"
   ]
  },
  {
   "cell_type": "code",
   "execution_count": 5,
   "metadata": {},
   "outputs": [],
   "source": [
    "from osm_object import Image_OSM_object"
   ]
  },
  {
   "cell_type": "code",
   "execution_count": 23,
   "metadata": {},
   "outputs": [],
   "source": [
    "# сюда будем сохранять полученные объекты\n",
    "osm_objects_folder = '../dataset/osm_objects'"
   ]
  },
  {
   "cell_type": "code",
   "execution_count": 33,
   "metadata": {},
   "outputs": [],
   "source": [
    "corners_folder = '../dataset/corners'\n",
    "tags_folder = '../dataset/tags'\n",
    "bounds_folder = '../dataset/objects'\n",
    "\n",
    "satellites_folder = '../dataset/satellite'\n",
    "maps_folder = '../dataset/map'"
   ]
  },
  {
   "cell_type": "code",
   "execution_count": null,
   "metadata": {},
   "outputs": [],
   "source": []
  },
  {
   "cell_type": "markdown",
   "metadata": {},
   "source": [
    "Сначала построим объект для одной картинки и попробуем его сохранить."
   ]
  },
  {
   "cell_type": "code",
   "execution_count": 8,
   "metadata": {},
   "outputs": [],
   "source": [
    "img_shape = (300, 400)"
   ]
  },
  {
   "cell_type": "code",
   "execution_count": 14,
   "metadata": {},
   "outputs": [],
   "source": [
    "filename = '1'\n",
    "pickle_filename = filename + '.pickle'\n",
    "\n",
    "with open(os.path.join(corners_folder, pickle_filename), 'rb') as f:\n",
    "    corners = pickle.load(f)\n",
    "\n",
    "with open(os.path.join(tags_folder, pickle_filename), 'rb') as f:\n",
    "    tags = pickle.load(f)\n",
    "    \n",
    "with open(os.path.join(bounds_folder, pickle_filename), 'rb') as f:\n",
    "    bounds = pickle.load(f)\n",
    "\n",
    "right_top_lat = corners['right_top_lat']\n",
    "right_top_lon = corners['right_top_lon']\n",
    "left_bottom_lat = corners['left_bottom_lat']\n",
    "left_bottom_lon = corners['left_bottom_lon']"
   ]
  },
  {
   "cell_type": "code",
   "execution_count": 27,
   "metadata": {},
   "outputs": [
    {
     "name": "stdout",
     "output_type": "stream",
     "text": [
      "CPU times: user 16 ms, sys: 4 ms, total: 20 ms\n",
      "Wall time: 25.7 ms\n"
     ]
    }
   ],
   "source": [
    "%%time\n",
    "img_osm = Image_OSM_object(\n",
    "    img_shape,\n",
    "    right_top_lat,\n",
    "    right_top_lon,\n",
    "    left_bottom_lat,\n",
    "    left_bottom_lon,\n",
    "    bounds,\n",
    "    tags\n",
    ")\n"
   ]
  },
  {
   "cell_type": "code",
   "execution_count": 28,
   "metadata": {},
   "outputs": [
    {
     "name": "stdout",
     "output_type": "stream",
     "text": [
      "150\n",
      "163\n",
      "279\n",
      "267\n"
     ]
    }
   ],
   "source": [
    "osm_object = img_osm.osm_objects[0]\n",
    "print(osm_object.maxlat)\n",
    "print(osm_object.minlat)\n",
    "print(osm_object.maxlon)\n",
    "print(osm_object.minlon)"
   ]
  },
  {
   "cell_type": "code",
   "execution_count": 29,
   "metadata": {},
   "outputs": [
    {
     "name": "stdout",
     "output_type": "stream",
     "text": [
      "CPU times: user 4 ms, sys: 0 ns, total: 4 ms\n",
      "Wall time: 3.51 ms\n"
     ]
    }
   ],
   "source": [
    "%%time\n",
    "with open(os.path.join(osm_objects_folder, pickle_filename), 'wb') as f:\n",
    "    pickle.dump(img_osm, f)"
   ]
  },
  {
   "cell_type": "code",
   "execution_count": 30,
   "metadata": {},
   "outputs": [],
   "source": [
    "with open(os.path.join(osm_objects_folder, pickle_filename), 'rb') as f:\n",
    "    \n",
    "    img_osm = pickle.load(f)"
   ]
  },
  {
   "cell_type": "code",
   "execution_count": 31,
   "metadata": {},
   "outputs": [
    {
     "name": "stdout",
     "output_type": "stream",
     "text": [
      "150\n",
      "163\n",
      "279\n",
      "267\n"
     ]
    }
   ],
   "source": [
    "osm_object = img_osm.osm_objects[0]\n",
    "print(osm_object.maxlat)\n",
    "print(osm_object.minlat)\n",
    "print(osm_object.maxlon)\n",
    "print(osm_object.minlon)"
   ]
  },
  {
   "cell_type": "markdown",
   "metadata": {},
   "source": [
    "С одним всё работает. Теперь запустим на весь датасет."
   ]
  },
  {
   "cell_type": "code",
   "execution_count": 36,
   "metadata": {},
   "outputs": [
    {
     "name": "stdout",
     "output_type": "stream",
     "text": [
      "CPU times: user 26.9 s, sys: 3.18 s, total: 30.1 s\n",
      "Wall time: 41.1 s\n"
     ]
    }
   ],
   "source": [
    "%%time\n",
    "for file_id in range(1, len(os.listdir('../dataset/corners')) + 1):\n",
    "    pickle_filename = str(file_id) + '.pickle'\n",
    "    \n",
    "    with open(os.path.join(corners_folder, pickle_filename), 'rb') as f:\n",
    "        corners = pickle.load(f)\n",
    "\n",
    "    with open(os.path.join(tags_folder, pickle_filename), 'rb') as f:\n",
    "        tags = pickle.load(f)\n",
    "\n",
    "    with open(os.path.join(bounds_folder, pickle_filename), 'rb') as f:\n",
    "        bounds = pickle.load(f)\n",
    "\n",
    "    right_top_lat = corners['right_top_lat']\n",
    "    right_top_lon = corners['right_top_lon']\n",
    "    left_bottom_lat = corners['left_bottom_lat']\n",
    "    left_bottom_lon = corners['left_bottom_lon']\n",
    "    \n",
    "    img_osm = Image_OSM_object(\n",
    "        img_shape,\n",
    "        right_top_lat,\n",
    "        right_top_lon,\n",
    "        left_bottom_lat,\n",
    "        left_bottom_lon,\n",
    "        bounds,\n",
    "        tags\n",
    "    )\n",
    "    \n",
    "    with open(os.path.join(osm_objects_folder, pickle_filename), 'wb') as f:\n",
    "        pickle.dump(img_osm, f)\n"
   ]
  },
  {
   "cell_type": "code",
   "execution_count": 37,
   "metadata": {},
   "outputs": [
    {
     "name": "stdout",
     "output_type": "stream",
     "text": [
      "21849\n"
     ]
    }
   ],
   "source": [
    "print(len(os.listdir(osm_objects_folder)))"
   ]
  },
  {
   "cell_type": "code",
   "execution_count": null,
   "metadata": {},
   "outputs": [],
   "source": []
  }
 ],
 "metadata": {
  "kernelspec": {
   "display_name": "Python 3",
   "language": "python",
   "name": "python3"
  },
  "language_info": {
   "codemirror_mode": {
    "name": "ipython",
    "version": 3
   },
   "file_extension": ".py",
   "mimetype": "text/x-python",
   "name": "python",
   "nbconvert_exporter": "python",
   "pygments_lexer": "ipython3",
   "version": "3.5.2"
  }
 },
 "nbformat": 4,
 "nbformat_minor": 2
}
