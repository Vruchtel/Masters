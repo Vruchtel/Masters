{
 "cells": [
  {
   "cell_type": "code",
   "execution_count": 80,
   "metadata": {},
   "outputs": [],
   "source": [
    "import pickle\n",
    "import os\n",
    "import cv2\n",
    "import numpy as np\n",
    "import matplotlib.pyplot as plt"
   ]
  },
  {
   "cell_type": "code",
   "execution_count": 2,
   "metadata": {},
   "outputs": [],
   "source": [
    "import sys\n",
    "sys.path.append('..')\n",
    "from rectangles_drawing import calculate_one_pixels_diffs\n",
    "from osm_object import Image_OSM_object\n",
    "\n",
    "from circle_diagram import calculate_sectors_count, create_circle_diagram\n",
    "from circle_diagram import Image_circle_diagrams"
   ]
  },
  {
   "cell_type": "code",
   "execution_count": 3,
   "metadata": {},
   "outputs": [],
   "source": [
    "def read_pickle(filepath):\n",
    "    with open(filepath, 'rb') as f:\n",
    "        return pickle.load(f)\n",
    "    \n",
    "def dump_pickle(filepath, obj):\n",
    "    with open(filepath, 'wb') as f:\n",
    "        pickle.dump(obj, f)"
   ]
  },
  {
   "cell_type": "markdown",
   "metadata": {},
   "source": [
    "## Предыдущие результаты замеров точности"
   ]
  },
  {
   "cell_type": "code",
   "execution_count": 4,
   "metadata": {},
   "outputs": [],
   "source": [
    "points = read_pickle('../dataset/100_random_points.pickle')\n",
    "points_to_centers_6_8 = read_pickle('../dataset/100_points_to_cell_centers_48cells_6x8.pickle')\n",
    "points_to_centers_3_4 = read_pickle('../dataset/100_points_to_cell_centers_12cells_3x4.pickle')"
   ]
  },
  {
   "cell_type": "code",
   "execution_count": 5,
   "metadata": {},
   "outputs": [],
   "source": [
    "ideal_means_6_8 = read_pickle('../dataset/ideal_means_48cells_6x8.pickle')\n",
    "predicted_means_6_8 = read_pickle(\"../dataset/predicted_means_48cells_6x8.pickle\")\n",
    "\n",
    "ideal_means_3_4 = read_pickle('../dataset/ideal_means_12cells_3x4.pickle')\n",
    "predicted_means_3_4 = read_pickle(\"../dataset/predicted_means_12cells_3x4.pickle\")"
   ]
  },
  {
   "cell_type": "markdown",
   "metadata": {},
   "source": [
    "Это уже итоговые результаты: одно значение - средняя вероятность попадания в нужный квадрат для одной картинки. Нужны немного другие значения, так что придётся пересчитать."
   ]
  },
  {
   "cell_type": "markdown",
   "metadata": {},
   "source": [
    "## Более подробные замеры точности"
   ]
  },
  {
   "cell_type": "code",
   "execution_count": 6,
   "metadata": {},
   "outputs": [],
   "source": [
    "predictions_folder = '../dataset/predictions/'\n",
    "predicts_osm_folder = 'predicts_osm'\n",
    "orig_osm_objects_path = '../dataset/osm_objects/'"
   ]
  },
  {
   "cell_type": "code",
   "execution_count": 11,
   "metadata": {},
   "outputs": [],
   "source": [
    "train_val_test = read_pickle(\"../dataset/train_val_test_split.pickle\")\n",
    "test_ids = train_val_test['test']"
   ]
  },
  {
   "cell_type": "code",
   "execution_count": 7,
   "metadata": {},
   "outputs": [],
   "source": [
    "predicts_osm_objects_path = os.path.join(predictions_folder, predicts_osm_folder)"
   ]
  },
  {
   "cell_type": "code",
   "execution_count": 9,
   "metadata": {},
   "outputs": [
    {
     "name": "stdout",
     "output_type": "stream",
     "text": [
      "Sectors count: 616\n"
     ]
    }
   ],
   "source": [
    "bigger_side_blocks_count = 8\n",
    "sectors_count = calculate_sectors_count(bigger_side_blocks_count)\n",
    "print(\"Sectors count:\", sectors_count)"
   ]
  },
  {
   "cell_type": "markdown",
   "metadata": {},
   "source": [
    "### Все вероятности для одной точки"
   ]
  },
  {
   "cell_type": "markdown",
   "metadata": {},
   "source": [
    "#### Построение круговых диаграмм для изображения"
   ]
  },
  {
   "cell_type": "code",
   "execution_count": 12,
   "metadata": {},
   "outputs": [],
   "source": [
    "img_id = test_ids[0]\n",
    "filename_pickle = img_id + '.pickle'\n",
    "\n",
    "img_osm = read_pickle(os.path.join(predicts_osm_objects_path, filename_pickle))"
   ]
  },
  {
   "cell_type": "code",
   "execution_count": 13,
   "metadata": {},
   "outputs": [],
   "source": [
    "img_osm.img_cutted_shape = (img_osm.img_cutted_shape[0], img_osm.img_cutted_shape[1], 3)\n",
    "img_cds = Image_circle_diagrams(img_osm, bigger_side_blocks_count, sectors_count, with_fast=True)"
   ]
  },
  {
   "cell_type": "markdown",
   "metadata": {},
   "source": [
    "#### Построение круговой диаграммы агента для одной точки (для оригинальных данных)"
   ]
  },
  {
   "cell_type": "code",
   "execution_count": 14,
   "metadata": {},
   "outputs": [],
   "source": [
    "agent_point = points[0]"
   ]
  },
  {
   "cell_type": "code",
   "execution_count": 15,
   "metadata": {},
   "outputs": [],
   "source": [
    "img_osm_for_agent = read_pickle(os.path.join(orig_osm_objects_path, filename_pickle))\n",
    "img_osm_for_agent.img_cutted_shape = (img_osm.img_cutted_shape[0], img_osm.img_cutted_shape[1], 3)\n",
    "\n",
    "agent_cd = create_circle_diagram(sectors_count, agent_point, img_osm_for_agent)\n",
    "agent_cd.make_fast()"
   ]
  },
  {
   "cell_type": "markdown",
   "metadata": {},
   "source": [
    "#### Подсчёт вероятностей попадания в каждый из квадратов для этой диаграммы агента"
   ]
  },
  {
   "cell_type": "code",
   "execution_count": 16,
   "metadata": {},
   "outputs": [],
   "source": [
    "def calculate_cells_probs(img_cds, agent_cd):\n",
    "    \"\"\"\n",
    "    only fast version\n",
    "    \"\"\"\n",
    "    penalties = []\n",
    "    \n",
    "    for i in range(len(img_cds.center_points)):\n",
    "        penalties.append(img_cds.fast_diagrams[i].dist_to(agent_cd.fast_diagram))\n",
    "        \n",
    "    # Добавл. 1e-8 чтобы не было нулей\n",
    "    similaryties = np.max(penalties) - penalties + 1e-8\n",
    "\n",
    "    return similaryties / similaryties.sum()"
   ]
  },
  {
   "cell_type": "code",
   "execution_count": 17,
   "metadata": {},
   "outputs": [
    {
     "name": "stdout",
     "output_type": "stream",
     "text": [
      "CPU times: user 290 ms, sys: 2.5 ms, total: 293 ms\n",
      "Wall time: 298 ms\n"
     ]
    }
   ],
   "source": [
    "%%time\n",
    "cell_probs = calculate_cells_probs(img_cds, agent_cd)"
   ]
  },
  {
   "cell_type": "code",
   "execution_count": 18,
   "metadata": {},
   "outputs": [
    {
     "data": {
      "text/plain": [
       "array([2.09353424e-02, 6.59438415e-13, 1.21996107e-03, 1.35551281e-02,\n",
       "       2.09976175e-02, 2.24428881e-02, 2.26480469e-02, 2.26627015e-02,\n",
       "       2.15911161e-02, 1.91896649e-02, 1.58759859e-02, 1.94699262e-02,\n",
       "       2.17486464e-02, 2.22615425e-02, 2.25985890e-02, 2.26553742e-02,\n",
       "       2.18603855e-02, 2.09536597e-02, 2.05909715e-02, 2.09866326e-02,\n",
       "       2.19593012e-02, 2.22670385e-02, 2.24868520e-02, 2.26553742e-02,\n",
       "       2.20252451e-02, 2.19593012e-02, 2.18274146e-02, 2.19757872e-02,\n",
       "       2.20747030e-02, 2.24373941e-02, 2.24868520e-02, 2.26388883e-02,\n",
       "       2.23055064e-02, 2.22725345e-02, 2.21076749e-02, 2.22560485e-02,\n",
       "       2.23055064e-02, 2.24868520e-02, 2.24960106e-02, 2.26462156e-02,\n",
       "       2.24703660e-02, 2.24373941e-02, 2.24209081e-02, 2.24373941e-02,\n",
       "       2.24703660e-02, 2.25363098e-02, 2.26352256e-02, 2.26773562e-02])"
      ]
     },
     "execution_count": 18,
     "metadata": {},
     "output_type": "execute_result"
    }
   ],
   "source": [
    "cell_probs"
   ]
  },
  {
   "cell_type": "markdown",
   "metadata": {},
   "source": [
    "#### Проверка того, что в одном из k секторов с максимальной уверенностью находится точка"
   ]
  },
  {
   "cell_type": "code",
   "execution_count": 112,
   "metadata": {
    "scrolled": true
   },
   "outputs": [
    {
     "data": {
      "text/plain": [
       "[(25.0, 25.0),\n",
       " (25.0, 75.0),\n",
       " (25.0, 125.0),\n",
       " (25.0, 175.0),\n",
       " (25.0, 225.0),\n",
       " (25.0, 275.0),\n",
       " (25.0, 325.0),\n",
       " (25.0, 375.0),\n",
       " (75.0, 25.0),\n",
       " (75.0, 75.0),\n",
       " (75.0, 125.0),\n",
       " (75.0, 175.0),\n",
       " (75.0, 225.0),\n",
       " (75.0, 275.0),\n",
       " (75.0, 325.0),\n",
       " (75.0, 375.0),\n",
       " (125.0, 25.0),\n",
       " (125.0, 75.0),\n",
       " (125.0, 125.0),\n",
       " (125.0, 175.0),\n",
       " (125.0, 225.0),\n",
       " (125.0, 275.0),\n",
       " (125.0, 325.0),\n",
       " (125.0, 375.0),\n",
       " (175.0, 25.0),\n",
       " (175.0, 75.0),\n",
       " (175.0, 125.0),\n",
       " (175.0, 175.0),\n",
       " (175.0, 225.0),\n",
       " (175.0, 275.0),\n",
       " (175.0, 325.0),\n",
       " (175.0, 375.0),\n",
       " (225.0, 25.0),\n",
       " (225.0, 75.0),\n",
       " (225.0, 125.0),\n",
       " (225.0, 175.0),\n",
       " (225.0, 225.0),\n",
       " (225.0, 275.0),\n",
       " (225.0, 325.0),\n",
       " (225.0, 375.0),\n",
       " (275.0, 25.0),\n",
       " (275.0, 75.0),\n",
       " (275.0, 125.0),\n",
       " (275.0, 175.0),\n",
       " (275.0, 225.0),\n",
       " (275.0, 275.0),\n",
       " (275.0, 325.0),\n",
       " (275.0, 375.0)]"
      ]
     },
     "execution_count": 112,
     "metadata": {},
     "output_type": "execute_result"
    }
   ],
   "source": [
    "img_cds.center_points"
   ]
  },
  {
   "cell_type": "code",
   "execution_count": 113,
   "metadata": {},
   "outputs": [
    {
     "data": {
      "text/plain": [
       "(316, 231)"
      ]
     },
     "execution_count": 113,
     "metadata": {},
     "output_type": "execute_result"
    }
   ],
   "source": [
    "agent_point"
   ]
  },
  {
   "cell_type": "code",
   "execution_count": 115,
   "metadata": {},
   "outputs": [
    {
     "data": {
      "text/plain": [
       "(225.0, 325.0)"
      ]
     },
     "execution_count": 115,
     "metadata": {},
     "output_type": "execute_result"
    }
   ],
   "source": [
    "points_to_centers_6_8[agent_point][::-1]"
   ]
  },
  {
   "cell_type": "code",
   "execution_count": 19,
   "metadata": {},
   "outputs": [],
   "source": [
    "def find_center_point_id(center_points, agent_point):\n",
    "    for i in range(len(center_points)):\n",
    "        if center_points[i] == agent_point:\n",
    "            return i"
   ]
  },
  {
   "cell_type": "code",
   "execution_count": 21,
   "metadata": {},
   "outputs": [],
   "source": [
    "center_point_id = find_center_point_id(img_cds.center_points, points_to_centers_6_8[agent_point][::-1])"
   ]
  },
  {
   "cell_type": "code",
   "execution_count": 29,
   "metadata": {},
   "outputs": [
    {
     "name": "stdout",
     "output_type": "stream",
     "text": [
      "38\n"
     ]
    }
   ],
   "source": [
    "print(center_point_id)"
   ]
  },
  {
   "cell_type": "code",
   "execution_count": 27,
   "metadata": {},
   "outputs": [
    {
     "data": {
      "text/plain": [
       "array([47,  7, 15, 23,  6, 39, 31, 46, 14, 45, 38, 22, 37, 30, 44, 40,  5,\n",
       "       29, 43, 41, 42, 32, 36, 33, 21, 13, 35, 34, 28, 24, 27, 20, 25, 16,\n",
       "       26, 12,  8,  4, 19, 17,  0, 18, 11,  9, 10,  3,  2,  1])"
      ]
     },
     "execution_count": 27,
     "metadata": {},
     "output_type": "execute_result"
    }
   ],
   "source": [
    "np.argsort(cell_probs * 100)[::-1]"
   ]
  },
  {
   "cell_type": "code",
   "execution_count": 30,
   "metadata": {},
   "outputs": [
    {
     "data": {
      "text/plain": [
       "array([2.26773562e-02, 2.26627015e-02, 2.26553742e-02, 2.26553742e-02,\n",
       "       2.26480469e-02, 2.26462156e-02, 2.26388883e-02, 2.26352256e-02,\n",
       "       2.25985890e-02, 2.25363098e-02, 2.24960106e-02, 2.24868520e-02,\n",
       "       2.24868520e-02, 2.24868520e-02, 2.24703660e-02, 2.24703660e-02,\n",
       "       2.24428881e-02, 2.24373941e-02, 2.24373941e-02, 2.24373941e-02,\n",
       "       2.24209081e-02, 2.23055064e-02, 2.23055064e-02, 2.22725345e-02,\n",
       "       2.22670385e-02, 2.22615425e-02, 2.22560485e-02, 2.21076749e-02,\n",
       "       2.20747030e-02, 2.20252451e-02, 2.19757872e-02, 2.19593012e-02,\n",
       "       2.19593012e-02, 2.18603855e-02, 2.18274146e-02, 2.17486464e-02,\n",
       "       2.15911161e-02, 2.09976175e-02, 2.09866326e-02, 2.09536597e-02,\n",
       "       2.09353424e-02, 2.05909715e-02, 1.94699262e-02, 1.91896649e-02,\n",
       "       1.58759859e-02, 1.35551281e-02, 1.21996107e-03, 6.59438415e-13])"
      ]
     },
     "execution_count": 30,
     "metadata": {},
     "output_type": "execute_result"
    }
   ],
   "source": [
    "cell_probs[np.argsort(cell_probs * 100)[::-1]]"
   ]
  },
  {
   "cell_type": "code",
   "execution_count": 53,
   "metadata": {},
   "outputs": [],
   "source": [
    "def is_in_one_of_max_k(cell_probs, center_point_id, max_k):\n",
    "    is_ok_for_different_k = []\n",
    "    \n",
    "    argsort = np.argsort(cell_probs)[::-1]\n",
    "    for k in range(0, max_k):\n",
    "        if argsort[k] == center_point_id:\n",
    "            is_ok_for_different_k += [True for _ in range(max_k - k)]\n",
    "            break\n",
    "        else:\n",
    "            is_ok_for_different_k.append(False)\n",
    "        \n",
    "    return is_ok_for_different_k"
   ]
  },
  {
   "cell_type": "code",
   "execution_count": 54,
   "metadata": {},
   "outputs": [
    {
     "name": "stdout",
     "output_type": "stream",
     "text": [
      "CPU times: user 170 µs, sys: 1 µs, total: 171 µs\n",
      "Wall time: 149 µs\n"
     ]
    },
    {
     "data": {
      "text/plain": [
       "[False, False, False, False, False, False, False, False, False, False, True]"
      ]
     },
     "execution_count": 54,
     "metadata": {},
     "output_type": "execute_result"
    }
   ],
   "source": [
    "%%time\n",
    "is_in_one_of_max_k(cell_probs, center_point_id, 11)"
   ]
  },
  {
   "cell_type": "markdown",
   "metadata": {},
   "source": [
    "#### Подсчёт этого же самого для всех точек на одном изображении"
   ]
  },
  {
   "cell_type": "code",
   "execution_count": 55,
   "metadata": {},
   "outputs": [],
   "source": [
    "def is_in_ks_for_one_image(img_id, max_k=48):\n",
    "    \n",
    "    filename_pickle = img_id + '.pickle'\n",
    "    img_osm = read_pickle(os.path.join(predicts_osm_objects_path, filename_pickle))\n",
    "    img_osm.img_cutted_shape = (img_osm.img_cutted_shape[0], img_osm.img_cutted_shape[1], 3)\n",
    "    img_cds = Image_circle_diagrams(img_osm, bigger_side_blocks_count, sectors_count, with_fast=True)\n",
    "    \n",
    "    is_in_k_one_image = []\n",
    "    \n",
    "    for agent_point in points:\n",
    "        img_osm_for_agent = read_pickle(os.path.join(orig_osm_objects_path, filename_pickle))\n",
    "        img_osm_for_agent.img_cutted_shape = (img_osm.img_cutted_shape[0], img_osm.img_cutted_shape[1], 3)\n",
    "        agent_cd = create_circle_diagram(sectors_count, agent_point, img_osm_for_agent)\n",
    "        agent_cd.make_fast()\n",
    "        \n",
    "        cell_probs = calculate_cells_probs(img_cds, agent_cd)\n",
    "        \n",
    "        center_point_id = find_center_point_id(img_cds.center_points, points_to_centers_6_8[agent_point][::-1])\n",
    "        \n",
    "        is_in_k_one_point = is_in_one_of_max_k(cell_probs, center_point_id, max_k)\n",
    "        is_in_k_one_image.append(is_in_k_one_point)\n",
    "        \n",
    "    return is_in_k_one_image"
   ]
  },
  {
   "cell_type": "code",
   "execution_count": 56,
   "metadata": {},
   "outputs": [
    {
     "name": "stdout",
     "output_type": "stream",
     "text": [
      "CPU times: user 28.9 s, sys: 67.3 ms, total: 29 s\n",
      "Wall time: 29.2 s\n"
     ]
    }
   ],
   "source": [
    "%%time\n",
    "is_in_k_one_image = is_in_ks_for_one_image(test_ids[0])"
   ]
  },
  {
   "cell_type": "code",
   "execution_count": 67,
   "metadata": {},
   "outputs": [
    {
     "data": {
      "text/plain": [
       "0.01"
      ]
     },
     "execution_count": 67,
     "metadata": {},
     "output_type": "execute_result"
    }
   ],
   "source": [
    "# точность на одной картинке (да и на всех так же можно посчитать будет)\n",
    "np.array(is_in_k_one_image)[:, 0].sum() / len(is_in_k_one_image)"
   ]
  },
  {
   "cell_type": "markdown",
   "metadata": {},
   "source": [
    "#### Теперь для всех картинок"
   ]
  },
  {
   "cell_type": "code",
   "execution_count": 69,
   "metadata": {},
   "outputs": [
    {
     "name": "stderr",
     "output_type": "stream",
     "text": [
      "../utils.py:38: RuntimeWarning: invalid value encountered in arccos\n",
      "  return np.rad2deg(np.arccos(scalar_product / (norm_1 * norm_2)))\n"
     ]
    },
    {
     "name": "stdout",
     "output_type": "stream",
     "text": [
      "1000\n",
      "2000\n",
      "3000\n",
      "4000\n",
      "5000\n",
      "6000\n",
      "7000\n",
      "8000\n",
      "9000\n",
      "10000\n",
      "CPU times: user 42min 6s, sys: 5.79 s, total: 42min 12s\n",
      "Wall time: 42min 29s\n"
     ]
    }
   ],
   "source": [
    "%%time\n",
    "is_in_k = []\n",
    "\n",
    "for img_id in test_ids[:100]:\n",
    "    \n",
    "    is_in_k += is_in_ks_for_one_image(img_id)\n",
    "    \n",
    "    if len(is_in_k) % 1000 == 0:\n",
    "        print(len(is_in_k))\n",
    "        "
   ]
  },
  {
   "cell_type": "code",
   "execution_count": 70,
   "metadata": {},
   "outputs": [],
   "source": [
    "is_in_k = np.array(is_in_k)"
   ]
  },
  {
   "cell_type": "code",
   "execution_count": 71,
   "metadata": {},
   "outputs": [],
   "source": [
    "np.save(\"../dataset/is_in_k_6_8.npy\", is_in_k)"
   ]
  },
  {
   "cell_type": "code",
   "execution_count": 83,
   "metadata": {},
   "outputs": [],
   "source": [
    "acc_in_k = []\n",
    "for i in range(48):\n",
    "    acc_in_k.append(is_in_k[:, i].sum() / is_in_k.shape[0])"
   ]
  },
  {
   "cell_type": "code",
   "execution_count": 99,
   "metadata": {},
   "outputs": [
    {
     "data": {
      "image/png": "[encoded data removed]",
      "text/plain": [
       "<Figure size 432x288 with 1 Axes>"
      ]
     },
     "metadata": {
      "needs_background": "light"
     },
     "output_type": "display_data"
    }
   ],
   "source": [
    "plt.scatter(np.array(list(range(48))) + 1, acc_in_k)\n",
    "plt.xlabel('k')\n",
    "plt.ylabel('precision')\n",
    "plt.show()"
   ]
  },
  {
   "cell_type": "code",
   "execution_count": 105,
   "metadata": {},
   "outputs": [
    {
     "data": {
      "image/png": "[encoded data removed]",
      "text/plain": [
       "<Figure size 432x288 with 1 Axes>"
      ]
     },
     "metadata": {
      "needs_background": "light"
     },
     "output_type": "display_data"
    }
   ],
   "source": [
    "plt.scatter(np.array(list(range(3))) + 1, acc_in_k[:3])\n",
    "plt.xlabel('k')\n",
    "plt.ylabel('precision')\n",
    "plt.ylim(0, 0.1)\n",
    "plt.show()"
   ]
  },
  {
   "cell_type": "code",
   "execution_count": 110,
   "metadata": {},
   "outputs": [
    {
     "name": "stdout",
     "output_type": "stream",
     "text": [
      "K: 1 - 0.027\n",
      "K: 2 - 0.0528\n",
      "K: 3 - 0.0754\n",
      "K: 4 - 0.1013\n",
      "K: 5 - 0.117\n",
      "K: 6 - 0.1479\n",
      "K: 7 - 0.1778\n",
      "K: 8 - 0.2005\n",
      "K: 9 - 0.2213\n",
      "K: 10 - 0.2469\n",
      "K: 11 - 0.2623\n",
      "K: 12 - 0.2921\n",
      "K: 13 - 0.3101\n",
      "K: 14 - 0.3203\n",
      "K: 15 - 0.3362\n",
      "K: 16 - 0.3571\n",
      "K: 17 - 0.371\n",
      "K: 18 - 0.4\n",
      "K: 19 - 0.4195\n",
      "K: 20 - 0.4354\n",
      "K: 21 - 0.466\n",
      "K: 22 - 0.4969\n",
      "K: 23 - 0.5179\n",
      "K: 24 - 0.5349\n",
      "K: 25 - 0.5498\n",
      "K: 26 - 0.5614\n",
      "K: 27 - 0.5833\n",
      "K: 28 - 0.6026\n",
      "K: 29 - 0.6194\n",
      "K: 30 - 0.635\n",
      "K: 31 - 0.6547\n",
      "K: 32 - 0.6846\n",
      "K: 33 - 0.6999\n",
      "K: 34 - 0.7184\n",
      "K: 35 - 0.7384\n",
      "K: 36 - 0.7586\n",
      "K: 37 - 0.7788\n",
      "K: 38 - 0.7922\n",
      "K: 39 - 0.8092\n",
      "K: 40 - 0.8412\n",
      "K: 41 - 0.8653\n",
      "K: 42 - 0.8944\n",
      "K: 43 - 0.909\n",
      "K: 44 - 0.9284\n",
      "K: 45 - 0.9482\n",
      "K: 46 - 0.9628\n",
      "K: 47 - 0.9769\n",
      "K: 48 - 1.0\n"
     ]
    }
   ],
   "source": [
    "for k in range(48):\n",
    "    print(f\"K: {k + 1} - {acc_in_k[k]}\")"
   ]
  },
  {
   "cell_type": "markdown",
   "metadata": {},
   "source": [
    "Похоже на случайные предсказания..."
   ]
  },
  {
   "cell_type": "markdown",
   "metadata": {},
   "source": [
    "Можно померить, долю попаданий в нужный квадрат или один из квадратов вокруг. \n",
    "\n",
    "То есть что квадрат с максимальной вероятностью - один из этих.\n",
    "\n",
    "Или что квадрат с k - 1 максимальной вероятностью один из этих, или что k - 2."
   ]
  },
  {
   "cell_type": "code",
   "execution_count": null,
   "metadata": {},
   "outputs": [],
   "source": []
  },
  {
   "cell_type": "code",
   "execution_count": 107,
   "metadata": {},
   "outputs": [
    {
     "data": {
      "text/plain": [
       "array([2.09353424e-02, 6.59438415e-13, 1.21996107e-03, 1.35551281e-02,\n",
       "       2.09976175e-02, 2.24428881e-02, 2.26480469e-02, 2.26627015e-02,\n",
       "       2.15911161e-02, 1.91896649e-02, 1.58759859e-02, 1.94699262e-02,\n",
       "       2.17486464e-02, 2.22615425e-02, 2.25985890e-02, 2.26553742e-02,\n",
       "       2.18603855e-02, 2.09536597e-02, 2.05909715e-02, 2.09866326e-02,\n",
       "       2.19593012e-02, 2.22670385e-02, 2.24868520e-02, 2.26553742e-02,\n",
       "       2.20252451e-02, 2.19593012e-02, 2.18274146e-02, 2.19757872e-02,\n",
       "       2.20747030e-02, 2.24373941e-02, 2.24868520e-02, 2.26388883e-02,\n",
       "       2.23055064e-02, 2.22725345e-02, 2.21076749e-02, 2.22560485e-02,\n",
       "       2.23055064e-02, 2.24868520e-02, 2.24960106e-02, 2.26462156e-02,\n",
       "       2.24703660e-02, 2.24373941e-02, 2.24209081e-02, 2.24373941e-02,\n",
       "       2.24703660e-02, 2.25363098e-02, 2.26352256e-02, 2.26773562e-02])"
      ]
     },
     "execution_count": 107,
     "metadata": {},
     "output_type": "execute_result"
    }
   ],
   "source": [
    "cell_probs"
   ]
  },
  {
   "cell_type": "code",
   "execution_count": 108,
   "metadata": {},
   "outputs": [],
   "source": [
    "argsort = np.argsort(cell_probs)[::-1]"
   ]
  },
  {
   "cell_type": "code",
   "execution_count": 109,
   "metadata": {},
   "outputs": [
    {
     "data": {
      "text/plain": [
       "38"
      ]
     },
     "execution_count": 109,
     "metadata": {},
     "output_type": "execute_result"
    }
   ],
   "source": [
    "center_point_id"
   ]
  },
  {
   "cell_type": "code",
   "execution_count": 154,
   "metadata": {},
   "outputs": [],
   "source": [
    "# 8 точек вокруг\n",
    "def find_points_ids_around(center_point_id, bigger_side_blocks_count, max_center_point_id):\n",
    "    \"\"\"\n",
    "    max_center_point_id = 47, если сетка 6x8\n",
    "    \"\"\"\n",
    "    \n",
    "    points_ids_around = [center_point_id]\n",
    "    # всегда нужно проверять, что не вышли за границы\n",
    "    \n",
    "    point_left = None\n",
    "    point_right = None\n",
    "    \n",
    "    if center_point_id % bigger_side_blocks_count != 0:\n",
    "        point_left = center_point_id - 1\n",
    "        points_ids_around.append(point_left)\n",
    "    \n",
    "    if center_point_id % bigger_side_blocks_count != (bigger_side_blocks_count - 1):\n",
    "        point_right = center_point_id + 1\n",
    "        points_ids_around.append(point_right)\n",
    "        \n",
    "    point_up = center_point_id - bigger_side_blocks_count\n",
    "    if point_up >= 0:\n",
    "        points_ids_around.append(point_up)\n",
    "    \n",
    "    point_down = center_point_id + bigger_side_blocks_count\n",
    "    if point_down <= max_center_point_id:\n",
    "        points_ids_around.append(point_down)\n",
    "        \n",
    "    if point_left is not None and point_up > 0: \n",
    "        # слева сверху\n",
    "        points_ids_around.append(point_up - 1)\n",
    "        \n",
    "    if point_right is not None and point_down < max_center_point_id:\n",
    "        # справа снизу\n",
    "        points_ids_around.append(point_down + 1)\n",
    "\n",
    "    if point_left is not None and point_down <= max_center_point_id:\n",
    "        # слева снизу\n",
    "        points_ids_around.append(point_down - 1)\n",
    "        \n",
    "    if point_right is not None and point_up >= 0:\n",
    "        # справа сверху\n",
    "        points_ids_around.append(point_up + 1)\n",
    "        \n",
    "    return points_ids_around"
   ]
  },
  {
   "cell_type": "code",
   "execution_count": 164,
   "metadata": {},
   "outputs": [
    {
     "data": {
      "text/plain": [
       "[47, 46, 39, 38]"
      ]
     },
     "execution_count": 164,
     "metadata": {},
     "output_type": "execute_result"
    }
   ],
   "source": [
    "find_points_ids_around(47, bigger_side_blocks_count=8, max_center_point_id=47)"
   ]
  },
  {
   "cell_type": "code",
   "execution_count": 165,
   "metadata": {},
   "outputs": [],
   "source": [
    "# Теперь для каждой точки из points найдём точки вокруг"
   ]
  },
  {
   "cell_type": "code",
   "execution_count": 168,
   "metadata": {},
   "outputs": [],
   "source": [
    "points_around = []\n",
    "for point in points:\n",
    "    center_point_id = find_center_point_id(img_cds.center_points, points_to_centers_6_8[point][::-1])\n",
    "    points_around.append(find_points_ids_around(center_point_id, bigger_side_blocks_count, max_center_point_id=47))"
   ]
  },
  {
   "cell_type": "code",
   "execution_count": 169,
   "metadata": {},
   "outputs": [],
   "source": [
    "points_around = np.array(points_around)"
   ]
  },
  {
   "cell_type": "code",
   "execution_count": null,
   "metadata": {},
   "outputs": [],
   "source": []
  },
  {
   "cell_type": "code",
   "execution_count": 170,
   "metadata": {},
   "outputs": [
    {
     "data": {
      "text/plain": [
       "[38, 37, 39, 30, 46, 29, 47, 45, 31]"
      ]
     },
     "execution_count": 170,
     "metadata": {},
     "output_type": "execute_result"
    }
   ],
   "source": [
    "points_around[0]"
   ]
  },
  {
   "cell_type": "code",
   "execution_count": 178,
   "metadata": {},
   "outputs": [],
   "source": [
    "def is_in_one_of_max_k_around(cell_probs, p_around, max_k):\n",
    "    is_ok_for_different_k = []\n",
    "    \n",
    "    argsort = np.argsort(cell_probs)[::-1]\n",
    "    for k in range(0, max_k):\n",
    "        if argsort[k] in p_around:\n",
    "            is_ok_for_different_k += [True for _ in range(max_k - k)]\n",
    "            break\n",
    "        else:\n",
    "            is_ok_for_different_k.append(False)\n",
    "        \n",
    "    return is_ok_for_different_k"
   ]
  },
  {
   "cell_type": "code",
   "execution_count": 179,
   "metadata": {
    "scrolled": true
   },
   "outputs": [
    {
     "data": {
      "text/plain": [
       "[True,\n",
       " True,\n",
       " True,\n",
       " True,\n",
       " True,\n",
       " True,\n",
       " True,\n",
       " True,\n",
       " True,\n",
       " True,\n",
       " True,\n",
       " True,\n",
       " True,\n",
       " True,\n",
       " True,\n",
       " True,\n",
       " True,\n",
       " True,\n",
       " True,\n",
       " True,\n",
       " True,\n",
       " True,\n",
       " True,\n",
       " True,\n",
       " True,\n",
       " True,\n",
       " True,\n",
       " True,\n",
       " True,\n",
       " True,\n",
       " True,\n",
       " True,\n",
       " True,\n",
       " True,\n",
       " True,\n",
       " True,\n",
       " True,\n",
       " True,\n",
       " True,\n",
       " True,\n",
       " True,\n",
       " True,\n",
       " True,\n",
       " True,\n",
       " True,\n",
       " True,\n",
       " True,\n",
       " True]"
      ]
     },
     "execution_count": 179,
     "metadata": {},
     "output_type": "execute_result"
    }
   ],
   "source": [
    "is_in_one_of_max_k_around(cell_probs, points_around[0], max_k=48)"
   ]
  },
  {
   "cell_type": "code",
   "execution_count": null,
   "metadata": {},
   "outputs": [],
   "source": []
  },
  {
   "cell_type": "code",
   "execution_count": 176,
   "metadata": {},
   "outputs": [],
   "source": [
    "def is_in_points_around_in_ks_for_one_image(img_id, max_k=48):\n",
    "    \"\"\"\n",
    "    Проверям, попали ли мы в одну из точек вокруг с наибольшей вероятностью?\n",
    "    А с одной из двух наибольших вероятностей?\n",
    "    А с одной из трёх?\n",
    "    И так для всех до max_k\n",
    "    \"\"\"\n",
    "    \n",
    "    filename_pickle = img_id + '.pickle'\n",
    "    img_osm = read_pickle(os.path.join(predicts_osm_objects_path, filename_pickle))\n",
    "    img_osm.img_cutted_shape = (img_osm.img_cutted_shape[0], img_osm.img_cutted_shape[1], 3)\n",
    "    img_cds = Image_circle_diagrams(img_osm, bigger_side_blocks_count, sectors_count, with_fast=True)\n",
    "    \n",
    "    is_in_k_one_image = []\n",
    "    \n",
    "    for i in range(len(points)):\n",
    "        agent_point = points[i]\n",
    "        p_around = points_around[i]\n",
    "\n",
    "        img_osm_for_agent = read_pickle(os.path.join(orig_osm_objects_path, filename_pickle))\n",
    "        img_osm_for_agent.img_cutted_shape = (img_osm.img_cutted_shape[0], img_osm.img_cutted_shape[1], 3)\n",
    "        agent_cd = create_circle_diagram(sectors_count, agent_point, img_osm_for_agent)\n",
    "        agent_cd.make_fast()\n",
    "        \n",
    "        cell_probs = calculate_cells_probs(img_cds, agent_cd)\n",
    "        \n",
    "        center_point_id = find_center_point_id(img_cds.center_points, points_to_centers_6_8[agent_point][::-1])\n",
    "        \n",
    "        is_in_k_one_point = is_in_one_of_max_k_around(cell_probs, p_around, max_k)\n",
    "        is_in_k_one_image.append(is_in_k_one_point)\n",
    "        \n",
    "    return is_in_k_one_image"
   ]
  },
  {
   "cell_type": "code",
   "execution_count": 180,
   "metadata": {},
   "outputs": [
    {
     "name": "stdout",
     "output_type": "stream",
     "text": [
      "CPU times: user 26.5 s, sys: 12 ms, total: 26.5 s\n",
      "Wall time: 26.5 s\n"
     ]
    }
   ],
   "source": [
    "%%time\n",
    "res = is_in_points_around_in_ks_for_one_image(test_ids[0])"
   ]
  },
  {
   "cell_type": "code",
   "execution_count": 189,
   "metadata": {},
   "outputs": [],
   "source": [
    "one_img_res = []\n",
    "\n",
    "for i in range(47):\n",
    "    one_img_res.append(np.array(res)[:, i].sum() / len(res))"
   ]
  },
  {
   "cell_type": "code",
   "execution_count": 192,
   "metadata": {},
   "outputs": [
    {
     "data": {
      "text/plain": [
       "(0, 1.044)"
      ]
     },
     "execution_count": 192,
     "metadata": {},
     "output_type": "execute_result"
    },
    {
     "data": {
      "image/png": "[encoded data removed]",
      "text/plain": [
       "<Figure size 432x288 with 1 Axes>"
      ]
     },
     "metadata": {
      "needs_background": "light"
     },
     "output_type": "display_data"
    }
   ],
   "source": [
    "plt.plot(list(range(47)), one_img_res)\n",
    "plt.ylim(0)"
   ]
  },
  {
   "cell_type": "code",
   "execution_count": 193,
   "metadata": {},
   "outputs": [
    {
     "name": "stderr",
     "output_type": "stream",
     "text": [
      "../utils.py:38: RuntimeWarning: invalid value encountered in arccos\n",
      "  return np.rad2deg(np.arccos(scalar_product / (norm_1 * norm_2)))\n"
     ]
    },
    {
     "name": "stdout",
     "output_type": "stream",
     "text": [
      "1000\n",
      "2000\n",
      "3000\n",
      "4000\n",
      "5000\n",
      "6000\n",
      "7000\n",
      "8000\n",
      "9000\n",
      "10000\n",
      "CPU times: user 39min, sys: 1.02 s, total: 39min 1s\n",
      "Wall time: 39min 1s\n"
     ]
    }
   ],
   "source": [
    "%%time\n",
    "# А теперь для всех картинок!\n",
    "\n",
    "is_in_k_around = []\n",
    "\n",
    "for img_id in test_ids[:100]:\n",
    "    \n",
    "    is_in_k_around += is_in_points_around_in_ks_for_one_image(img_id, max_k=48)\n",
    "    \n",
    "    if len(is_in_k_around) % 1000 == 0:\n",
    "        print(len(is_in_k_around))\n",
    "        "
   ]
  },
  {
   "cell_type": "code",
   "execution_count": 195,
   "metadata": {},
   "outputs": [],
   "source": [
    "is_in_k_around = np.array(is_in_k_around)"
   ]
  },
  {
   "cell_type": "code",
   "execution_count": 196,
   "metadata": {},
   "outputs": [],
   "source": [
    "np.save(\"../dataset/is_in_k_6_8_around.npy\", is_in_k_around)"
   ]
  },
  {
   "cell_type": "code",
   "execution_count": 197,
   "metadata": {},
   "outputs": [],
   "source": [
    "acc_in_k_around = []\n",
    "for i in range(48):\n",
    "    acc_in_k_around.append(is_in_k_around[:, i].sum() / is_in_k_around.shape[0])"
   ]
  },
  {
   "cell_type": "code",
   "execution_count": 198,
   "metadata": {},
   "outputs": [
    {
     "data": {
      "image/png": "[encoded data removed]",
      "text/plain": [
       "<Figure size 432x288 with 1 Axes>"
      ]
     },
     "metadata": {
      "needs_background": "light"
     },
     "output_type": "display_data"
    }
   ],
   "source": [
    "plt.plot(np.array(list(range(48))) + 1, acc_in_k_around)\n",
    "plt.xlabel('k')\n",
    "plt.ylabel('precision')\n",
    "plt.show()"
   ]
  },
  {
   "cell_type": "code",
   "execution_count": 199,
   "metadata": {
    "scrolled": true
   },
   "outputs": [
    {
     "name": "stdout",
     "output_type": "stream",
     "text": [
      "K: 1 - 0.1119\n",
      "K: 2 - 0.1794\n",
      "K: 3 - 0.3124\n",
      "K: 4 - 0.3593\n",
      "K: 5 - 0.4042\n",
      "K: 6 - 0.4518\n",
      "K: 7 - 0.4905\n",
      "K: 8 - 0.5063\n",
      "K: 9 - 0.5599\n",
      "K: 10 - 0.5872\n",
      "K: 11 - 0.6046\n",
      "K: 12 - 0.6389\n",
      "K: 13 - 0.6727\n",
      "K: 14 - 0.6931\n",
      "K: 15 - 0.7221\n",
      "K: 16 - 0.7338\n",
      "K: 17 - 0.7432\n",
      "K: 18 - 0.7511\n",
      "K: 19 - 0.7584\n",
      "K: 20 - 0.766\n",
      "K: 21 - 0.7752\n",
      "K: 22 - 0.7825\n",
      "K: 23 - 0.7896\n",
      "K: 24 - 0.8171\n",
      "K: 25 - 0.8233\n",
      "K: 26 - 0.8641\n",
      "K: 27 - 0.9003\n",
      "K: 28 - 0.9065\n",
      "K: 29 - 0.9124\n",
      "K: 30 - 0.9335\n",
      "K: 31 - 0.9586\n",
      "K: 32 - 0.9684\n",
      "K: 33 - 0.9725\n",
      "K: 34 - 0.9755\n",
      "K: 35 - 0.9803\n",
      "K: 36 - 0.9852\n",
      "K: 37 - 0.9871\n",
      "K: 38 - 0.99\n",
      "K: 39 - 0.9913\n",
      "K: 40 - 0.9938\n",
      "K: 41 - 0.9957\n",
      "K: 42 - 0.9963\n",
      "K: 43 - 0.9985\n",
      "K: 44 - 0.9988\n",
      "K: 45 - 1.0\n",
      "K: 46 - 1.0\n",
      "K: 47 - 1.0\n",
      "K: 48 - 1.0\n"
     ]
    }
   ],
   "source": [
    "for k in range(48):\n",
    "    print(f\"K: {k + 1} - {acc_in_k_around[k]}\")"
   ]
  },
  {
   "cell_type": "code",
   "execution_count": null,
   "metadata": {},
   "outputs": [],
   "source": []
  },
  {
   "cell_type": "code",
   "execution_count": 200,
   "metadata": {},
   "outputs": [
    {
     "data": {
      "text/plain": [
       "0.020833333333333332"
      ]
     },
     "execution_count": 200,
     "metadata": {},
     "output_type": "execute_result"
    }
   ],
   "source": [
    "1 / 48"
   ]
  },
  {
   "cell_type": "code",
   "execution_count": 201,
   "metadata": {},
   "outputs": [
    {
     "data": {
      "text/plain": [
       "0.1875"
      ]
     },
     "execution_count": 201,
     "metadata": {},
     "output_type": "execute_result"
    }
   ],
   "source": [
    "9 / 48"
   ]
  },
  {
   "cell_type": "markdown",
   "metadata": {},
   "source": [
    "Получаем по сути случайность"
   ]
  },
  {
   "cell_type": "code",
   "execution_count": null,
   "metadata": {},
   "outputs": [],
   "source": []
  },
  {
   "cell_type": "code",
   "execution_count": null,
   "metadata": {},
   "outputs": [],
   "source": []
  },
  {
   "cell_type": "markdown",
   "metadata": {},
   "source": [
    "Для приличия посчитаем ещё и для 3x4, но там, скорее всего будет то же самое.\n",
    "\n",
    "Есть идея выделить картинки, на которых должно работать лучше чем рандом.\n",
    "\n",
    "Случаи, когда нельзя сделать лучше, чем рандом:\n",
    "\n",
    "- на картинке только 1 объект\n",
    "- на картинке нет объектов\n",
    "\n",
    "P.S. valley и ridge не используются, так что их выкидываем - считаем, что объектов нет"
   ]
  },
  {
   "cell_type": "markdown",
   "metadata": {},
   "source": [
    "Ещё один случай, в котором, скорее всего, ничего не будет работать - на картинке остаются объекты только одного типа и их очень много"
   ]
  },
  {
   "cell_type": "code",
   "execution_count": null,
   "metadata": {},
   "outputs": [],
   "source": []
  }
 ],
 "metadata": {
  "kernelspec": {
   "display_name": "Python (tf-gpu)",
   "language": "python",
   "name": "tf-gpu"
  },
  "language_info": {
   "codemirror_mode": {
    "name": "ipython",
    "version": 3
   },
   "file_extension": ".py",
   "mimetype": "text/x-python",
   "name": "python",
   "nbconvert_exporter": "python",
   "pygments_lexer": "ipython3",
   "version": "3.7.5"
  }
 },
 "nbformat": 4,
 "nbformat_minor": 2
}
