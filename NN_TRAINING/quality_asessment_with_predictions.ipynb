{
 "cells": [
  {
   "cell_type": "markdown",
   "metadata": {},
   "source": [
    "Нотбук, в котором будет оцениваться качество определения местоположения в случае, когда круговая диаграмма агента строится по \"идеальным\" данным, а круговые диаграммы для изображения - по предсказаниям."
   ]
  },
  {
   "cell_type": "code",
   "execution_count": 1,
   "metadata": {},
   "outputs": [
    {
     "name": "stderr",
     "output_type": "stream",
     "text": [
      "Using TensorFlow backend.\n"
     ]
    }
   ],
   "source": [
    "import pickle\n",
    "import os\n",
    "import cv2\n",
    "import numpy as np\n",
    "import matplotlib.pyplot as plt\n",
    "\n",
    "from keras.models import load_model"
   ]
  },
  {
   "cell_type": "code",
   "execution_count": 2,
   "metadata": {},
   "outputs": [],
   "source": [
    "import sys\n",
    "sys.path.append('..')\n",
    "from rectangles_drawing import calculate_one_pixels_diffs\n",
    "from osm_object import Image_OSM_object\n",
    "\n",
    "from circle_diagram import calculate_sectors_count, create_circle_diagram\n",
    "from circle_diagram import Image_circle_diagrams"
   ]
  },
  {
   "cell_type": "code",
   "execution_count": 4,
   "metadata": {},
   "outputs": [],
   "source": [
    "H, W = 300, 400\n",
    "\n",
    "# one_pixel_lat_diff, one_pixel_lon_diff = calculate_one_pixels_diffs(right_top_lat, right_top_lon, \n",
    "#                                                                     left_bottom_lat, left_bottom_lon, (H, W))\n",
    "# print(one_pixel_lat_diff, one_pixel_lon_diff)"
   ]
  },
  {
   "cell_type": "code",
   "execution_count": 5,
   "metadata": {},
   "outputs": [],
   "source": [
    "def read_pickle(filepath):\n",
    "    with open(filepath, 'rb') as f:\n",
    "        return pickle.load(f)\n",
    "    \n",
    "def dump_pickle(filepath, obj):\n",
    "    with open(filepath, 'wb') as f:\n",
    "        pickle.dump(obj, f)"
   ]
  },
  {
   "cell_type": "code",
   "execution_count": 6,
   "metadata": {},
   "outputs": [],
   "source": [
    "THRESH_WOOD = 0.15\n",
    "THRESH_WATER = 0.15\n",
    "THRESH_PEAK = 0.08"
   ]
  },
  {
   "cell_type": "markdown",
   "metadata": {},
   "source": [
    "## 1. Нужно предсказать и сохранить все маски"
   ]
  },
  {
   "cell_type": "markdown",
   "metadata": {},
   "source": [
    "Тестовые картинки."
   ]
  },
  {
   "cell_type": "code",
   "execution_count": 7,
   "metadata": {},
   "outputs": [],
   "source": [
    "train_val_test = read_pickle(\"../dataset/train_val_test_split.pickle\")\n",
    "test_ids = train_val_test['test']\n",
    "\n",
    "# берём, как и в случае с ideal_quality_asessment.ipynb только первые 100\n",
    "test_ids = test_ids[:100]"
   ]
  },
  {
   "cell_type": "code",
   "execution_count": 8,
   "metadata": {},
   "outputs": [
    {
     "name": "stdout",
     "output_type": "stream",
     "text": [
      "['20327', '9501', '3138', '7130', '10196']\n"
     ]
    }
   ],
   "source": [
    "print(test_ids[:5])"
   ]
  },
  {
   "cell_type": "markdown",
   "metadata": {},
   "source": [
    "Сначала посмотрим, в каком формате нужно сохранить результаты получения масок."
   ]
  },
  {
   "cell_type": "code",
   "execution_count": 9,
   "metadata": {},
   "outputs": [],
   "source": [
    "img_shape = (H, W)\n",
    "\n",
    "corners_folder = '../dataset/corners'\n",
    "tags_folder = '../dataset/tags'\n",
    "bounds_folder = '../dataset/objects'\n",
    "\n",
    "satellites_folder = '../dataset/satellite'"
   ]
  },
  {
   "cell_type": "code",
   "execution_count": 10,
   "metadata": {},
   "outputs": [],
   "source": [
    "filename = test_ids[0]\n",
    "\n",
    "filename_img = filename + '.png'\n",
    "filename_pickle = filename + '.pickle'\n",
    "\n",
    "corners = read_pickle(os.path.join(corners_folder, filename_pickle))\n",
    "tags = read_pickle(os.path.join(tags_folder, filename_pickle))\n",
    "bounds = read_pickle(os.path.join(bounds_folder, filename_pickle))\n",
    "\n",
    "right_top_lat = corners['right_top_lat']\n",
    "right_top_lon = corners['right_top_lon']\n",
    "left_bottom_lat = corners['left_bottom_lat']\n",
    "left_bottom_lon = corners['left_bottom_lon']"
   ]
  },
  {
   "cell_type": "code",
   "execution_count": 11,
   "metadata": {
    "scrolled": true
   },
   "outputs": [
    {
     "data": {
      "text/plain": [
       "['peak',\n",
       " 'peak',\n",
       " 'peak',\n",
       " 'peak',\n",
       " 'peak',\n",
       " 'peak',\n",
       " 'peak',\n",
       " 'peak',\n",
       " 'peak',\n",
       " 'peak',\n",
       " 'peak',\n",
       " 'peak',\n",
       " 'peak',\n",
       " 'peak',\n",
       " 'peak',\n",
       " 'peak',\n",
       " 'peak',\n",
       " 'peak',\n",
       " 'peak',\n",
       " 'peak',\n",
       " 'peak',\n",
       " 'peak',\n",
       " 'peak',\n",
       " 'peak',\n",
       " 'peak',\n",
       " 'peak',\n",
       " 'peak',\n",
       " 'peak',\n",
       " 'peak',\n",
       " 'peak',\n",
       " 'peak',\n",
       " 'peak',\n",
       " 'peak',\n",
       " 'peak',\n",
       " 'peak',\n",
       " 'peak',\n",
       " 'peak',\n",
       " 'peak',\n",
       " 'peak',\n",
       " 'peak',\n",
       " 'peak',\n",
       " 'peak',\n",
       " 'peak',\n",
       " 'peak',\n",
       " 'peak',\n",
       " 'peak']"
      ]
     },
     "execution_count": 11,
     "metadata": {},
     "output_type": "execute_result"
    }
   ],
   "source": [
    "tags"
   ]
  },
  {
   "cell_type": "code",
   "execution_count": 12,
   "metadata": {},
   "outputs": [
    {
     "data": {
      "text/plain": [
       "[{'maxlon': 45.48593591338583,\n",
       "  'minlat': 31.835190895844494,\n",
       "  'minlon': 45.47495008661417,\n",
       "  'maxlat': 31.842169104155506},\n",
       " {'maxlon': 45.40584391338583,\n",
       "  'minlat': 31.814561895844495,\n",
       "  'minlon': 45.39999999999999,\n",
       "  'maxlat': 31.821540104155506},\n",
       " {'maxlon': 45.53378611338583,\n",
       "  'minlat': 32.047306595844496,\n",
       "  'minlon': 45.52280028661417,\n",
       "  'maxlat': 32.05428480415551},\n",
       " {'maxlon': 45.44862491338583,\n",
       "  'minlat': 32.122818895844496,\n",
       "  'minlon': 45.43763908661417,\n",
       "  'maxlat': 32.12979710415551},\n",
       " {'maxlon': 45.41150291338583,\n",
       "  'minlat': 32.10160389584449,\n",
       "  'minlon': 45.40051708661417,\n",
       "  'maxlat': 32.1085821041555},\n",
       " {'maxlon': 45.440134913385826,\n",
       "  'minlat': 32.06634589584449,\n",
       "  'minlon': 45.42914908661417,\n",
       "  'maxlat': 32.0733241041555},\n",
       " {'maxlon': 45.410764913385826,\n",
       "  'minlat': 32.03746289584449,\n",
       "  'minlon': 45.39999999999999,\n",
       "  'maxlat': 32.0444411041555},\n",
       " {'maxlon': 45.51564591338583,\n",
       "  'minlat': 32.0581318958445,\n",
       "  'minlon': 45.50466008661417,\n",
       "  'maxlat': 32.06511010415551},\n",
       " {'maxlon': 45.41510791338583,\n",
       "  'minlat': 32.047941895844495,\n",
       "  'minlon': 45.40412208661417,\n",
       "  'maxlat': 32.05492010415551},\n",
       " {'maxlon': 45.42364491338583,\n",
       "  'minlat': 32.069580895844496,\n",
       "  'minlon': 45.41265908661417,\n",
       "  'maxlat': 32.07655910415551},\n",
       " {'maxlon': 45.55549291338583,\n",
       "  'minlat': 32.113177895844494,\n",
       "  'minlon': 45.54450708661417,\n",
       "  'maxlat': 32.120156104155505},\n",
       " {'maxlon': 45.56174491338583,\n",
       "  'minlat': 32.109163895844496,\n",
       "  'minlon': 45.55075908661417,\n",
       "  'maxlat': 32.11614210415551},\n",
       " {'maxlon': 45.43050491338583,\n",
       "  'minlat': 32.056539895844494,\n",
       "  'minlon': 45.41951908661417,\n",
       "  'maxlat': 32.063518104155506},\n",
       " {'maxlon': 45.48272391338583,\n",
       "  'minlat': 32.025354895844494,\n",
       "  'minlon': 45.471738086614174,\n",
       "  'maxlat': 32.032333104155505},\n",
       " {'maxlon': 45.45447581338583,\n",
       "  'minlat': 32.097656295844494,\n",
       "  'minlon': 45.44348998661417,\n",
       "  'maxlat': 32.104634504155506},\n",
       " {'maxlon': 45.62190691338583,\n",
       "  'minlat': 32.0682378958445,\n",
       "  'minlon': 45.61092108661417,\n",
       "  'maxlat': 32.07521610415551},\n",
       " {'maxlon': 45.68623691338583,\n",
       "  'minlat': 32.01772289584449,\n",
       "  'minlon': 45.67525108661417,\n",
       "  'maxlat': 32.024701104155504},\n",
       " {'maxlon': 45.70713291338583,\n",
       "  'minlat': 32.04329689584449,\n",
       "  'minlon': 45.69614708661417,\n",
       "  'maxlat': 32.0502751041555},\n",
       " {'maxlon': 45.41442191338583,\n",
       "  'minlat': 31.994101895844494,\n",
       "  'minlon': 45.40343608661417,\n",
       "  'maxlat': 32.001080104155506},\n",
       " {'maxlon': 45.43002691338583,\n",
       "  'minlat': 31.920285895844493,\n",
       "  'minlon': 45.41904108661417,\n",
       "  'maxlat': 31.927264104155505},\n",
       " {'maxlon': 45.41119091338583,\n",
       "  'minlat': 31.930756895844496,\n",
       "  'minlon': 45.40020508661417,\n",
       "  'maxlat': 31.937735104155507},\n",
       " {'maxlon': 45.42636291338583,\n",
       "  'minlat': 31.923814895844494,\n",
       "  'minlon': 45.41537708661417,\n",
       "  'maxlat': 31.930793104155505},\n",
       " {'maxlon': 45.42200591338583,\n",
       "  'minlat': 31.926820895844493,\n",
       "  'minlon': 45.41102008661417,\n",
       "  'maxlat': 31.933799104155504},\n",
       " {'maxlon': 45.54587691338583,\n",
       "  'minlat': 31.927608895844493,\n",
       "  'minlon': 45.534891086614174,\n",
       "  'maxlat': 31.934587104155504},\n",
       " {'maxlon': 45.52017691338583,\n",
       "  'minlat': 31.952708895844495,\n",
       "  'minlon': 45.50919108661417,\n",
       "  'maxlat': 31.959687104155506},\n",
       " {'maxlon': 45.66474891338583,\n",
       "  'minlat': 31.890272895844493,\n",
       "  'minlon': 45.65376308661417,\n",
       "  'maxlat': 31.897251104155504},\n",
       " {'maxlon': 45.54127991338583,\n",
       "  'minlat': 31.850049895844496,\n",
       "  'minlon': 45.53029408661417,\n",
       "  'maxlat': 31.857028104155507},\n",
       " {'maxlon': 45.64759791338583,\n",
       "  'minlat': 31.823584895844494,\n",
       "  'minlon': 45.63661208661417,\n",
       "  'maxlat': 31.830563104155505},\n",
       " {'maxlon': 45.64362591338583,\n",
       "  'minlat': 31.828808895844496,\n",
       "  'minlon': 45.632640086614174,\n",
       "  'maxlat': 31.835787104155507},\n",
       " {'maxlon': 45.54278631338583,\n",
       "  'minlat': 31.927043895844495,\n",
       "  'minlon': 45.53180048661417,\n",
       "  'maxlat': 31.934022104155506},\n",
       " {'maxlon': 45.54736091338583,\n",
       "  'minlat': 31.921226895844494,\n",
       "  'minlon': 45.53637508661417,\n",
       "  'maxlat': 31.928205104155506},\n",
       " {'maxlon': 45.55530191338583,\n",
       "  'minlat': 31.924398895844494,\n",
       "  'minlon': 45.544316086614174,\n",
       "  'maxlat': 31.931377104155505},\n",
       " {'maxlon': 45.54281061338583,\n",
       "  'minlat': 31.926398795844495,\n",
       "  'minlon': 45.53182478661417,\n",
       "  'maxlat': 31.933377004155506},\n",
       " {'maxlon': 45.693936913385826,\n",
       "  'minlat': 31.851212895844494,\n",
       "  'minlon': 45.68295108661417,\n",
       "  'maxlat': 31.858191104155505},\n",
       " {'maxlon': 45.79664291338583,\n",
       "  'minlat': 32.120536895844495,\n",
       "  'minlon': 45.78565708661417,\n",
       "  'maxlat': 32.127515104155506},\n",
       " {'maxlon': 45.75216191338583,\n",
       "  'minlat': 31.973172895844495,\n",
       "  'minlon': 45.74117608661417,\n",
       "  'maxlat': 31.980151104155507},\n",
       " {'maxlon': 45.80909191338583,\n",
       "  'minlat': 32.02883989584449,\n",
       "  'minlon': 45.79810608661417,\n",
       "  'maxlat': 32.0358181041555},\n",
       " {'maxlon': 45.83003361338583,\n",
       "  'minlat': 32.135457295844496,\n",
       "  'minlon': 45.81904778661417,\n",
       "  'maxlat': 32.14243550415551},\n",
       " {'maxlon': 45.81122691338583,\n",
       "  'minlat': 32.080958895844496,\n",
       "  'minlon': 45.80024108661417,\n",
       "  'maxlat': 32.08793710415551},\n",
       " {'maxlon': 45.818953913385826,\n",
       "  'minlat': 32.005226895844494,\n",
       "  'minlon': 45.80796808661417,\n",
       "  'maxlat': 32.012205104155505},\n",
       " {'maxlon': 45.82467491338583,\n",
       "  'minlat': 32.0038578958445,\n",
       "  'minlon': 45.81368908661417,\n",
       "  'maxlat': 32.01083610415551},\n",
       " {'maxlon': 45.84629991338583,\n",
       "  'minlat': 32.05541189584449,\n",
       "  'minlon': 45.83531408661417,\n",
       "  'maxlat': 32.062390104155504},\n",
       " {'maxlon': 45.74132091338583,\n",
       "  'minlat': 32.0391098958445,\n",
       "  'minlon': 45.73033508661417,\n",
       "  'maxlat': 32.04608810415551},\n",
       " {'maxlon': 45.85247191338583,\n",
       "  'minlat': 32.046984895844496,\n",
       "  'minlon': 45.84148608661417,\n",
       "  'maxlat': 32.05396310415551},\n",
       " {'maxlon': 45.73178691338583,\n",
       "  'minlat': 32.0442968958445,\n",
       "  'minlon': 45.72080108661417,\n",
       "  'maxlat': 32.05127510415551},\n",
       " {'maxlon': 45.77671391338583,\n",
       "  'minlat': 32.07350489584449,\n",
       "  'minlon': 45.76572808661417,\n",
       "  'maxlat': 32.080483104155505}]"
      ]
     },
     "execution_count": 12,
     "metadata": {},
     "output_type": "execute_result"
    }
   ],
   "source": [
    "bounds"
   ]
  },
  {
   "cell_type": "code",
   "execution_count": 13,
   "metadata": {},
   "outputs": [
    {
     "data": {
      "text/plain": [
       "{'left_bottom_lon': 45.39999999999999,\n",
       " 'left_bottom_lat': 31.799999999999994,\n",
       " 'right_top_lon': 45.94929133858267,\n",
       " 'right_top_lat': 32.14891041555065}"
      ]
     },
     "execution_count": 13,
     "metadata": {},
     "output_type": "execute_result"
    }
   ],
   "source": [
    "corners"
   ]
  },
  {
   "cell_type": "markdown",
   "metadata": {},
   "source": [
    "Нужно будет приводить границы в пикселях к границам в значениях широты и долготы."
   ]
  },
  {
   "cell_type": "markdown",
   "metadata": {},
   "source": [
    "Попробуем для одной картинки."
   ]
  },
  {
   "cell_type": "code",
   "execution_count": 14,
   "metadata": {},
   "outputs": [],
   "source": [
    "predictions_folder = '../dataset/predictions/'\n",
    "raw_predicts_folder = 'raw_predicts_img'\n",
    "rectangled_predicts_folder = 'rectangled_predicts_pixel'\n",
    "objects_predicts_folder = 'rectangled_predicts_obj'  # {objects, tags}\n",
    "predicts_osm_folder = 'predicts_osm'\n",
    "\n",
    "wood_filename = 'wood'\n",
    "water_filename = 'water'\n",
    "peak_filename = 'peak'"
   ]
  },
  {
   "cell_type": "code",
   "execution_count": 15,
   "metadata": {},
   "outputs": [],
   "source": [
    "def predict_one(autoencoder, img, thresh):\n",
    "    return autoencoder.predict(np.array([img / 255.]).reshape(([1] + list(img.shape))))[0] >= thresh\n",
    "\n",
    "\n",
    "def mask_to_rectangles(mask):\n",
    "    visited = np.zeros(mask.shape[:2], dtype=int)\n",
    "    queue = []\n",
    "    rectangles = []\n",
    "    \n",
    "    queue_idx = 0\n",
    "\n",
    "    for x in range(mask.shape[0]):\n",
    "        for y in range(mask.shape[1]):\n",
    "            # первая непосещённая вершина\n",
    "            if visited[x][y] == 0 and mask[x][y]:\n",
    "                cur_vertex = (x, y)\n",
    "            else:\n",
    "                continue\n",
    "        \n",
    "            queue.append(cur_vertex)\n",
    "        \n",
    "            def bfs(queue_idx):\n",
    "                min_x, max_x, min_y, max_y = None, None, None, None\n",
    "\n",
    "                while len(queue) != queue_idx:\n",
    "                    v = queue[queue_idx]\n",
    "                    queue_idx += 1\n",
    "\n",
    "                    x, y = v\n",
    "                    if visited[x][y] == 1:\n",
    "                        continue\n",
    "                    visited[x][y] = 1\n",
    "\n",
    "                    if min_x is None or x < min_x:\n",
    "                        min_x = x\n",
    "                    if max_x is None or x > max_x:\n",
    "                        max_x = x\n",
    "                    if min_y is None or y < min_y:\n",
    "                        min_y = y\n",
    "                    if max_y is None or y > max_y:\n",
    "                        max_y = y\n",
    "\n",
    "                    # рассматриваем все соседние непосещённые вершины\n",
    "                    left = (x, y - 1)\n",
    "                    right = (x, y + 1)\n",
    "                    top = (x - 1, y)\n",
    "                    bottom = (x + 1, y)\n",
    "\n",
    "                    def visit_vertex(x, y):\n",
    "                        if x >= 0 and y >= 0 and x < mask.shape[0] and y < mask.shape[1] and visited[x][y] == 0\\\n",
    "                            and mask[x][y]:\n",
    "                                queue.append((x, y))\n",
    "\n",
    "                    visit_vertex(*left)\n",
    "                    visit_vertex(*right)\n",
    "                    visit_vertex(*top)\n",
    "                    visit_vertex(*bottom)\n",
    "\n",
    "                return queue_idx, queue, visited, min_x, max_x, min_y, max_y\n",
    "\n",
    "            queue_idx, queue, visited, min_x, max_x, min_y, max_y = bfs(queue_idx)\n",
    "            if min_x is not None and max_x is not None and min_y is not None and max_y is not None:\n",
    "                rectangles.append((min_x, max_x, min_y, max_y))\n",
    "\n",
    "    return rectangles\n"
   ]
  },
  {
   "cell_type": "code",
   "execution_count": 16,
   "metadata": {},
   "outputs": [],
   "source": [
    "def rectangle_to_coords(rectangle, right_top_lat, right_top_lon, left_bottom_lat, left_bottom_lon):\n",
    "    x1, x2, y1, y2 = rectangle\n",
    "    \n",
    "    one_pixel_lat_diff, one_pixel_lon_diff = calculate_one_pixels_diffs(right_top_lat, right_top_lon, \n",
    "                                                                    left_bottom_lat, left_bottom_lon, (H, W))\n",
    "    \n",
    "    minlat = right_top_lat - (x2 * one_pixel_lat_diff)\n",
    "    maxlat = right_top_lat - (x1 * one_pixel_lat_diff)\n",
    "    minlon = left_bottom_lon + (y1 * one_pixel_lon_diff)\n",
    "    maxlon = left_bottom_lon + (y2 * one_pixel_lon_diff)\n",
    "    \n",
    "    return minlat, maxlat, minlon, maxlon"
   ]
  },
  {
   "cell_type": "code",
   "execution_count": 22,
   "metadata": {},
   "outputs": [],
   "source": [
    "def predict_one_img(img_id, class_id, autoencoder, thresh, class_name):\n",
    "    \n",
    "    filename = img_id\n",
    "\n",
    "    filename_img = filename + '.png'\n",
    "    filename_pickle = filename + '.pickle'\n",
    "\n",
    "    corners = read_pickle(os.path.join(corners_folder, filename_pickle))\n",
    "    tags = read_pickle(os.path.join(tags_folder, filename_pickle))\n",
    "    bounds = read_pickle(os.path.join(bounds_folder, filename_pickle))\n",
    "\n",
    "    right_top_lat = corners['right_top_lat']\n",
    "    right_top_lon = corners['right_top_lon']\n",
    "    left_bottom_lat = corners['left_bottom_lat']\n",
    "    left_bottom_lon = corners['left_bottom_lon']\n",
    "    \n",
    "#     satellite_img = cv2.imread(os.path.join(satellites_folder, filename_img))\n",
    "    \n",
    "#     mask_pred = predict_one(autoencoder, satellite_img, thresh)\n",
    "    mask_pred = np.load(os.path.join(predictions_folder, raw_predicts_folder, class_name, img_id + '.npy'))\n",
    "    \n",
    "    rectangles = mask_to_rectangles(mask_pred)\n",
    "    \n",
    "    bounds = []\n",
    "    tags = []\n",
    "    \n",
    "    # теперь каждый прямоугольник нужно преобразовать в minlat, maxlat, minlon, maxlon\n",
    "    for r in rectangles:\n",
    "        minlat, maxlat, minlon, maxlon = rectangle_to_coords(r, right_top_lat, right_top_lon, left_bottom_lat, left_bottom_lon)\n",
    "        bounds.append({'maxlon': maxlon, 'minlat': minlat, 'minlon': minlon, 'maxlat': maxlat})\n",
    "        tags.append(class_name)\n",
    "        \n",
    "    return bounds, tags, mask_pred, rectangles"
   ]
  },
  {
   "cell_type": "code",
   "execution_count": 23,
   "metadata": {
    "scrolled": true
   },
   "outputs": [],
   "source": [
    "# autoencoder = load_model(os.path.join('AUTOENCODER_MODEL/', 'best_model_wood_satellite.h5'))"
   ]
  },
  {
   "cell_type": "code",
   "execution_count": 24,
   "metadata": {},
   "outputs": [
    {
     "name": "stdout",
     "output_type": "stream",
     "text": [
      "CPU times: user 154 ms, sys: 0 ns, total: 154 ms\n",
      "Wall time: 152 ms\n"
     ]
    }
   ],
   "source": [
    "%%time\n",
    "bounds, tags, mask_pred, rectangles = predict_one_img(\n",
    "    test_ids[0],\n",
    "    class_id=0,\n",
    "    autoencoder=None,\n",
    "#     autoencoder=autoencoder,\n",
    "    thresh=THRESH_WOOD,\n",
    "    class_name='wood'\n",
    ")"
   ]
  },
  {
   "cell_type": "code",
   "execution_count": 25,
   "metadata": {},
   "outputs": [
    {
     "name": "stdout",
     "output_type": "stream",
     "text": [
      "[{'maxlon': 45.56616062992125, 'minlat': 32.10471509624757, 'minlon': 45.49887244094487, 'maxlat': 32.14891041555065}, {'maxlon': 45.627955905511804, 'minlat': 32.13611703364713, 'minlon': 45.627955905511804, 'maxlat': 32.13611703364713}, {'maxlon': 45.619716535433064, 'minlat': 32.111693304558585, 'minlon': 45.60598425196849, 'maxlat': 32.1221606170251}]\n",
      "['wood', 'wood', 'wood']\n",
      "[(0, 38, 72, 121), (11, 11, 166, 166), (23, 32, 150, 160)]\n"
     ]
    }
   ],
   "source": [
    "print(bounds)\n",
    "print(tags)\n",
    "print(rectangles)"
   ]
  },
  {
   "cell_type": "code",
   "execution_count": 39,
   "metadata": {},
   "outputs": [
    {
     "data": {
      "text/plain": [
       "<matplotlib.image.AxesImage at 0x7fd0e7b2d990>"
      ]
     },
     "execution_count": 39,
     "metadata": {},
     "output_type": "execute_result"
    },
    {
     "data": {
      "image/png": "[encoded data removed]",
      "text/plain": [
       "<Figure size 720x360 with 2 Axes>"
      ]
     },
     "metadata": {
      "needs_background": "light"
     },
     "output_type": "display_data"
    }
   ],
   "source": [
    "plt.figure(figsize=(10, 5))\n",
    "\n",
    "plt.subplot(121)\n",
    "plt.imshow(mask_pred.reshape(img_shape))\n",
    "\n",
    "mask_copy = mask_pred.copy()\n",
    "for r in rectangles:\n",
    "    min_x, max_x, min_y, max_y = r\n",
    "    mask_copy[min_x:max_x+1, min_y:max_y+1] = 1\n",
    "    \n",
    "plt.subplot(122)\n",
    "plt.imshow(mask_copy.reshape(img_shape))"
   ]
  },
  {
   "cell_type": "code",
   "execution_count": 27,
   "metadata": {},
   "outputs": [
    {
     "name": "stdout",
     "output_type": "stream",
     "text": [
      "32.14891041555065\n",
      "45.94929133858267\n",
      "31.799999999999994\n",
      "45.39999999999999\n"
     ]
    }
   ],
   "source": [
    "print(right_top_lat)\n",
    "print(right_top_lon)\n",
    "print(left_bottom_lat)\n",
    "print(left_bottom_lon)"
   ]
  },
  {
   "cell_type": "code",
   "execution_count": null,
   "metadata": {},
   "outputs": [],
   "source": []
  },
  {
   "cell_type": "code",
   "execution_count": 32,
   "metadata": {},
   "outputs": [],
   "source": [
    "def predict_and_save_one_img(img_id, class_id, autoencoder, thresh, class_name):\n",
    "    bounds, tags, mask_pred, rectangles = predict_one_img(img_id, class_id, autoencoder, thresh, class_name)\n",
    "    \n",
    "    # теперь нужно всё сохранить\n",
    "    pickle_filename = img_id + '.pickle'\n",
    "    \n",
    "    # сырые предикшны (картинка)\n",
    "#     np.save(os.path.join(predictions_folder, raw_predicts_folder, class_name, img_id + '.npy'), mask_pred)\n",
    "    \n",
    "    # пиксели предсказанных прямоугольников\n",
    "#     dump_pickle(os.path.join(predictions_folder, rectangled_predicts_folder, class_name, pickle_filename), rectangles)\n",
    "    \n",
    "    # objects and tags\n",
    "    dump_pickle(\n",
    "        os.path.join(predictions_folder, objects_predicts_folder, class_name, pickle_filename),\n",
    "        {'objects': bounds, 'tags': tags}\n",
    "    )\n",
    "    "
   ]
  },
  {
   "cell_type": "code",
   "execution_count": 81,
   "metadata": {},
   "outputs": [],
   "source": [
    "# autoencoder = load_model(os.path.join('AUTOENCODER_MODEL/', 'best_model_wood_satellite.h5'))"
   ]
  },
  {
   "cell_type": "code",
   "execution_count": 82,
   "metadata": {},
   "outputs": [
    {
     "name": "stdout",
     "output_type": "stream",
     "text": [
      "CPU times: user 566 ms, sys: 24.2 ms, total: 590 ms\n",
      "Wall time: 383 ms\n"
     ]
    }
   ],
   "source": [
    "# %%time\n",
    "# predict_and_save_one_img(test_ids[0], class_id=0, autoencoder=autoencoder, thresh=THRESH_WOOD, class_name='wood')"
   ]
  },
  {
   "cell_type": "code",
   "execution_count": 34,
   "metadata": {},
   "outputs": [
    {
     "name": "stdout",
     "output_type": "stream",
     "text": [
      "CPU times: user 19.9 s, sys: 0 ns, total: 19.9 s\n",
      "Wall time: 20.3 s\n"
     ]
    }
   ],
   "source": [
    "%%time\n",
    "for i in range(100):\n",
    "    predict_and_save_one_img(test_ids[i], class_id=0, autoencoder=None, thresh=THRESH_WOOD, class_name='wood')"
   ]
  },
  {
   "cell_type": "code",
   "execution_count": 84,
   "metadata": {},
   "outputs": [],
   "source": [
    "# autoencoder = load_model(os.path.join('AUTOENCODER_MODEL/', 'best_model_water_satellite.h5'))"
   ]
  },
  {
   "cell_type": "code",
   "execution_count": 35,
   "metadata": {},
   "outputs": [
    {
     "name": "stdout",
     "output_type": "stream",
     "text": [
      "CPU times: user 12.1 s, sys: 0 ns, total: 12.1 s\n",
      "Wall time: 12.3 s\n"
     ]
    }
   ],
   "source": [
    "%%time\n",
    "for i in range(100):\n",
    "    predict_and_save_one_img(test_ids[i], class_id=1, autoencoder=None, thresh=THRESH_WATER, class_name='water')"
   ]
  },
  {
   "cell_type": "code",
   "execution_count": 36,
   "metadata": {},
   "outputs": [],
   "source": [
    "# autoencoder = load_model(os.path.join('AUTOENCODER_MODEL/', 'best_model_peak_satellite.h5'))"
   ]
  },
  {
   "cell_type": "code",
   "execution_count": 37,
   "metadata": {},
   "outputs": [
    {
     "name": "stdout",
     "output_type": "stream",
     "text": [
      "CPU times: user 11.2 s, sys: 0 ns, total: 11.2 s\n",
      "Wall time: 11.4 s\n"
     ]
    }
   ],
   "source": [
    "%%time\n",
    "for i in range(100):\n",
    "    predict_and_save_one_img(test_ids[i], class_id=3, autoencoder=None, thresh=THRESH_PEAK, class_name='peak')"
   ]
  },
  {
   "cell_type": "code",
   "execution_count": null,
   "metadata": {},
   "outputs": [],
   "source": []
  },
  {
   "cell_type": "markdown",
   "metadata": {},
   "source": [
    "Теперь отдельные objects и tags объединим в единые и сохраним в корень"
   ]
  },
  {
   "cell_type": "code",
   "execution_count": 38,
   "metadata": {},
   "outputs": [],
   "source": [
    "for i in range(100):\n",
    "    filename = test_ids[i]\n",
    "    \n",
    "    pickle_filename = filename + '.pickle'\n",
    "    \n",
    "    dict_wood = read_pickle(\n",
    "        os.path.join(predictions_folder, objects_predicts_folder, 'wood', pickle_filename)\n",
    "    )\n",
    "    dict_water = read_pickle(\n",
    "        os.path.join(predictions_folder, objects_predicts_folder, 'water', pickle_filename)\n",
    "    )\n",
    "    dict_peak = read_pickle(\n",
    "        os.path.join(predictions_folder, objects_predicts_folder, 'peak', pickle_filename)\n",
    "    )\n",
    "    objects = dict_wood['objects'] + dict_water['objects'] + dict_peak['objects']\n",
    "    tags = dict_wood['tags'] + dict_water['tags'] + dict_peak['tags']\n",
    "    \n",
    "    dump_pickle(os.path.join(predictions_folder, objects_predicts_folder, pickle_filename), {'objects': objects, 'tags': tags})\n",
    "    "
   ]
  },
  {
   "cell_type": "markdown",
   "metadata": {},
   "source": [
    "Посмотрим, что там получились за objects и tags"
   ]
  },
  {
   "cell_type": "code",
   "execution_count": null,
   "metadata": {},
   "outputs": [],
   "source": []
  },
  {
   "cell_type": "code",
   "execution_count": 50,
   "metadata": {},
   "outputs": [
    {
     "name": "stdout",
     "output_type": "stream",
     "text": [
      "[(0, 38, 72, 121), (11, 11, 166, 166), (23, 32, 150, 160)]\n"
     ]
    },
    {
     "data": {
      "image/png": "[encoded data removed]",
      "text/plain": [
       "<Figure size 864x432 with 2 Axes>"
      ]
     },
     "metadata": {
      "needs_background": "light"
     },
     "output_type": "display_data"
    },
    {
     "name": "stdout",
     "output_type": "stream",
     "text": [
      "{'objects': [{'maxlon': 45.56616062992125, 'minlat': 32.10471509624757, 'minlon': 45.49887244094487, 'maxlat': 32.14891041555065}, {'maxlon': 45.627955905511804, 'minlat': 32.13611703364713, 'minlon': 45.627955905511804, 'maxlat': 32.13611703364713}, {'maxlon': 45.619716535433064, 'minlat': 32.111693304558585, 'minlon': 45.60598425196849, 'maxlat': 32.1221606170251}, {'maxlon': 45.65816692913385, 'minlat': 32.096573853218054, 'minlon': 45.48788661417322, 'maxlat': 32.14891041555065}, {'maxlon': 45.52496377952755, 'minlat': 32.010509284048894, 'minlon': 45.52496377952755, 'maxlat': 32.017487492359905}], 'tags': ['wood', 'wood', 'wood', 'water', 'water']}\n"
     ]
    }
   ],
   "source": [
    "img_id = test_ids[0]\n",
    "\n",
    "mask_pred = np.load(os.path.join(predictions_folder, raw_predicts_folder, 'wood', img_id + '.npy'))\n",
    "\n",
    "plt.figure(figsize=(12, 6))\n",
    "plt.subplot(121)\n",
    "plt.imshow(mask_pred.reshape(img_shape))\n",
    "\n",
    "pickle_filename = img_id + '.pickle'\n",
    "rectangles = read_pickle(os.path.join(predictions_folder, rectangled_predicts_folder, 'wood', pickle_filename))\n",
    "print(rectangles)\n",
    "\n",
    "mask_copy = mask_pred.copy()\n",
    "for x1, x2, y1, y2 in rectangles:\n",
    "    mask_copy[x1:x2+1, y1:y2+1] = 1\n",
    "    \n",
    "plt.subplot(122)\n",
    "plt.imshow(mask_copy.reshape(img_shape))\n",
    "plt.show()\n",
    "\n",
    "objects_and_tags = read_pickle(os.path.join(predictions_folder, objects_predicts_folder, pickle_filename))\n",
    "print(objects_and_tags)"
   ]
  },
  {
   "cell_type": "code",
   "execution_count": null,
   "metadata": {},
   "outputs": [],
   "source": []
  },
  {
   "cell_type": "markdown",
   "metadata": {},
   "source": [
    "Получение и сохранение osm. Сначала попробуем для одной картинки"
   ]
  },
  {
   "cell_type": "code",
   "execution_count": 51,
   "metadata": {},
   "outputs": [],
   "source": [
    "img_id = test_ids[0]\n",
    "\n",
    "filename = img_id\n",
    "\n",
    "filename_pickle = filename + '.pickle'\n",
    "\n",
    "corners = read_pickle(os.path.join(corners_folder, filename_pickle))\n",
    "objects_and_tags = read_pickle(os.path.join(predictions_folder, objects_predicts_folder, filename_pickle))\n",
    "tags = objects_and_tags['tags']\n",
    "bounds = objects_and_tags['objects']\n",
    "\n",
    "right_top_lat = corners['right_top_lat']\n",
    "right_top_lon = corners['right_top_lon']\n",
    "left_bottom_lat = corners['left_bottom_lat']\n",
    "left_bottom_lon = corners['left_bottom_lon']"
   ]
  },
  {
   "cell_type": "code",
   "execution_count": 52,
   "metadata": {},
   "outputs": [
    {
     "name": "stdout",
     "output_type": "stream",
     "text": [
      "['wood', 'wood', 'wood', 'water', 'water']\n",
      "[{'maxlon': 45.56616062992125, 'minlat': 32.10471509624757, 'minlon': 45.49887244094487, 'maxlat': 32.14891041555065}, {'maxlon': 45.627955905511804, 'minlat': 32.13611703364713, 'minlon': 45.627955905511804, 'maxlat': 32.13611703364713}, {'maxlon': 45.619716535433064, 'minlat': 32.111693304558585, 'minlon': 45.60598425196849, 'maxlat': 32.1221606170251}, {'maxlon': 45.65816692913385, 'minlat': 32.096573853218054, 'minlon': 45.48788661417322, 'maxlat': 32.14891041555065}, {'maxlon': 45.52496377952755, 'minlat': 32.010509284048894, 'minlon': 45.52496377952755, 'maxlat': 32.017487492359905}]\n"
     ]
    }
   ],
   "source": [
    "print(tags)\n",
    "print(bounds)"
   ]
  },
  {
   "cell_type": "code",
   "execution_count": 53,
   "metadata": {},
   "outputs": [],
   "source": [
    "img_osm = Image_OSM_object(\n",
    "    img_shape,\n",
    "    right_top_lat,\n",
    "    right_top_lon,\n",
    "    left_bottom_lat,\n",
    "    left_bottom_lon,\n",
    "    bounds,\n",
    "    tags\n",
    ")"
   ]
  },
  {
   "cell_type": "code",
   "execution_count": 54,
   "metadata": {},
   "outputs": [
    {
     "data": {
      "text/plain": [
       "[<osm_object.One_OSM_object at 0x7fd0e6bd4950>,\n",
       " <osm_object.One_OSM_object at 0x7fd0e6bd4c90>,\n",
       " <osm_object.One_OSM_object at 0x7fd0e6bd44d0>]"
      ]
     },
     "execution_count": 54,
     "metadata": {},
     "output_type": "execute_result"
    }
   ],
   "source": [
    "img_osm.osm_objects"
   ]
  },
  {
   "cell_type": "code",
   "execution_count": 60,
   "metadata": {},
   "outputs": [
    {
     "name": "stdout",
     "output_type": "stream",
     "text": [
      "wood 0 38 72 121\n",
      "wood 23 32 150 160\n",
      "water 0 45 64 188\n"
     ]
    }
   ],
   "source": [
    "oo = img_osm.osm_objects\n",
    "for i in range(len(oo)):\n",
    "    print(oo[i].tag, oo[i].maxlat, oo[i].minlat, oo[i].minlon, oo[i].maxlon)"
   ]
  },
  {
   "cell_type": "code",
   "execution_count": 57,
   "metadata": {},
   "outputs": [
    {
     "data": {
      "text/plain": [
       "[(0, 38, 72, 121), (11, 11, 166, 166), (23, 32, 150, 160)]"
      ]
     },
     "execution_count": 57,
     "metadata": {},
     "output_type": "execute_result"
    }
   ],
   "source": [
    "[(0, 38, 72, 121), (11, 11, 166, 166), (23, 32, 150, 160)]"
   ]
  },
  {
   "cell_type": "code",
   "execution_count": null,
   "metadata": {},
   "outputs": [],
   "source": []
  },
  {
   "cell_type": "code",
   "execution_count": 95,
   "metadata": {},
   "outputs": [
    {
     "data": {
      "text/plain": [
       "'20327'"
      ]
     },
     "execution_count": 95,
     "metadata": {},
     "output_type": "execute_result"
    }
   ],
   "source": [
    "img_id"
   ]
  },
  {
   "cell_type": "code",
   "execution_count": 61,
   "metadata": {},
   "outputs": [
    {
     "name": "stdout",
     "output_type": "stream",
     "text": [
      "0\n",
      "38\n",
      "121\n",
      "72\n"
     ]
    }
   ],
   "source": [
    "osm_object = img_osm.osm_objects[0]\n",
    "print(osm_object.maxlat)\n",
    "print(osm_object.minlat)\n",
    "print(osm_object.maxlon)\n",
    "print(osm_object.minlon)"
   ]
  },
  {
   "cell_type": "code",
   "execution_count": 62,
   "metadata": {},
   "outputs": [],
   "source": [
    "def calculate_and_save_one_osm_object(img_id):\n",
    "    filename_pickle = img_id + '.pickle'\n",
    "    \n",
    "    corners = read_pickle(os.path.join(corners_folder, filename_pickle))\n",
    "    objects_and_tags = read_pickle(os.path.join(predictions_folder, objects_predicts_folder, filename_pickle))\n",
    "    tags = objects_and_tags['tags']\n",
    "    bounds = objects_and_tags['objects']\n",
    "\n",
    "    right_top_lat = corners['right_top_lat']\n",
    "    right_top_lon = corners['right_top_lon']\n",
    "    left_bottom_lat = corners['left_bottom_lat']\n",
    "    left_bottom_lon = corners['left_bottom_lon']\n",
    "    \n",
    "    img_osm = Image_OSM_object(\n",
    "        img_shape,\n",
    "        right_top_lat,\n",
    "        right_top_lon,\n",
    "        left_bottom_lat,\n",
    "        left_bottom_lon,\n",
    "        bounds,\n",
    "        tags\n",
    "    )\n",
    "    \n",
    "    dump_pickle(os.path.join(predictions_folder, predicts_osm_folder, filename_pickle), img_osm)"
   ]
  },
  {
   "cell_type": "code",
   "execution_count": 63,
   "metadata": {},
   "outputs": [],
   "source": [
    "for i in range(100):\n",
    "    img_id = test_ids[i]\n",
    "    calculate_and_save_one_osm_object(img_id)"
   ]
  },
  {
   "cell_type": "code",
   "execution_count": 64,
   "metadata": {},
   "outputs": [
    {
     "data": {
      "text/plain": [
       "100"
      ]
     },
     "execution_count": 64,
     "metadata": {},
     "output_type": "execute_result"
    }
   ],
   "source": [
    "len(os.listdir(os.path.join(predictions_folder, predicts_osm_folder)))"
   ]
  },
  {
   "cell_type": "code",
   "execution_count": null,
   "metadata": {},
   "outputs": [],
   "source": []
  },
  {
   "cell_type": "markdown",
   "metadata": {},
   "source": [
    "## 2. Предсказания и оценки. Полная диаграмма агента, построенная по оригинальным, а не предсказанным данным"
   ]
  },
  {
   "cell_type": "markdown",
   "metadata": {},
   "source": [
    "#### Построение круговых диаграмм для изображения (данные из предсказанных)"
   ]
  },
  {
   "cell_type": "code",
   "execution_count": 142,
   "metadata": {},
   "outputs": [],
   "source": [
    "predicts_osm_objects_path = os.path.join(predictions_folder, predicts_osm_folder)"
   ]
  },
  {
   "cell_type": "code",
   "execution_count": 151,
   "metadata": {},
   "outputs": [],
   "source": [
    "img_id = test_ids[0]\n",
    "filename_pickle = img_id + '.pickle'\n",
    "\n",
    "img_osm = read_pickle(os.path.join(predicts_osm_objects_path, filename_pickle))"
   ]
  },
  {
   "cell_type": "code",
   "execution_count": 152,
   "metadata": {},
   "outputs": [],
   "source": [
    "bigger_side_blocks_count = 8\n",
    "sectors_count = calculate_sectors_count(bigger_side_blocks_count)\n",
    "\n",
    "img_osm.img_cutted_shape = (img_osm.img_cutted_shape[0], img_osm.img_cutted_shape[1], 3)\n",
    "img_cds = Image_circle_diagrams(img_osm, bigger_side_blocks_count, sectors_count, with_fast=True)"
   ]
  },
  {
   "cell_type": "code",
   "execution_count": 153,
   "metadata": {},
   "outputs": [
    {
     "data": {
      "text/plain": [
       "[<osm_object.One_OSM_object at 0x7f3349c5a650>,\n",
       " <osm_object.One_OSM_object at 0x7f3349c65250>,\n",
       " <osm_object.One_OSM_object at 0x7f3349c654d0>]"
      ]
     },
     "execution_count": 153,
     "metadata": {},
     "output_type": "execute_result"
    }
   ],
   "source": [
    "img_osm.osm_objects"
   ]
  },
  {
   "cell_type": "code",
   "execution_count": 155,
   "metadata": {
    "scrolled": true
   },
   "outputs": [
    {
     "data": {
      "text/plain": [
       "48"
      ]
     },
     "execution_count": 155,
     "metadata": {},
     "output_type": "execute_result"
    }
   ],
   "source": [
    "len(img_cds.fast_diagrams)"
   ]
  },
  {
   "cell_type": "code",
   "execution_count": 158,
   "metadata": {
    "scrolled": true
   },
   "outputs": [
    {
     "data": {
      "text/plain": [
       "[[(21.931713104248047, 'wood'), (27.294687271118164, 'wood'), (101.0, 'water')], [(27.294687271118164, 'wood'), (101.0, 'water')], [(27.294687271118164, 'wood'), (101.0, 'water')], [(27.294687271118164, 'wood'), (101.0, 'water')], [(27.294687271118164, 'wood'), (101.0, 'water')], [(27.294687271118164, 'wood'), (101.0, 'water')], [(27.294687271118164, 'wood'), (101.0, 'water')], [(27.294687271118164, 'wood'), (101.0, 'water')], [(27.294687271118164, 'wood'), (101.0, 'water')], [(27.294687271118164, 'wood'), (101.0, 'water')], [(27.294687271118164, 'wood'), (101.0, 'water')], [(27.294687271118164, 'wood'), (101.0, 'water')], [(27.294687271118164, 'wood'), (101.0, 'water')], [(27.294687271118164, 'wood'), (101.0, 'water')], [(27.294687271118164, 'wood'), (101.0, 'water')], [(27.294687271118164, 'wood'), (101.0, 'water')], [(27.294687271118164, 'wood'), (101.0, 'water')], [(27.294687271118164, 'wood'), (101.0, 'water')], [(27.294687271118164, 'wood'), (101.0, 'water')], [(27.294687271118164, 'wood'), (101.0, 'water')], [(27.294687271118164, 'wood'), (101.0, 'water')], [(27.294687271118164, 'wood'), (101.0, 'water')], [(27.294687271118164, 'wood'), (101.0, 'water')], [(27.294687271118164, 'wood'), (101.0, 'water')], [(27.294687271118164, 'wood'), (101.0, 'water')], [(27.294687271118164, 'wood'), (101.0, 'water')], [(27.294687271118164, 'wood'), (101.0, 'water')], [(27.294687271118164, 'wood'), (101.0, 'water')], [(27.294687271118164, 'wood'), (101.0, 'water')], [(27.294687271118164, 'wood'), (101.0, 'water')], [(27.294687271118164, 'wood'), (101.0, 'water')], [(27.294687271118164, 'wood'), (101.0, 'water')], [(27.294687271118164, 'wood'), (101.0, 'water')], [(27.294687271118164, 'wood'), (101.0, 'water')], [(27.294687271118164, 'wood'), (101.0, 'water')], [(27.294687271118164, 'wood'), (101.0, 'water')], [(27.294687271118164, 'wood'), (101.0, 'water')], [(27.294687271118164, 'wood'), (101.0, 'water')], [(27.294687271118164, 'wood'), (101.0, 'water')], [(27.294687271118164, 'wood'), (101.0, 'water')], [(27.294687271118164, 'wood'), (101.0, 'water')], [(27.294687271118164, 'wood'), (101.0, 'water')], [(27.294687271118164, 'wood'), (101.0, 'water')], [(27.294687271118164, 'wood'), (101.0, 'water')], [(27.294687271118164, 'wood'), (101.0, 'water')], [(27.294687271118164, 'wood'), (101.0, 'water')], [(27.294687271118164, 'wood'), (101.0, 'water')], [(101.0, 'water')], [(101.0, 'water')], [(101.0, 'water')], [(101.0, 'water')], [(101.0, 'water')], [(101.0, 'water')], [(101.0, 'water')], [(101.0, 'water')], [], [], [], [], [], [], [], [], [], [], [], [], [], [], [], [], [], [], [], [], [], [], [], [], [], [], [], [], [], [], [], [], [], [], [], [], [], [], [], [], [], [], [], [], [], [], [], [], [], [], [], [], [], [], [], [], [], [], [], [], [], [], [], [], [], [], [], [], [], [], [], [], [], [], [], [], [], [], [], [], [], [], [], [], [], [], [], [], [], [], [], [], [], [], [], [], [], [], [], [], [], [], [], [], [], [], [], [], [], [], [], [], [], [], [], [], [], [], [], [], [], [], [], [], [], [], [], [], [], [], [], [], [], [], [], [], [], [], [], [], [], [], [], [], [], [], [], [], [], [], [], [], [], [], [], [], [], [], [], [], [], [], [], [], [], [], [], [], [], [], [], [], [], [], [], [], [], [], [], [], [], [], [], [], [], [], [], [], [], [], [], [], [], [], [], [], [], [], [], [], [], [], [], [], [], [], [], [], [], [], [], [], [], [], [], [], [], [], [], [], [], [], [], [], [], [], [], [], [], [], [], [], [], [], [], [], [], [], [], [], [], [], [], [], [], [], [], [], [], [], [], [], [], [], [], [], [], [], [], [], [], [], [], [], [], [], [], [], [], [], [], [], [], [], [], [], [], [], [], [], [], [], [], [], [], [], [], [], [], [], [], [], [], [], [], [], [], [], [], [], [], [], [], [], [], [], [], [], [], [], [], [], [], [], [], [], [], [], [], [], [], [], [], [], [], [], [], [], [], [], [], [], [], [], [], [], [], [], [], [], [], [], [], [], [], [], [], [], [], [], [], [], [], [], [], [], [], [], [], [], [], [], [], [], [], [], [], [], [], [], [], [], [], [], [], [], [], [], [], [], [], [], [], [], [], [], [], [], [], [], [], [], [], [], [], [], [], [], [], [], [], [], [], [], [], [], [], [], [], [], [], [], [], [], [], [], [], [], [], [], [], [], [], [], [], [], [], [], [], [], [], [], [], [], [], [], [], [], [], [], [], [], [], [], [], [], [], [], [], [], [], [], [], [], [], [], [], [], [], [], [], [], [], [], [], [], [], [], [], [], [], [], [], [], [], [], [], [], [], [], [], [], [], [], [], [], [], [], [], [], [], [], [], [], [], [], [], [], [], [], [], [], [], [], [], [], [], [], [], [], [], [], [], [], [(101.0, 'water')], [(101.0, 'water')], [(101.0, 'water')], [(101.0, 'water')], [(101.0, 'water')], [(101.0, 'water')], [(101.0, 'water')], [(101.0, 'water')], [(101.0, 'water')], [(101.0, 'water')], [(101.0, 'water')], [(101.0, 'water')], [(101.0, 'water')], [(101.0, 'water')], [(101.0, 'water')], [(101.0, 'water')], [(101.0, 'water')], [(101.0, 'water')], [(101.0, 'water')], [(101.0, 'water')], [(27.294687271118164, 'wood'), (101.0, 'water')], [(27.294687271118164, 'wood'), (101.0, 'water')], [(27.294687271118164, 'wood'), (101.0, 'water')], [(27.294687271118164, 'wood'), (101.0, 'water')], [(27.294687271118164, 'wood'), (101.0, 'water')], [(27.294687271118164, 'wood'), (101.0, 'water')], [(27.294687271118164, 'wood'), (101.0, 'water')], [(27.294687271118164, 'wood'), (101.0, 'water')], [(27.294687271118164, 'wood'), (101.0, 'water')], [(27.294687271118164, 'wood'), (101.0, 'water')], [(27.294687271118164, 'wood'), (101.0, 'water')], [(27.294687271118164, 'wood'), (101.0, 'water')], [(27.294687271118164, 'wood'), (101.0, 'water')], [(27.294687271118164, 'wood'), (101.0, 'water')], [(27.294687271118164, 'wood'), (101.0, 'water')], [(27.294687271118164, 'wood'), (101.0, 'water')], [(27.294687271118164, 'wood'), (101.0, 'water')], [(27.294687271118164, 'wood'), (101.0, 'water')], [(27.294687271118164, 'wood'), (101.0, 'water')], [(27.294687271118164, 'wood'), (101.0, 'water')], [(27.294687271118164, 'wood'), (101.0, 'water')], [(21.931713104248047, 'wood'), (27.294687271118164, 'wood'), (101.0, 'water')], [(21.931713104248047, 'wood'), (27.294687271118164, 'wood'), (101.0, 'water')], [(21.931713104248047, 'wood'), (27.294687271118164, 'wood'), (101.0, 'water')], [(21.931713104248047, 'wood'), (27.294687271118164, 'wood'), (101.0, 'water')], [(21.931713104248047, 'wood'), (27.294687271118164, 'wood'), (101.0, 'water')], [(21.931713104248047, 'wood'), (27.294687271118164, 'wood'), (101.0, 'water')]]"
      ]
     },
     "execution_count": 158,
     "metadata": {},
     "output_type": "execute_result"
    }
   ],
   "source": [
    "img_cds.fast_diagrams[0]"
   ]
  },
  {
   "cell_type": "markdown",
   "metadata": {},
   "source": [
    "#### Построение круговой диаграммы агента для одной точки (для оригинальных данных)"
   ]
  },
  {
   "cell_type": "code",
   "execution_count": 159,
   "metadata": {},
   "outputs": [],
   "source": [
    "points = read_pickle('../dataset/100_random_points.pickle')\n",
    "points_to_centers = read_pickle('../dataset/100_points_to_cell_centers_48cells_6x8.pickle')"
   ]
  },
  {
   "cell_type": "code",
   "execution_count": 160,
   "metadata": {},
   "outputs": [],
   "source": [
    "agent_point = points[0]"
   ]
  },
  {
   "cell_type": "code",
   "execution_count": 162,
   "metadata": {},
   "outputs": [],
   "source": [
    "orig_osm_objects_path = '../dataset/osm_objects/'"
   ]
  },
  {
   "cell_type": "code",
   "execution_count": 163,
   "metadata": {},
   "outputs": [],
   "source": [
    "img_osm_for_agent = read_pickle(os.path.join(orig_osm_objects_path, filename_pickle))\n",
    "img_osm_for_agent.img_cutted_shape = (img_osm.img_cutted_shape[0], img_osm.img_cutted_shape[1], 3)"
   ]
  },
  {
   "cell_type": "code",
   "execution_count": 164,
   "metadata": {},
   "outputs": [],
   "source": [
    "agent_cd = create_circle_diagram(sectors_count, agent_point, img_osm_for_agent)\n",
    "agent_cd.make_fast()"
   ]
  },
  {
   "cell_type": "markdown",
   "metadata": {},
   "source": [
    "#### Оценка вероятности попадания в нужный квадрат для одной точки"
   ]
  },
  {
   "cell_type": "code",
   "execution_count": 165,
   "metadata": {},
   "outputs": [],
   "source": [
    "# аналогично select_minimum_penalty_grid из circle_diagram\n",
    "def calculate_cells_probs(img_cds, agent_cd):\n",
    "    \"\"\"\n",
    "    only fast version\n",
    "    \"\"\"\n",
    "    penalties = []\n",
    "    \n",
    "    for i in range(len(img_cds.center_points)):\n",
    "        penalties.append(img_cds.fast_diagrams[i].dist_to(agent_cd.fast_diagram))\n",
    "        \n",
    "    # Добавл. 1e-8 чтобы не было нулей\n",
    "    similaryties = np.max(penalties) - penalties + 1e-8\n",
    "\n",
    "    return similaryties / similaryties.sum()\n"
   ]
  },
  {
   "cell_type": "code",
   "execution_count": 166,
   "metadata": {},
   "outputs": [
    {
     "name": "stdout",
     "output_type": "stream",
     "text": [
      "CPU times: user 196 ms, sys: 3.82 ms, total: 200 ms\n",
      "Wall time: 200 ms\n"
     ]
    }
   ],
   "source": [
    "%%time\n",
    "cell_probs = calculate_cells_probs(img_cds, agent_cd)"
   ]
  },
  {
   "cell_type": "code",
   "execution_count": 167,
   "metadata": {},
   "outputs": [
    {
     "data": {
      "text/plain": [
       "array([2.09353424e-02, 6.59438415e-13, 1.21996107e-03, 1.35551281e-02,\n",
       "       2.09976175e-02, 2.24428881e-02, 2.26480469e-02, 2.26627015e-02,\n",
       "       2.15911161e-02, 1.91896649e-02, 1.58759859e-02, 1.94699262e-02,\n",
       "       2.17486464e-02, 2.22615425e-02, 2.25985890e-02, 2.26553742e-02,\n",
       "       2.18603855e-02, 2.09536597e-02, 2.05909715e-02, 2.09866326e-02,\n",
       "       2.19593012e-02, 2.22670385e-02, 2.24868520e-02, 2.26553742e-02,\n",
       "       2.20252451e-02, 2.19593012e-02, 2.18274146e-02, 2.19757872e-02,\n",
       "       2.20747030e-02, 2.24373941e-02, 2.24868520e-02, 2.26388883e-02,\n",
       "       2.23055064e-02, 2.22725345e-02, 2.21076749e-02, 2.22560485e-02,\n",
       "       2.23055064e-02, 2.24868520e-02, 2.24960106e-02, 2.26462156e-02,\n",
       "       2.24703660e-02, 2.24373941e-02, 2.24209081e-02, 2.24373941e-02,\n",
       "       2.24703660e-02, 2.25363098e-02, 2.26352256e-02, 2.26773562e-02])"
      ]
     },
     "execution_count": 167,
     "metadata": {},
     "output_type": "execute_result"
    }
   ],
   "source": [
    "cell_probs"
   ]
  },
  {
   "cell_type": "code",
   "execution_count": 168,
   "metadata": {},
   "outputs": [
    {
     "data": {
      "text/plain": [
       "0.022677356168412294"
      ]
     },
     "execution_count": 168,
     "metadata": {},
     "output_type": "execute_result"
    }
   ],
   "source": [
    "cell_probs.max()"
   ]
  },
  {
   "cell_type": "code",
   "execution_count": 169,
   "metadata": {},
   "outputs": [
    {
     "data": {
      "text/plain": [
       "1.0"
      ]
     },
     "execution_count": 169,
     "metadata": {},
     "output_type": "execute_result"
    }
   ],
   "source": [
    "cell_probs.sum()"
   ]
  },
  {
   "cell_type": "code",
   "execution_count": 170,
   "metadata": {},
   "outputs": [],
   "source": [
    "# Теперь нужно найти вероятность попадания в нужный квадрат"
   ]
  },
  {
   "cell_type": "code",
   "execution_count": 171,
   "metadata": {},
   "outputs": [],
   "source": [
    "def find_center_point_id(center_points, agent_point):\n",
    "    for i in range(len(center_points)):\n",
    "        if center_points[i] == agent_point:\n",
    "            return i"
   ]
  },
  {
   "cell_type": "code",
   "execution_count": 172,
   "metadata": {},
   "outputs": [
    {
     "name": "stdout",
     "output_type": "stream",
     "text": [
      "38\n"
     ]
    }
   ],
   "source": [
    "center_point_id = find_center_point_id(img_cds.center_points, points_to_centers[agent_point][::-1])\n",
    "print(center_point_id)"
   ]
  },
  {
   "cell_type": "code",
   "execution_count": 173,
   "metadata": {},
   "outputs": [
    {
     "name": "stdout",
     "output_type": "stream",
     "text": [
      "0.02249601060431599\n"
     ]
    }
   ],
   "source": [
    "# Вероятность попадания в нужный квадрат\n",
    "point_prob  = cell_probs[center_point_id]\n",
    "print(point_prob)"
   ]
  },
  {
   "cell_type": "markdown",
   "metadata": {},
   "source": [
    "#### Круговая диаграмма агента и оценка вероятности попадания в нужный квадрат для всех точек"
   ]
  },
  {
   "cell_type": "code",
   "execution_count": 175,
   "metadata": {},
   "outputs": [],
   "source": [
    "predicts_osm_objects_path = os.path.join(predictions_folder, predicts_osm_folder)\n",
    "orig_osm_objects_path = '../dataset/osm_objects/'\n",
    "\n",
    "bigger_side_blocks_count = 8\n",
    "sectors_count = calculate_sectors_count(bigger_side_blocks_count)\n",
    "\n",
    "points = read_pickle('../dataset/100_random_points.pickle')\n",
    "points_to_centers = read_pickle('../dataset/100_points_to_cell_centers_48cells_6x8.pickle')"
   ]
  },
  {
   "cell_type": "code",
   "execution_count": 176,
   "metadata": {},
   "outputs": [],
   "source": [
    "def one_point_one_image_prob(img_id, points, points_to_centers):\n",
    "    filename = str(img_id) + '.pickle'\n",
    "    \n",
    "    img_osm = read_pickle(os.path.join(predicts_osm_objects_path, filename_pickle))\n",
    "    img_osm.img_cutted_shape = (img_osm.img_cutted_shape[0], img_osm.img_cutted_shape[1], 3)\n",
    "    img_cds = Image_circle_diagrams(img_osm, bigger_side_blocks_count, sectors_count, with_fast=True)\n",
    "    \n",
    "    img_osm_for_agent = read_pickle(os.path.join(orig_osm_objects_path, filename_pickle))\n",
    "    img_osm_for_agent.img_cutted_shape = (img_osm.img_cutted_shape[0], img_osm.img_cutted_shape[1], 3)\n",
    "    \n",
    "    point_probs = []\n",
    "    \n",
    "    for agent_point in points:\n",
    "        agent_cd = create_circle_diagram(sectors_count, agent_point, img_osm_for_agent)\n",
    "        agent_cd.make_fast()\n",
    "        \n",
    "        cell_probs = calculate_cells_probs(img_cds, agent_cd)\n",
    "        center_point_id = find_center_point_id(img_cds.center_points, points_to_centers[agent_point][::-1])\n",
    "        \n",
    "        point_probs.append(cell_probs[center_point_id])\n",
    "    return np.array(point_probs).mean()"
   ]
  },
  {
   "cell_type": "code",
   "execution_count": 177,
   "metadata": {},
   "outputs": [
    {
     "name": "stdout",
     "output_type": "stream",
     "text": [
      "CPU times: user 26 s, sys: 24.8 ms, total: 26 s\n",
      "Wall time: 26 s\n"
     ]
    },
    {
     "data": {
      "text/plain": [
       "0.02031628718137562"
      ]
     },
     "execution_count": 177,
     "metadata": {},
     "output_type": "execute_result"
    }
   ],
   "source": [
    "%%time\n",
    "one_point_one_image_prob(1, points, points_to_centers)"
   ]
  },
  {
   "cell_type": "markdown",
   "metadata": {},
   "source": [
    "#### Повторение всех предыдущих пунктов для всех картинок"
   ]
  },
  {
   "cell_type": "code",
   "execution_count": 178,
   "metadata": {},
   "outputs": [
    {
     "name": "stdout",
     "output_type": "stream",
     "text": [
      "0\n",
      "10\n",
      "20\n",
      "30\n",
      "40\n",
      "50\n",
      "60\n",
      "70\n",
      "80\n",
      "90\n",
      "CPU times: user 44min 5s, sys: 1.37 s, total: 44min 6s\n",
      "Wall time: 44min 7s\n"
     ]
    }
   ],
   "source": [
    "%%time\n",
    "img_mean_probs = []\n",
    "\n",
    "for i in range(len(test_ids)):\n",
    "    if i % 10 == 0:\n",
    "        print(i)\n",
    "    img_mean_probs.append(one_point_one_image_prob(test_ids[i], points, points_to_centers))"
   ]
  },
  {
   "cell_type": "code",
   "execution_count": 179,
   "metadata": {},
   "outputs": [
    {
     "name": "stdout",
     "output_type": "stream",
     "text": [
      "[0.02031628718137562, 0.02031628718137562, 0.02031628718137562, 0.02031628718137562, 0.02031628718137562, 0.02031628718137562, 0.02031628718137562, 0.02031628718137562, 0.02031628718137562, 0.02031628718137562, 0.02031628718137562, 0.02031628718137562, 0.02031628718137562, 0.02031628718137562, 0.02031628718137562, 0.02031628718137562, 0.02031628718137562, 0.02031628718137562, 0.02031628718137562, 0.02031628718137562, 0.02031628718137562, 0.02031628718137562, 0.02031628718137562, 0.02031628718137562, 0.02031628718137562, 0.02031628718137562, 0.02031628718137562, 0.02031628718137562, 0.02031628718137562, 0.02031628718137562, 0.02031628718137562, 0.02031628718137562, 0.02031628718137562, 0.02031628718137562, 0.02031628718137562, 0.02031628718137562, 0.02031628718137562, 0.02031628718137562, 0.02031628718137562, 0.02031628718137562, 0.02031628718137562, 0.02031628718137562, 0.02031628718137562, 0.02031628718137562, 0.02031628718137562, 0.02031628718137562, 0.02031628718137562, 0.02031628718137562, 0.02031628718137562, 0.02031628718137562, 0.02031628718137562, 0.02031628718137562, 0.02031628718137562, 0.02031628718137562, 0.02031628718137562, 0.02031628718137562, 0.02031628718137562, 0.02031628718137562, 0.02031628718137562, 0.02031628718137562, 0.02031628718137562, 0.02031628718137562, 0.02031628718137562, 0.02031628718137562, 0.02031628718137562, 0.02031628718137562, 0.02031628718137562, 0.02031628718137562, 0.02031628718137562, 0.02031628718137562, 0.02031628718137562, 0.02031628718137562, 0.02031628718137562, 0.02031628718137562, 0.02031628718137562, 0.02031628718137562, 0.02031628718137562, 0.02031628718137562, 0.02031628718137562, 0.02031628718137562, 0.02031628718137562, 0.02031628718137562, 0.02031628718137562, 0.02031628718137562, 0.02031628718137562, 0.02031628718137562, 0.02031628718137562, 0.02031628718137562, 0.02031628718137562, 0.02031628718137562, 0.02031628718137562, 0.02031628718137562, 0.02031628718137562, 0.02031628718137562, 0.02031628718137562, 0.02031628718137562, 0.02031628718137562, 0.02031628718137562, 0.02031628718137562, 0.02031628718137562]\n"
     ]
    }
   ],
   "source": [
    "print(img_mean_probs)"
   ]
  },
  {
   "cell_type": "code",
   "execution_count": 180,
   "metadata": {},
   "outputs": [
    {
     "name": "stdout",
     "output_type": "stream",
     "text": [
      "Средняя вероятность попадания в нужный квадрат: 0.0203\n"
     ]
    }
   ],
   "source": [
    "print(\"Средняя вероятность попадания в нужный квадрат: %.4f\" % np.array(img_mean_probs).mean())"
   ]
  },
  {
   "cell_type": "code",
   "execution_count": 181,
   "metadata": {},
   "outputs": [],
   "source": [
    "dump_pickle(\"../dataset/predicted_means_48cells_6x8.pickle\", img_mean_probs)"
   ]
  },
  {
   "cell_type": "code",
   "execution_count": 184,
   "metadata": {},
   "outputs": [],
   "source": [
    "ideal_img_mean_probs = read_pickle('../dataset/ideal_means_48cells_6x8.pickle')"
   ]
  },
  {
   "cell_type": "markdown",
   "metadata": {},
   "source": [
    "Сравним распределения."
   ]
  },
  {
   "cell_type": "code",
   "execution_count": 185,
   "metadata": {},
   "outputs": [],
   "source": [
    "from scipy import stats"
   ]
  },
  {
   "cell_type": "code",
   "execution_count": 186,
   "metadata": {},
   "outputs": [
    {
     "data": {
      "text/plain": [
       "MannwhitneyuResult(statistic=500.0, pvalue=6.488002274992765e-32)"
      ]
     },
     "execution_count": 186,
     "metadata": {},
     "output_type": "execute_result"
    }
   ],
   "source": [
    "stats.mannwhitneyu(img_mean_probs, ideal_img_mean_probs, alternative='two-sided')"
   ]
  },
  {
   "cell_type": "markdown",
   "metadata": {},
   "source": [
    "Гипотеза о равенстве распределений на уровне значимости 0.05 уверенно отвергается. "
   ]
  },
  {
   "cell_type": "code",
   "execution_count": 187,
   "metadata": {},
   "outputs": [
    {
     "name": "stdout",
     "output_type": "stream",
     "text": [
      "Средняя вероятность попадания в нужный квадрат в идеальном случае: 0.0221\n"
     ]
    }
   ],
   "source": [
    "print(\"Средняя вероятность попадания в нужный квадрат в идеальном случае: %.4f\" % np.array(ideal_img_mean_probs).mean())"
   ]
  },
  {
   "cell_type": "markdown",
   "metadata": {},
   "source": [
    "Однако в абсолютных значениях разница не выглядит очень большой."
   ]
  },
  {
   "cell_type": "code",
   "execution_count": 199,
   "metadata": {},
   "outputs": [
    {
     "data": {
      "text/plain": [
       "91.75536471276432"
      ]
     },
     "execution_count": 199,
     "metadata": {},
     "output_type": "execute_result"
    }
   ],
   "source": [
    "mean_6x8 = np.array(img_mean_probs).mean()\n",
    "mean_6x8_ideal = np.array(ideal_img_mean_probs).mean()\n",
    "\n",
    "mean_6x8 / (mean_6x8_ideal / 100)"
   ]
  },
  {
   "cell_type": "markdown",
   "metadata": {},
   "source": [
    "То есть новое среднее составляет 91.75 % (примерно), от предыдущего. А разница:"
   ]
  },
  {
   "cell_type": "code",
   "execution_count": 200,
   "metadata": {},
   "outputs": [
    {
     "data": {
      "text/plain": [
       "8.244635287235681"
      ]
     },
     "execution_count": 200,
     "metadata": {},
     "output_type": "execute_result"
    }
   ],
   "source": [
    "100 - mean_6x8 / (mean_6x8_ideal / 100)"
   ]
  },
  {
   "cell_type": "markdown",
   "metadata": {},
   "source": [
    "8.25 % то есть. (Потеряли чуть больше 8 % точности)"
   ]
  },
  {
   "cell_type": "markdown",
   "metadata": {},
   "source": [
    "#### Более крупное разбиение."
   ]
  },
  {
   "cell_type": "code",
   "execution_count": 188,
   "metadata": {},
   "outputs": [],
   "source": [
    "bigger_side_blocks_count = 4\n",
    "sectors_count = calculate_sectors_count(bigger_side_blocks_count)"
   ]
  },
  {
   "cell_type": "code",
   "execution_count": 189,
   "metadata": {},
   "outputs": [],
   "source": [
    "points_to_centers = read_pickle('../dataset/100_points_to_cell_centers_12cells_3x4.pickle')"
   ]
  },
  {
   "cell_type": "code",
   "execution_count": 190,
   "metadata": {},
   "outputs": [
    {
     "name": "stdout",
     "output_type": "stream",
     "text": [
      "0\n",
      "10\n",
      "20\n",
      "30\n",
      "40\n",
      "50\n",
      "60\n",
      "70\n",
      "80\n",
      "90\n",
      "CPU times: user 2min 35s, sys: 292 ms, total: 2min 35s\n",
      "Wall time: 2min 35s\n"
     ]
    }
   ],
   "source": [
    "%%time\n",
    "img_mean_probs_3x4 = []\n",
    "\n",
    "for i in range(len(test_ids)):\n",
    "    if i % 10 == 0:\n",
    "        print(i)\n",
    "    img_mean_probs_3x4.append(one_point_one_image_prob(test_ids[i], points, points_to_centers))"
   ]
  },
  {
   "cell_type": "code",
   "execution_count": 191,
   "metadata": {},
   "outputs": [
    {
     "name": "stdout",
     "output_type": "stream",
     "text": [
      "Средняя вероятность попадания в нужный квадрат разбиение 3x4: 0.0823\n"
     ]
    }
   ],
   "source": [
    "print(\"Средняя вероятность попадания в нужный квадрат разбиение 3x4: %.4f\" % np.array(img_mean_probs_3x4).mean())"
   ]
  },
  {
   "cell_type": "code",
   "execution_count": 192,
   "metadata": {},
   "outputs": [],
   "source": [
    "dump_pickle(\"../dataset/predicted_means_12cells_3x4.pickle\", img_mean_probs_3x4)"
   ]
  },
  {
   "cell_type": "code",
   "execution_count": 193,
   "metadata": {},
   "outputs": [],
   "source": [
    "ideal_img_mean_probs_3x4 = read_pickle('../dataset/ideal_means_12cells_3x4.pickle')"
   ]
  },
  {
   "cell_type": "code",
   "execution_count": 194,
   "metadata": {},
   "outputs": [
    {
     "name": "stdout",
     "output_type": "stream",
     "text": [
      "Средняя вероятность попадания в нужный квадрат в идеальном случае разбиение 3x4: 0.0833\n"
     ]
    }
   ],
   "source": [
    "print(\"Средняя вероятность попадания в нужный квадрат в идеальном случае разбиение 3x4: %.4f\" % \n",
    "      np.array(ideal_img_mean_probs_3x4).mean())"
   ]
  },
  {
   "cell_type": "markdown",
   "metadata": {},
   "source": [
    "Абсолютно разница примерно на 0.001."
   ]
  },
  {
   "cell_type": "code",
   "execution_count": 195,
   "metadata": {},
   "outputs": [
    {
     "data": {
      "text/plain": [
       "MannwhitneyuResult(statistic=0.0, pvalue=5.3812607891819794e-40)"
      ]
     },
     "execution_count": 195,
     "metadata": {},
     "output_type": "execute_result"
    }
   ],
   "source": [
    "stats.mannwhitneyu(img_mean_probs_3x4, ideal_img_mean_probs_3x4, alternative='two-sided')"
   ]
  },
  {
   "cell_type": "markdown",
   "metadata": {},
   "source": [
    "И да, это разные распределения."
   ]
  },
  {
   "cell_type": "code",
   "execution_count": 201,
   "metadata": {},
   "outputs": [
    {
     "data": {
      "text/plain": [
       "98.74533202564862"
      ]
     },
     "execution_count": 201,
     "metadata": {},
     "output_type": "execute_result"
    }
   ],
   "source": [
    "mean_3x4 = np.array(img_mean_probs_3x4).mean()\n",
    "mean_3x4_ideal = np.array(ideal_img_mean_probs_3x4).mean()\n",
    "\n",
    "mean_3x4 / (mean_3x4_ideal / 100)"
   ]
  },
  {
   "cell_type": "code",
   "execution_count": 202,
   "metadata": {},
   "outputs": [
    {
     "data": {
      "text/plain": [
       "1.2546679743513778"
      ]
     },
     "execution_count": 202,
     "metadata": {},
     "output_type": "execute_result"
    }
   ],
   "source": [
    "100 - (mean_3x4 / (mean_3x4_ideal / 100))"
   ]
  },
  {
   "cell_type": "markdown",
   "metadata": {},
   "source": [
    "В этом случае потеряли всего 1.25 % точности, т.е. чуть больше процента."
   ]
  },
  {
   "cell_type": "code",
   "execution_count": null,
   "metadata": {},
   "outputs": [],
   "source": []
  },
  {
   "cell_type": "markdown",
   "metadata": {},
   "source": [
    "## 3. В диаграмме агента берём только несколько ближайших объектов."
   ]
  },
  {
   "cell_type": "code",
   "execution_count": 203,
   "metadata": {},
   "outputs": [],
   "source": [
    "def cut_sectors(circle_diagram, max_len):\n",
    "    for i in range(len(circle_diagram.sectors)):\n",
    "        circle_diagram.sectors[i] = circle_diagram.sectors[i][:max_len]\n",
    "    return circle_diagram"
   ]
  },
  {
   "cell_type": "code",
   "execution_count": 205,
   "metadata": {},
   "outputs": [],
   "source": [
    "bigger_side_blocks_count = 8\n",
    "sectors_count = calculate_sectors_count(bigger_side_blocks_count)\n",
    "\n",
    "\n",
    "def one_point_one_image_prob_with_cut(img_id, points, points_to_centers):\n",
    "    filename = str(img_id) + '.pickle'\n",
    "    \n",
    "    img_osm = read_pickle(os.path.join(predicts_osm_objects_path, filename_pickle))\n",
    "    img_osm.img_cutted_shape = (img_osm.img_cutted_shape[0], img_osm.img_cutted_shape[1], 3)\n",
    "    img_cds = Image_circle_diagrams(img_osm, bigger_side_blocks_count, sectors_count, with_fast=True)\n",
    "    \n",
    "    img_osm_for_agent = read_pickle(os.path.join(orig_osm_objects_path, filename_pickle))\n",
    "    img_osm_for_agent.img_cutted_shape = (img_osm.img_cutted_shape[0], img_osm.img_cutted_shape[1], 3)\n",
    "    \n",
    "    point_probs_2 = []\n",
    "    point_probs_1 = []\n",
    "    \n",
    "    for agent_point in points:\n",
    "        agent_cd = create_circle_diagram(sectors_count, agent_point, img_osm_for_agent)\n",
    "        \n",
    "        # max_len = 2\n",
    "        agent_cd = cut_sectors(agent_cd, max_len=2)\n",
    "        agent_cd.make_fast()\n",
    "        \n",
    "        cell_probs = calculate_cells_probs(img_cds, agent_cd)\n",
    "        center_point_id = find_center_point_id(img_cds.center_points, points_to_centers[agent_point][::-1])\n",
    "        \n",
    "        point_probs_2.append(cell_probs[center_point_id])\n",
    "        \n",
    "        # max_len = 1\n",
    "        agent_cd = cut_sectors(agent_cd, max_len=1)\n",
    "        agent_cd.make_fast()\n",
    "        \n",
    "        cell_probs = calculate_cells_probs(img_cds, agent_cd)\n",
    "        center_point_id = find_center_point_id(img_cds.center_points, points_to_centers[agent_point][::-1])\n",
    "        \n",
    "        point_probs_1.append(cell_probs[center_point_id])\n",
    "        \n",
    "    return np.array(point_probs_2).mean(), np.array(point_probs_1).mean()"
   ]
  },
  {
   "cell_type": "code",
   "execution_count": 206,
   "metadata": {},
   "outputs": [
    {
     "name": "stdout",
     "output_type": "stream",
     "text": [
      "0\n",
      "10\n",
      "20\n",
      "30\n",
      "40\n",
      "50\n",
      "60\n",
      "70\n",
      "80\n",
      "90\n",
      "CPU times: user 1h 21min 43s, sys: 2.69 s, total: 1h 21min 45s\n",
      "Wall time: 1h 21min 45s\n"
     ]
    }
   ],
   "source": [
    "%%time\n",
    "points_to_centers = read_pickle('../dataset/100_points_to_cell_centers_48cells_6x8.pickle')\n",
    "\n",
    "img_mean_probs_6x8_max2 = []\n",
    "img_mean_probs_6x8_max1 = []\n",
    "\n",
    "for i in range(len(test_ids)):\n",
    "    if i % 10 == 0:\n",
    "        print(i)\n",
    "    max2, max1 = one_point_one_image_prob_with_cut(test_ids[i], points, points_to_centers)\n",
    "    \n",
    "    img_mean_probs_6x8_max2.append(max2)\n",
    "    img_mean_probs_6x8_max1.append(max1)"
   ]
  },
  {
   "cell_type": "code",
   "execution_count": 207,
   "metadata": {},
   "outputs": [],
   "source": [
    "dump_pickle('../dataset/predicted_means_48cells_6x8_max2.pickle', img_mean_probs_6x8_max2)\n",
    "dump_pickle('../dataset/predicted_means_48cells_6x8_max1.pickle', img_mean_probs_6x8_max1)"
   ]
  },
  {
   "cell_type": "code",
   "execution_count": 208,
   "metadata": {},
   "outputs": [
    {
     "data": {
      "text/plain": [
       "MannwhitneyuResult(statistic=10000.0, pvalue=3.5216158823946e-45)"
      ]
     },
     "execution_count": 208,
     "metadata": {},
     "output_type": "execute_result"
    }
   ],
   "source": [
    "stats.mannwhitneyu(img_mean_probs, img_mean_probs_6x8_max2, alternative='two-sided')"
   ]
  },
  {
   "cell_type": "code",
   "execution_count": 209,
   "metadata": {},
   "outputs": [
    {
     "data": {
      "text/plain": [
       "MannwhitneyuResult(statistic=0.0, pvalue=3.5216158823946e-45)"
      ]
     },
     "execution_count": 209,
     "metadata": {},
     "output_type": "execute_result"
    }
   ],
   "source": [
    "stats.mannwhitneyu(img_mean_probs, img_mean_probs_6x8_max1, alternative='two-sided')"
   ]
  },
  {
   "cell_type": "markdown",
   "metadata": {},
   "source": [
    "А тут есть ощущение, что нельзя указать на равенство распределений. Логично ли это? В этом случае вполне логично. Тут явно сразу просвечивает, что то, что вокруг в оригинале не то, что удалось предсказать."
   ]
  },
  {
   "cell_type": "code",
   "execution_count": null,
   "metadata": {},
   "outputs": [],
   "source": []
  },
  {
   "cell_type": "code",
   "execution_count": 212,
   "metadata": {},
   "outputs": [
    {
     "name": "stdout",
     "output_type": "stream",
     "text": [
      " 0.0203\n"
     ]
    }
   ],
   "source": [
    "print(\" %.4f\" % np.array(img_mean_probs_6x8_max2).mean())"
   ]
  },
  {
   "cell_type": "code",
   "execution_count": 213,
   "metadata": {},
   "outputs": [
    {
     "name": "stdout",
     "output_type": "stream",
     "text": [
      " 0.0204\n"
     ]
    }
   ],
   "source": [
    "print(\" %.4f\" % np.array(img_mean_probs_6x8_max1).mean())"
   ]
  },
  {
   "cell_type": "markdown",
   "metadata": {},
   "source": [
    "## TODO: (в другом ноутбуке) - ручная разметка и построение диаграммы агента по этой ручной разметке, а диаграммы для изображения по предсказаниям (те osm, что были получены в этом ноутбуке)"
   ]
  },
  {
   "cell_type": "code",
   "execution_count": null,
   "metadata": {},
   "outputs": [],
   "source": []
  }
 ],
 "metadata": {
  "kernelspec": {
   "display_name": "Python (tf-gpu)",
   "language": "python",
   "name": "tf-gpu"
  },
  "language_info": {
   "codemirror_mode": {
    "name": "ipython",
    "version": 3
   },
   "file_extension": ".py",
   "mimetype": "text/x-python",
   "name": "python",
   "nbconvert_exporter": "python",
   "pygments_lexer": "ipython3",
   "version": "3.7.5"
  }
 },
 "nbformat": 4,
 "nbformat_minor": 2
}
