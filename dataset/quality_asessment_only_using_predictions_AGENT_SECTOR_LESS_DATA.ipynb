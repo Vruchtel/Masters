{
 "cells": [
  {
   "cell_type": "markdown",
   "metadata": {},
   "source": [
    "Та же оценка качества предсказаний, но с ограничением количества объектов внутри сектора в диаграмме агента"
   ]
  },
  {
   "cell_type": "code",
   "execution_count": 1,
   "metadata": {},
   "outputs": [],
   "source": [
    "import pickle\n",
    "import os\n",
    "import cv2\n",
    "import numpy as np\n",
    "import matplotlib.pyplot as plt"
   ]
  },
  {
   "cell_type": "code",
   "execution_count": 2,
   "metadata": {},
   "outputs": [],
   "source": [
    "import sys\n",
    "sys.path.append('..')\n",
    "from rectangles_drawing import calculate_one_pixels_diffs, draw_all_rectangles\n",
    "from osm_object import Image_OSM_object\n",
    "\n",
    "from circle_diagram import calculate_sectors_count, create_circle_diagram\n",
    "from circle_diagram import Image_circle_diagrams\n",
    "\n",
    "from utils import read_pickle, dump_pickle"
   ]
  },
  {
   "cell_type": "code",
   "execution_count": 3,
   "metadata": {},
   "outputs": [],
   "source": [
    "points = read_pickle('../dataset/100_random_points.pickle')\n",
    "points_to_centers_6_8 = read_pickle('../dataset/100_points_to_cell_centers_48cells_6x8.pickle')\n",
    "points_to_centers_3_4 = read_pickle('../dataset/100_points_to_cell_centers_12cells_3x4.pickle')"
   ]
  },
  {
   "cell_type": "code",
   "execution_count": 4,
   "metadata": {},
   "outputs": [],
   "source": [
    "predictions_folder = '../dataset/predictions/'\n",
    "predicts_osm_folder = 'predicts_osm'\n",
    "rectangled_predicts_folder = 'rectangled_predicts_pixel'\n",
    "objects_predicts_folder = 'rectangled_predicts_obj'\n",
    "\n",
    "osm_objects_path = os.path.join(predictions_folder, predicts_osm_folder)"
   ]
  },
  {
   "cell_type": "code",
   "execution_count": 5,
   "metadata": {},
   "outputs": [],
   "source": [
    "train_val_test = read_pickle(\"../dataset/train_val_test_split.pickle\")\n",
    "test_ids = train_val_test['test']"
   ]
  },
  {
   "cell_type": "code",
   "execution_count": 6,
   "metadata": {},
   "outputs": [
    {
     "name": "stdout",
     "output_type": "stream",
     "text": [
      "Sectors count: 616\n"
     ]
    }
   ],
   "source": [
    "bigger_side_blocks_count = 8\n",
    "sectors_count = calculate_sectors_count(bigger_side_blocks_count)\n",
    "print(\"Sectors count:\", sectors_count)"
   ]
  },
  {
   "cell_type": "code",
   "execution_count": null,
   "metadata": {},
   "outputs": [],
   "source": []
  },
  {
   "cell_type": "code",
   "execution_count": 7,
   "metadata": {},
   "outputs": [],
   "source": [
    "def get_all_tags(img_osm_object):\n",
    "    return [o.tag for o in img_osm_object.osm_objects if o.tag != 'ridge' and o.tag != 'valley' ]"
   ]
  },
  {
   "cell_type": "code",
   "execution_count": 8,
   "metadata": {
    "scrolled": true
   },
   "outputs": [
    {
     "name": "stdout",
     "output_type": "stream",
     "text": [
      "1:, image: 9501, tags: []\n",
      "4:, image: 10196, tags: []\n",
      "6:, image: 11093, tags: []\n",
      "7:, image: 11980, tags: []\n",
      "10:, image: 11410, tags: []\n",
      "11:, image: 16382, tags: []\n",
      "13:, image: 9437, tags: []\n",
      "15:, image: 1006, tags: []\n",
      "16:, image: 3800, tags: []\n",
      "18:, image: 16832, tags: ['water']\n",
      "20:, image: 18649, tags: []\n",
      "23:, image: 16577, tags: []\n",
      "24:, image: 14357, tags: []\n",
      "25:, image: 14705, tags: []\n",
      "26:, image: 17506, tags: []\n",
      "27:, image: 14406, tags: []\n",
      "29:, image: 9463, tags: []\n",
      "30:, image: 14706, tags: []\n",
      "33:, image: 18004, tags: []\n",
      "34:, image: 4221, tags: []\n",
      "36:, image: 21615, tags: []\n",
      "38:, image: 11947, tags: []\n",
      "39:, image: 16286, tags: []\n",
      "43:, image: 21799, tags: []\n",
      "44:, image: 13603, tags: []\n",
      "46:, image: 1869, tags: []\n",
      "47:, image: 11859, tags: ['water']\n",
      "48:, image: 202, tags: []\n",
      "50:, image: 18478, tags: []\n",
      "55:, image: 12939, tags: []\n",
      "56:, image: 18421, tags: []\n",
      "57:, image: 8750, tags: []\n",
      "58:, image: 14014, tags: []\n",
      "59:, image: 20030, tags: ['peak']\n",
      "60:, image: 19572, tags: []\n",
      "61:, image: 13613, tags: ['water']\n",
      "63:, image: 11222, tags: []\n",
      "65:, image: 8128, tags: []\n",
      "66:, image: 8196, tags: []\n",
      "68:, image: 12265, tags: []\n",
      "69:, image: 149, tags: []\n",
      "70:, image: 9860, tags: []\n",
      "72:, image: 1492, tags: ['water']\n",
      "77:, image: 11515, tags: []\n",
      "79:, image: 596, tags: []\n",
      "80:, image: 17730, tags: []\n",
      "82:, image: 8569, tags: []\n",
      "83:, image: 9234, tags: []\n",
      "84:, image: 14704, tags: []\n",
      "85:, image: 20005, tags: []\n",
      "86:, image: 1045, tags: ['wood']\n",
      "88:, image: 21029, tags: []\n",
      "90:, image: 14510, tags: []\n",
      "91:, image: 3514, tags: []\n",
      "93:, image: 12859, tags: []\n",
      "97:, image: 9601, tags: []\n",
      "98:, image: 19915, tags: []\n",
      "99:, image: 12669, tags: []\n",
      "[Errno 2] No such file or directory: '../dataset/predictions/predicts_osm/7985.pickle'\n"
     ]
    }
   ],
   "source": [
    "result_ids = []\n",
    "\n",
    "i = 0\n",
    "\n",
    "bad_count_before_100 = 0\n",
    "bad_count_after_100 = 0\n",
    "\n",
    "while len(result_ids) < 100:\n",
    "    img_id = test_ids[i]\n",
    "    \n",
    "    try:\n",
    "        img_osm_object = read_pickle(os.path.join(osm_objects_path, img_id + '.pickle'))\n",
    "    except Exception as e:\n",
    "        print(e)\n",
    "        # Дальше, чем 100, предсказаний нет\n",
    "        break\n",
    "    tags = get_all_tags(img_osm_object)\n",
    "    \n",
    "    if len(tags) < 2:\n",
    "        print(f\"{i}:, image: {img_id}, tags: {tags}\")\n",
    "        if i < 100:\n",
    "            bad_count_before_100 += 1\n",
    "        else:\n",
    "            bad_count_after_100 += 1\n",
    "    else:\n",
    "        result_ids.append(img_id)\n",
    "        \n",
    "    i += 1"
   ]
  },
  {
   "cell_type": "code",
   "execution_count": 9,
   "metadata": {},
   "outputs": [
    {
     "name": "stdout",
     "output_type": "stream",
     "text": [
      "42\n"
     ]
    }
   ],
   "source": [
    "print(len(result_ids))"
   ]
  },
  {
   "cell_type": "code",
   "execution_count": 10,
   "metadata": {},
   "outputs": [],
   "source": [
    "def calculate_cells_probs(img_cds, agent_cd):\n",
    "    \"\"\"\n",
    "    only fast version\n",
    "    \"\"\"\n",
    "    penalties = []\n",
    "    \n",
    "    for i in range(len(img_cds.center_points)):\n",
    "        penalties.append(img_cds.fast_diagrams[i].dist_to(agent_cd.fast_diagram))\n",
    "        \n",
    "    # Добавл. 1e-8 чтобы не было нулей\n",
    "    similaryties = np.max(penalties) - penalties + 1e-8\n",
    "\n",
    "    return similaryties / similaryties.sum()"
   ]
  },
  {
   "cell_type": "code",
   "execution_count": 11,
   "metadata": {},
   "outputs": [],
   "source": [
    "def find_center_point_id(center_points, agent_point):\n",
    "    for i in range(len(center_points)):\n",
    "        if center_points[i] == agent_point:\n",
    "            return i"
   ]
  },
  {
   "cell_type": "code",
   "execution_count": 12,
   "metadata": {},
   "outputs": [],
   "source": [
    "def is_in_one_of_max_k(cell_probs, center_point_id, max_k):\n",
    "    is_ok_for_different_k = []\n",
    "    \n",
    "    argsort = np.argsort(cell_probs)[::-1]\n",
    "    for k in range(0, max_k):\n",
    "        if argsort[k] == center_point_id:\n",
    "            is_ok_for_different_k += [True for _ in range(max_k - k)]\n",
    "            break\n",
    "        else:\n",
    "            is_ok_for_different_k.append(False)\n",
    "        \n",
    "    return is_ok_for_different_k"
   ]
  },
  {
   "cell_type": "code",
   "execution_count": 13,
   "metadata": {},
   "outputs": [],
   "source": [
    "def cut_sectors(circle_diagram, max_len):\n",
    "    for i in range(len(circle_diagram.sectors)):\n",
    "        circle_diagram.sectors[i] = circle_diagram.sectors[i][:max_len]\n",
    "    return circle_diagram"
   ]
  },
  {
   "cell_type": "code",
   "execution_count": 16,
   "metadata": {},
   "outputs": [],
   "source": [
    "def calculate_precision_k_for_one(img_id, max_k):\n",
    "    \n",
    "    filename_pickle = img_id + '.pickle'\n",
    "    \n",
    "    img_osm = read_pickle(os.path.join(osm_objects_path, filename_pickle))\n",
    "    img_osm.img_cutted_shape = (img_osm.img_cutted_shape[0], img_osm.img_cutted_shape[1], 3)\n",
    "    img_cds = Image_circle_diagrams(img_osm, bigger_side_blocks_count, sectors_count, with_fast=True)\n",
    "    \n",
    "    is_in_k_one_image_all = []\n",
    "    is_in_k_one_image_max_3 = []\n",
    "    is_in_k_one_image_max_2 = []\n",
    "    is_in_k_one_image_max_1 = []\n",
    "    \n",
    "    for agent_point in points:\n",
    "        agent_point = agent_point[::-1]\n",
    "        \n",
    "        def _calc_one(max_in_sector=None):\n",
    "            agent_cd = create_circle_diagram(sectors_count, agent_point, img_osm)\n",
    "            if max_in_sector:\n",
    "                agent_cd = cut_sectors(agent_cd, max_in_sector)\n",
    "            agent_cd.make_fast()\n",
    "\n",
    "            cell_probs = calculate_cells_probs(img_cds, agent_cd)\n",
    "\n",
    "            center_point_id = find_center_point_id(img_cds.center_points, points_to_centers_6_8[agent_point[::-1]][::-1])\n",
    "\n",
    "            is_in_k_one_point = is_in_one_of_max_k(cell_probs, center_point_id, max_k)\n",
    "            \n",
    "            return is_in_k_one_point\n",
    "        \n",
    "        is_in_k_one_point = _calc_one(max_in_sector=None)\n",
    "        is_in_k_one_image_all.append(is_in_k_one_point)\n",
    "        \n",
    "        is_in_k_one_point_3 = _calc_one(max_in_sector=3)\n",
    "        is_in_k_one_image_max_3.append(is_in_k_one_point_3)\n",
    "        \n",
    "        is_in_k_one_point_2 = _calc_one(max_in_sector=2)\n",
    "        is_in_k_one_image_max_2.append(is_in_k_one_point_2)\n",
    "        \n",
    "        is_in_k_one_point_1 = _calc_one(max_in_sector=1)\n",
    "        is_in_k_one_image_max_1.append(is_in_k_one_point_1)\n",
    "        \n",
    "        \n",
    "    return is_in_k_one_image_all, is_in_k_one_image_max_3, is_in_k_one_image_max_2, is_in_k_one_image_max_1"
   ]
  },
  {
   "cell_type": "code",
   "execution_count": 18,
   "metadata": {},
   "outputs": [
    {
     "name": "stdout",
     "output_type": "stream",
     "text": [
      "200\n"
     ]
    },
    {
     "name": "stderr",
     "output_type": "stream",
     "text": [
      "../utils.py:39: RuntimeWarning: invalid value encountered in arccos\n",
      "  return np.rad2deg(np.arccos(scalar_product / (norm_1 * norm_2)))\n"
     ]
    },
    {
     "name": "stdout",
     "output_type": "stream",
     "text": [
      "400\n",
      "600\n",
      "800\n",
      "1000\n",
      "1200\n",
      "1400\n",
      "1600\n",
      "1800\n",
      "2000\n",
      "2200\n",
      "2400\n",
      "2600\n",
      "2800\n",
      "3000\n",
      "3200\n",
      "3400\n",
      "3600\n",
      "3800\n",
      "4000\n",
      "4200\n",
      "CPU times: user 53min 2s, sys: 1.21 s, total: 53min 3s\n",
      "Wall time: 53min 3s\n"
     ]
    }
   ],
   "source": [
    "%%time\n",
    "is_in_k = []\n",
    "is_in_k_max_3 = []\n",
    "is_in_k_max_2 = []\n",
    "is_in_k_max_1 = []\n",
    "\n",
    "for img_id in result_ids[:100]:\n",
    "    \n",
    "    is_all, is_3, is_2, is_1 = calculate_precision_k_for_one(img_id, max_k=1)\n",
    "    is_in_k += is_all\n",
    "    is_in_k_max_3 += is_3\n",
    "    is_in_k_max_2 += is_2\n",
    "    is_in_k_max_1 += is_1\n",
    "    \n",
    "    if len(is_in_k) % 200 == 0:\n",
    "        print(len(is_in_k))\n",
    "        "
   ]
  },
  {
   "cell_type": "code",
   "execution_count": 19,
   "metadata": {},
   "outputs": [],
   "source": [
    "is_in_k = np.array(is_in_k)\n",
    "\n",
    "acc_k = []\n",
    "for i in range(1):\n",
    "    acc_k.append(is_in_k[:, i].sum() / is_in_k.shape[0])"
   ]
  },
  {
   "cell_type": "code",
   "execution_count": 20,
   "metadata": {},
   "outputs": [],
   "source": [
    "is_in_k_max_3 = np.array(is_in_k_max_3)\n",
    "\n",
    "acc_k_max_3 = []\n",
    "for i in range(1):\n",
    "    acc_k_max_3.append(is_in_k_max_3[:, i].sum() / is_in_k_max_3.shape[0])"
   ]
  },
  {
   "cell_type": "code",
   "execution_count": 21,
   "metadata": {},
   "outputs": [],
   "source": [
    "is_in_k_max_2 = np.array(is_in_k_max_2)\n",
    "\n",
    "acc_k_max_2 = []\n",
    "for i in range(1):\n",
    "    acc_k_max_2.append(is_in_k_max_2[:, i].sum() / is_in_k_max_2.shape[0])"
   ]
  },
  {
   "cell_type": "code",
   "execution_count": 22,
   "metadata": {},
   "outputs": [],
   "source": [
    "is_in_k_max_1 = np.array(is_in_k_max_1)\n",
    "\n",
    "acc_k_max_1 = []\n",
    "for i in range(1):\n",
    "    acc_k_max_1.append(is_in_k_max_1[:, i].sum() / is_in_k_max_1.shape[0])"
   ]
  },
  {
   "cell_type": "code",
   "execution_count": 23,
   "metadata": {},
   "outputs": [
    {
     "name": "stdout",
     "output_type": "stream",
     "text": [
      "[0.49666666666666665]\n"
     ]
    }
   ],
   "source": [
    "print(acc_k)"
   ]
  },
  {
   "cell_type": "code",
   "execution_count": 24,
   "metadata": {},
   "outputs": [
    {
     "name": "stdout",
     "output_type": "stream",
     "text": [
      "[0.4957142857142857]\n"
     ]
    }
   ],
   "source": [
    "print(acc_k_max_3)"
   ]
  },
  {
   "cell_type": "code",
   "execution_count": 25,
   "metadata": {},
   "outputs": [
    {
     "name": "stdout",
     "output_type": "stream",
     "text": [
      "[0.485]\n"
     ]
    }
   ],
   "source": [
    "print(acc_k_max_2)"
   ]
  },
  {
   "cell_type": "code",
   "execution_count": 26,
   "metadata": {},
   "outputs": [
    {
     "name": "stdout",
     "output_type": "stream",
     "text": [
      "[0.4030952380952381]\n"
     ]
    }
   ],
   "source": [
    "print(acc_k_max_1)"
   ]
  },
  {
   "cell_type": "code",
   "execution_count": null,
   "metadata": {},
   "outputs": [],
   "source": []
  }
 ],
 "metadata": {
  "kernelspec": {
   "display_name": "Python (tf-gpu)",
   "language": "python",
   "name": "tf-gpu"
  },
  "language_info": {
   "codemirror_mode": {
    "name": "ipython",
    "version": 3
   },
   "file_extension": ".py",
   "mimetype": "text/x-python",
   "name": "python",
   "nbconvert_exporter": "python",
   "pygments_lexer": "ipython3",
   "version": "3.7.5"
  }
 },
 "nbformat": 4,
 "nbformat_minor": 2
}
