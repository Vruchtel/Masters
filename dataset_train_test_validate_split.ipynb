{
 "cells": [
  {
   "cell_type": "code",
   "execution_count": 95,
   "metadata": {},
   "outputs": [],
   "source": [
    "import os\n",
    "import cv2\n",
    "import numpy as np\n",
    "import random"
   ]
  },
  {
   "cell_type": "markdown",
   "metadata": {},
   "source": [
    "### 1. Оценим среднее значение пикселя на изображении (отдельно для спутниковых изображений, отдельно для карт)"
   ]
  },
  {
   "cell_type": "code",
   "execution_count": 97,
   "metadata": {},
   "outputs": [],
   "source": [
    "maps_folder = 'dataset/map'\n",
    "satellites_folder = 'dataset/satellite'\n",
    "\n",
    "corners_folder = 'dataset/corners'"
   ]
  },
  {
   "cell_type": "code",
   "execution_count": 99,
   "metadata": {},
   "outputs": [
    {
     "name": "stdout",
     "output_type": "stream",
     "text": [
      "Maps mean: 232.393494664\n",
      "Satellites mean: 132.801123625\n",
      "CPU times: user 3min 49s, sys: 5.61 s, total: 3min 55s\n",
      "Wall time: 4min 25s\n"
     ]
    }
   ],
   "source": [
    "%%time\n",
    "mean_maps = []\n",
    "mean_satellites = []\n",
    "\n",
    "for file in os.listdir(corners_folder):\n",
    "    filename = file.split('.')[0] + '.png'\n",
    "    img = cv2.imread(os.path.join(maps_folder, filename))\n",
    "    # сначала получаем среднее значение для каждого пикселя, потом берём среднее по всем пикселям\n",
    "    mean_maps.append(np.mean(np.mean(img, axis=2)))\n",
    "    \n",
    "    img_satellite = cv2.imread(os.path.join(satellites_folder, filename))\n",
    "    mean_satellites.append(np.mean(np.mean(img_satellite, axis=2)))\n",
    "    \n",
    "mean_maps = np.array(mean_maps)\n",
    "mean_satellites = np.array(mean_satellites)\n",
    "\n",
    "print(\"Maps mean:\", np.mean(mean_maps))\n",
    "print(\"Satellites mean:\", np.mean(mean_satellites))"
   ]
  },
  {
   "cell_type": "markdown",
   "metadata": {},
   "source": [
    "Здесь видно, что спутниковые изображения несколько более тёмные."
   ]
  },
  {
   "cell_type": "markdown",
   "metadata": {},
   "source": [
    "### 2. Случайным образом разобъём выборку на train, validate и test"
   ]
  },
  {
   "cell_type": "code",
   "execution_count": 100,
   "metadata": {},
   "outputs": [],
   "source": [
    "filenames = list(map(lambda x: x.split('.')[0], os.listdir(corners_folder)))\n",
    "random.shuffle(filenames)"
   ]
  },
  {
   "cell_type": "code",
   "execution_count": 101,
   "metadata": {},
   "outputs": [
    {
     "name": "stdout",
     "output_type": "stream",
     "text": [
      "21849\n",
      "train count: 13109, validate count: 4370, test count: 4370\n"
     ]
    }
   ],
   "source": [
    "train_part = 0.6\n",
    "validate_part = 0.2\n",
    "test_part = 0.2\n",
    "\n",
    "files_count = len(filenames)\n",
    "print(files_count)\n",
    "\n",
    "train_count = int(files_count * train_part)\n",
    "validate_count = int(files_count * validate_part) + 1\n",
    "test_count = files_count - train_count - validate_count\n",
    "\n",
    "print(\"train count: {}, validate count: {}, test count: {}\".format(train_count, validate_count, test_count))"
   ]
  },
  {
   "cell_type": "code",
   "execution_count": 102,
   "metadata": {},
   "outputs": [],
   "source": [
    "train_filenames = filenames[:train_count]\n",
    "validate_filenames = filenames[train_count:(train_count + validate_count)]\n",
    "test_filenames = filenames[-test_count:]"
   ]
  },
  {
   "cell_type": "code",
   "execution_count": 103,
   "metadata": {},
   "outputs": [
    {
     "name": "stdout",
     "output_type": "stream",
     "text": [
      "13109 4370 4370\n"
     ]
    }
   ],
   "source": [
    "print(len(train_filenames), len(validate_filenames), len(test_filenames))"
   ]
  },
  {
   "cell_type": "markdown",
   "metadata": {},
   "source": [
    "Тестовую выборку будем использовать для обучения модели. На валидейте будем оценивать модель в процессе обучения. Тестовую выборку будем использовать для сравнения нескольких моделей между собой."
   ]
  },
  {
   "cell_type": "markdown",
   "metadata": {},
   "source": [
    "### 3. Теперь проверим, что среднее значение одного пикселя статистически значимо получилось одинаковым в каждой из выборок"
   ]
  },
  {
   "cell_type": "code",
   "execution_count": 104,
   "metadata": {},
   "outputs": [
    {
     "name": "stdout",
     "output_type": "stream",
     "text": [
      "232.381053939\n",
      "132.94021054\n",
      "232.223273756\n",
      "132.321353545\n",
      "232.601034901\n",
      "132.863664785\n",
      "CPU times: user 3min 49s, sys: 5.55 s, total: 3min 54s\n",
      "Wall time: 4min 33s\n"
     ]
    }
   ],
   "source": [
    "%%time\n",
    "train_mean_maps = []\n",
    "train_mean_satellites = []\n",
    "\n",
    "validate_mean_maps = []\n",
    "validate_mean_satellites = []\n",
    "\n",
    "test_mean_maps = []\n",
    "test_mean_satellites = []\n",
    "\n",
    "for filename in train_filenames:\n",
    "    img = cv2.imread(os.path.join(maps_folder, filename + '.png'))\n",
    "    train_mean_maps.append(np.mean(np.mean(img, axis=2)))\n",
    "    \n",
    "    satellite_img = cv2.imread(os.path.join(satellites_folder, filename + '.png'))\n",
    "    train_mean_satellites.append(np.mean(np.mean(satellite_img, axis=2)))\n",
    "    \n",
    "train_mean_maps = np.array(train_mean_maps)\n",
    "train_mean_satellites = np.array(train_mean_satellites)\n",
    "\n",
    "print(np.mean(train_mean_maps))\n",
    "print(np.mean(train_mean_satellites))\n",
    "\n",
    "\n",
    "for filename in validate_filenames:\n",
    "    img = cv2.imread(os.path.join(maps_folder, filename + '.png'))\n",
    "    validate_mean_maps.append(np.mean(np.mean(img, axis=2)))\n",
    "    \n",
    "    satellite_img = cv2.imread(os.path.join(satellites_folder, filename + '.png'))\n",
    "    validate_mean_satellites.append(np.mean(np.mean(satellite_img, axis=2)))\n",
    "    \n",
    "validate_mean_maps = np.array(validate_mean_maps)\n",
    "validate_mean_satellites = np.array(validate_mean_satellites)\n",
    "\n",
    "print(np.mean(validate_mean_maps))\n",
    "print(np.mean(validate_mean_satellites))\n",
    "\n",
    "\n",
    "for filename in test_filenames:\n",
    "    img = cv2.imread(os.path.join(maps_folder, filename + '.png'))\n",
    "    test_mean_maps.append(np.mean(np.mean(img, axis=2)))\n",
    "    \n",
    "    satellite_img = cv2.imread(os.path.join(satellites_folder, filename + '.png'))\n",
    "    test_mean_satellites.append(np.mean(np.mean(satellite_img, axis=2)))\n",
    "    \n",
    "test_mean_maps = np.array(test_mean_maps)\n",
    "test_mean_satellites = np.array(test_mean_satellites)\n",
    "\n",
    "print(np.mean(test_mean_maps))\n",
    "print(np.mean(test_mean_satellites))\n"
   ]
  },
  {
   "cell_type": "code",
   "execution_count": 105,
   "metadata": {},
   "outputs": [],
   "source": [
    "import matplotlib.pyplot as plt"
   ]
  },
  {
   "cell_type": "code",
   "execution_count": 106,
   "metadata": {},
   "outputs": [
    {
     "data": {
      "image/png": "[encoded data removed]",
      "text/plain": [
       "<matplotlib.figure.Figure at 0x7f8b48b5b240>"
      ]
     },
     "metadata": {},
     "output_type": "display_data"
    }
   ],
   "source": [
    "plt.hist(train_mean_maps)\n",
    "plt.show()"
   ]
  },
  {
   "cell_type": "markdown",
   "metadata": {},
   "source": [
    "Не похоже на нормальное распределение, значит критерии для нормального распределения использовать нельзя."
   ]
  },
  {
   "cell_type": "code",
   "execution_count": 107,
   "metadata": {},
   "outputs": [],
   "source": [
    "from scipy import stats"
   ]
  },
  {
   "cell_type": "code",
   "execution_count": 108,
   "metadata": {},
   "outputs": [
    {
     "name": "stdout",
     "output_type": "stream",
     "text": [
      "MannwhitneyuResult(statistic=28695441.5, pvalue=0.85638480244821913)\n",
      "MannwhitneyuResult(statistic=28135326.5, pvalue=0.078728112964812649)\n",
      "MannwhitneyuResult(statistic=9362427.5, pvalue=0.11472057975470783)\n"
     ]
    }
   ],
   "source": [
    "print(stats.mannwhitneyu(train_mean_maps, validate_mean_maps, alternative='two-sided'))\n",
    "print(stats.mannwhitneyu(train_mean_maps, test_mean_maps, alternative='two-sided'))\n",
    "print(stats.mannwhitneyu(validate_mean_maps, test_mean_maps, alternative='two-sided'))"
   ]
  },
  {
   "cell_type": "markdown",
   "metadata": {},
   "source": [
    "Гипотезы о равенстве всех распределений на уровне значимости 0.05 отвергнуть не можем."
   ]
  },
  {
   "cell_type": "code",
   "execution_count": 109,
   "metadata": {},
   "outputs": [
    {
     "name": "stdout",
     "output_type": "stream",
     "text": [
      "MannwhitneyuResult(statistic=28834034.0, pvalue=0.5087809501553241)\n",
      "MannwhitneyuResult(statistic=28705036.0, pvalue=0.83040703023502627)\n",
      "MannwhitneyuResult(statistic=9504019.5, pvalue=0.70639055511996562)\n"
     ]
    }
   ],
   "source": [
    "print(stats.mannwhitneyu(train_mean_satellites, validate_mean_satellites, alternative='two-sided'))\n",
    "print(stats.mannwhitneyu(train_mean_satellites, test_mean_satellites, alternative='two-sided'))\n",
    "print(stats.mannwhitneyu(validate_mean_satellites, test_mean_satellites, alternative='two-sided'))"
   ]
  },
  {
   "cell_type": "markdown",
   "metadata": {},
   "source": [
    "И здесь аналогично."
   ]
  },
  {
   "cell_type": "markdown",
   "metadata": {},
   "source": [
    "### 4. Сохраним разбиения"
   ]
  },
  {
   "cell_type": "code",
   "execution_count": 110,
   "metadata": {},
   "outputs": [],
   "source": [
    "import pickle"
   ]
  },
  {
   "cell_type": "code",
   "execution_count": 111,
   "metadata": {},
   "outputs": [],
   "source": [
    "train_val_test = {\n",
    "    'train': list(train_filenames),\n",
    "    'validate': list(validate_filenames),\n",
    "    'test': list(test_filenames)\n",
    "}"
   ]
  },
  {
   "cell_type": "code",
   "execution_count": 112,
   "metadata": {},
   "outputs": [],
   "source": [
    "with open('dataset/train_val_test_split.pickle', 'wb') as f:\n",
    "    pickle.dump(train_val_test, f)"
   ]
  },
  {
   "cell_type": "markdown",
   "metadata": {},
   "source": [
    "### 5. Проверим, что во всех выборках статистически значимо среднее количество встречаний одного типа объекта на изображении одинаково."
   ]
  },
  {
   "cell_type": "code",
   "execution_count": 113,
   "metadata": {},
   "outputs": [],
   "source": [
    "from collections import Counter"
   ]
  },
  {
   "cell_type": "code",
   "execution_count": 114,
   "metadata": {},
   "outputs": [],
   "source": [
    "tags_folder = 'dataset/tags'\n",
    "\n",
    "tag_names = ['wood', 'water', 'valley', 'peak', 'ridge']"
   ]
  },
  {
   "cell_type": "code",
   "execution_count": 115,
   "metadata": {},
   "outputs": [
    {
     "name": "stdout",
     "output_type": "stream",
     "text": [
      "CPU times: user 636 ms, sys: 416 ms, total: 1.05 s\n",
      "Wall time: 3.11 s\n"
     ]
    }
   ],
   "source": [
    "%%time\n",
    "train_tag_counts = {\n",
    "    'wood':[],\n",
    "    'water':[],\n",
    "    'valley':[],\n",
    "    'peak':[],\n",
    "    'ridge':[]\n",
    "}\n",
    "\n",
    "for filename in train_filenames:\n",
    "    with open(os.path.join(tags_folder, filename + '.pickle'), 'rb') as f:\n",
    "        tags = pickle.load(f)\n",
    "        c = Counter(tags)\n",
    "        \n",
    "        for tag in tag_names:\n",
    "            if tag in c:\n",
    "                train_tag_counts[tag].append(c[tag])\n",
    "            else:\n",
    "                train_tag_counts[tag].append(0)\n"
   ]
  },
  {
   "cell_type": "code",
   "execution_count": 116,
   "metadata": {},
   "outputs": [
    {
     "name": "stdout",
     "output_type": "stream",
     "text": [
      "CPU times: user 204 ms, sys: 144 ms, total: 348 ms\n",
      "Wall time: 921 ms\n"
     ]
    }
   ],
   "source": [
    "%%time\n",
    "validate_tag_counts = {\n",
    "    'wood':[],\n",
    "    'water':[],\n",
    "    'valley':[],\n",
    "    'peak':[],\n",
    "    'ridge':[]\n",
    "}\n",
    "\n",
    "for filename in validate_filenames:\n",
    "    with open(os.path.join(tags_folder, filename + '.pickle'), 'rb') as f:\n",
    "        tags = pickle.load(f)\n",
    "        c = Counter(tags)\n",
    "        \n",
    "        for tag in tag_names:\n",
    "            if tag in c:\n",
    "                validate_tag_counts[tag].append(c[tag])\n",
    "            else:\n",
    "                validate_tag_counts[tag].append(0)\n"
   ]
  },
  {
   "cell_type": "code",
   "execution_count": 117,
   "metadata": {},
   "outputs": [
    {
     "name": "stdout",
     "output_type": "stream",
     "text": [
      "CPU times: user 212 ms, sys: 132 ms, total: 344 ms\n",
      "Wall time: 868 ms\n"
     ]
    }
   ],
   "source": [
    "%%time\n",
    "test_tag_counts = {\n",
    "    'wood':[],\n",
    "    'water':[],\n",
    "    'valley':[],\n",
    "    'peak':[],\n",
    "    'ridge':[]\n",
    "}\n",
    "\n",
    "for filename in test_filenames:\n",
    "    with open(os.path.join(tags_folder, filename + '.pickle'), 'rb') as f:\n",
    "        tags = pickle.load(f)\n",
    "        c = Counter(tags)\n",
    "        \n",
    "        for tag in tag_names:\n",
    "            if tag in c:\n",
    "                test_tag_counts[tag].append(c[tag])\n",
    "            else:\n",
    "                test_tag_counts[tag].append(0)\n"
   ]
  },
  {
   "cell_type": "code",
   "execution_count": 118,
   "metadata": {},
   "outputs": [
    {
     "data": {
      "image/png": "[encoded data removed]",
      "text/plain": [
       "<matplotlib.figure.Figure at 0x7f8b46feaa20>"
      ]
     },
     "metadata": {},
     "output_type": "display_data"
    }
   ],
   "source": [
    "plt.hist(train_tag_counts['wood'], bins=100)\n",
    "plt.show()"
   ]
  },
  {
   "cell_type": "markdown",
   "metadata": {},
   "source": [
    "Тут тоже не похоже на нормальное распределение. Применим критерий Манна-Уитни."
   ]
  },
  {
   "cell_type": "code",
   "execution_count": 119,
   "metadata": {},
   "outputs": [
    {
     "name": "stdout",
     "output_type": "stream",
     "text": [
      "MannwhitneyuResult(statistic=28900497.0, pvalue=0.36037316023512023)\n",
      "MannwhitneyuResult(statistic=28614372.5, pvalue=0.91851953310227663)\n",
      "MannwhitneyuResult(statistic=9451077.0, pvalue=0.39660530405670902)\n"
     ]
    }
   ],
   "source": [
    "print(stats.mannwhitneyu(train_tag_counts['water'], validate_tag_counts['water'], alternative='two-sided'))\n",
    "print(stats.mannwhitneyu(train_tag_counts['water'], test_tag_counts['water'], alternative='two-sided'))\n",
    "print(stats.mannwhitneyu(validate_tag_counts['water'], test_tag_counts['water'], alternative='two-sided'))"
   ]
  },
  {
   "cell_type": "code",
   "execution_count": 120,
   "metadata": {},
   "outputs": [
    {
     "name": "stdout",
     "output_type": "stream",
     "text": [
      "MannwhitneyuResult(statistic=28924204.5, pvalue=0.25550881372139966)\n",
      "MannwhitneyuResult(statistic=29194631.0, pvalue=0.025362560365901701)\n",
      "MannwhitneyuResult(statistic=9639730.5, pvalue=0.36093230619930272)\n"
     ]
    }
   ],
   "source": [
    "print(stats.mannwhitneyu(train_tag_counts['wood'], validate_tag_counts['wood'], alternative='two-sided'))\n",
    "print(stats.mannwhitneyu(train_tag_counts['wood'], test_tag_counts['wood'], alternative='two-sided'))\n",
    "print(stats.mannwhitneyu(validate_tag_counts['wood'], test_tag_counts['wood'], alternative='two-sided'))"
   ]
  },
  {
   "cell_type": "markdown",
   "metadata": {},
   "source": [
    "Ну, равенство распределений train и validate отвергнуть не можем, а это самое главное (чтобы модель не переобучилась)."
   ]
  },
  {
   "cell_type": "code",
   "execution_count": 121,
   "metadata": {},
   "outputs": [
    {
     "name": "stdout",
     "output_type": "stream",
     "text": [
      "MannwhitneyuResult(statistic=28736301.5, pvalue=0.39223611674344439)\n",
      "MannwhitneyuResult(statistic=28701584.5, pvalue=0.59271585527078063)\n",
      "MannwhitneyuResult(statistic=9536815.5, pvalue=0.78964601461307304)\n"
     ]
    }
   ],
   "source": [
    "print(stats.mannwhitneyu(train_tag_counts['valley'], validate_tag_counts['valley'], alternative='two-sided'))\n",
    "print(stats.mannwhitneyu(train_tag_counts['valley'], test_tag_counts['valley'], alternative='two-sided'))\n",
    "print(stats.mannwhitneyu(validate_tag_counts['valley'], test_tag_counts['valley'], alternative='two-sided'))"
   ]
  },
  {
   "cell_type": "code",
   "execution_count": 122,
   "metadata": {},
   "outputs": [
    {
     "name": "stdout",
     "output_type": "stream",
     "text": [
      "MannwhitneyuResult(statistic=28187753.5, pvalue=0.089667882639057533)\n",
      "MannwhitneyuResult(statistic=28165580.0, pvalue=0.075195002781334494)\n",
      "MannwhitneyuResult(statistic=9541466.5, pvalue=0.9494289714972125)\n"
     ]
    }
   ],
   "source": [
    "print(stats.mannwhitneyu(train_tag_counts['peak'], validate_tag_counts['peak'], alternative='two-sided'))\n",
    "print(stats.mannwhitneyu(train_tag_counts['peak'], test_tag_counts['peak'], alternative='two-sided'))\n",
    "print(stats.mannwhitneyu(validate_tag_counts['peak'], test_tag_counts['peak'], alternative='two-sided'))"
   ]
  },
  {
   "cell_type": "code",
   "execution_count": 123,
   "metadata": {},
   "outputs": [
    {
     "name": "stdout",
     "output_type": "stream",
     "text": [
      "MannwhitneyuResult(statistic=28515187.0, pvalue=0.3166003040051435)\n",
      "MannwhitneyuResult(statistic=28460599.5, pvalue=0.15450808969274232)\n",
      "MannwhitneyuResult(statistic=9530598.5, pvalue=0.73915605206344392)\n"
     ]
    }
   ],
   "source": [
    "print(stats.mannwhitneyu(train_tag_counts['ridge'], validate_tag_counts['ridge'], alternative='two-sided'))\n",
    "print(stats.mannwhitneyu(train_tag_counts['ridge'], test_tag_counts['ridge'], alternative='two-sided'))\n",
    "print(stats.mannwhitneyu(validate_tag_counts['ridge'], test_tag_counts['ridge'], alternative='two-sided'))"
   ]
  },
  {
   "cell_type": "markdown",
   "metadata": {},
   "source": [
    "В целом можно считать, что волне на таких данных можно обучаться."
   ]
  },
  {
   "cell_type": "code",
   "execution_count": null,
   "metadata": {},
   "outputs": [],
   "source": []
  }
 ],
 "metadata": {
  "kernelspec": {
   "display_name": "Python 3",
   "language": "python",
   "name": "python3"
  },
  "language_info": {
   "codemirror_mode": {
    "name": "ipython",
    "version": 3
   },
   "file_extension": ".py",
   "mimetype": "text/x-python",
   "name": "python",
   "nbconvert_exporter": "python",
   "pygments_lexer": "ipython3",
   "version": "3.5.2"
  }
 },
 "nbformat": 4,
 "nbformat_minor": 2
}
