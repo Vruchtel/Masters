{
 "cells": [
  {
   "cell_type": "code",
   "execution_count": 1,
   "metadata": {},
   "outputs": [],
   "source": [
    "%%bash -c \"cat > diagram.h\"\n",
    "#pragma once\n",
    "\n",
    "#include <vector>\n",
    "#include <algorithm>\n",
    "#include <cmath>\n",
    "\n",
    "struct TSector {\n",
    "    std::vector<std::pair<float, int>> Objects;\n",
    "};\n",
    "\n",
    "struct TDiagram {\n",
    "    std::vector<TSector> Sectors;\n",
    "};\n",
    "\n",
    "inline float DiagramDistance(const TDiagram& a, const TDiagram& b) {\n",
    "    if (a.Sectors.size() != b.Sectors.size()) {\n",
    "        return -1;\n",
    "    }\n",
    "    float resultDistance = 1e10;\n",
    "    for (int shift = 0; shift < (int)a.Sectors.size(); ++shift) {\n",
    "        float curDistance = 0;\n",
    "        for (int i = 0; i < (int)a.Sectors.size(); ++i) {\n",
    "            int bi = (i + shift) % b.Sectors.size();\n",
    "            int minObjCount = std::min(a.Sectors[i].Objects.size(), \n",
    "                                       b.Sectors[bi].Objects.size());\n",
    "            int maxObjCount = std::max(a.Sectors[i].Objects.size(), \n",
    "                                       b.Sectors[bi].Objects.size());\n",
    "            for (int j = 0; j < minObjCount; ++j) {\n",
    "                if (a.Sectors[i].Objects[j].second != b.Sectors[bi].Objects[j].second) {\n",
    "                    curDistance += 1.0 / ((j + 1) * (j + 1));\n",
    "                }\n",
    "            }\n",
    "            for (int j = minObjCount; j < maxObjCount; ++j) {\n",
    "                curDistance += 1.0 / ((j + 1) * (j + 1));\n",
    "            }\n",
    "            \n",
    "        }\n",
    "        resultDistance = std::min(resultDistance, curDistance);\n",
    "    }\n",
    "    return resultDistance;\n",
    "}"
   ]
  },
  {
   "cell_type": "code",
   "execution_count": null,
   "metadata": {},
   "outputs": [],
   "source": []
  },
  {
   "cell_type": "code",
   "execution_count": 2,
   "metadata": {},
   "outputs": [],
   "source": [
    "%%script bash -c \"cat > diagram.pxd\"\n",
    "from libcpp.vector cimport vector\n",
    "from libcpp.pair cimport pair\n",
    "\n",
    "cdef extern from \"diagram.h\" nogil:\n",
    "    cdef cppclass TSector:\n",
    "        TSector()\n",
    "        vector[pair[float, int]] Objects\n",
    "    \n",
    "    cdef cppclass TDiagram:\n",
    "        TDiagram()\n",
    "        vector[TSector] Sectors\n",
    "        \n",
    "    float DiagramDistance(const TDiagram& a, const TDiagram& b)\n",
    "    \n",
    "cdef class Diagram:\n",
    "    cdef TDiagram diagram\n",
    "    cdef init_cpp_from_python(self, diagram_obj)"
   ]
  },
  {
   "cell_type": "code",
   "execution_count": 3,
   "metadata": {},
   "outputs": [],
   "source": [
    "%%script bash -c \"cat > diagram.pyx\"\n",
    "# distutils: language=c++\n",
    "from libcpp.vector cimport vector\n",
    "from libcpp.pair cimport pair\n",
    "\n",
    "OBJ_TYPES = [\"water\", \"wood\"]\n",
    "OBJ_TYPE_TO_NUM = {t: i for i, t in enumerate(OBJ_TYPES)}\n",
    "\n",
    "cdef class Diagram:\n",
    "    '''\n",
    "        Optimized for fast dist_to operation\n",
    "        Constructing is relatively slow operation \n",
    "        \n",
    "    '''\n",
    "    \n",
    "    def __init__(self, diagram_obj):\n",
    "        \"\"\"\n",
    "            Example: 'Diagram([[(1, \"water\")], [(1, \"forest\"), (2, \"water\")]])'\n",
    "            Support types: OBJ_TYPES\n",
    "        \"\"\" \n",
    "        self.init_cpp_from_python(diagram_obj)\n",
    "        \n",
    "    cdef init_cpp_from_python(self, diagram_obj):\n",
    "        cdef TSector cpp_s\n",
    "        for s in diagram_obj:  \n",
    "            cpp_s = TSector()\n",
    "            for obj_dist, obj_type in s:\n",
    "                cpp_s.Objects.push_back(pair[float, int](obj_dist, OBJ_TYPE_TO_NUM[obj_type]))\n",
    "            self.diagram.Sectors.push_back(cpp_s)\n",
    "        \n",
    "    def dist_to(self, another_diagram):\n",
    "        assert isinstance(another_diagram, Diagram)\n",
    "        return DiagramDistance(self.diagram, (<Diagram>another_diagram).diagram)\n",
    "    \n",
    "    def __repr__(self):\n",
    "        a = []\n",
    "        for s in self.diagram.Sectors:\n",
    "            a.append([(o.first, OBJ_TYPES[o.second]) for o in s.Objects])\n",
    "        return repr(a)\n",
    "\n",
    " "
   ]
  },
  {
   "cell_type": "code",
   "execution_count": 4,
   "metadata": {},
   "outputs": [],
   "source": [
    "%%script bash -c \"cat > setup.py\"\n",
    "from distutils.core import setup\n",
    "from Cython.Build import cythonize\n",
    "import os\n",
    "\n",
    "os.environ['CFLAGS'] = '-O3 -Wall -std=c++17'\n",
    "\n",
    "setup(\n",
    "    ext_modules = cythonize(\"diagram.pyx\")\n",
    ")"
   ]
  },
  {
   "cell_type": "code",
   "execution_count": 5,
   "metadata": {},
   "outputs": [
    {
     "name": "stdout",
     "output_type": "stream",
     "text": [
      "Compiling diagram.pyx because it changed.\n",
      "[1/1] Cythonizing diagram.pyx\n",
      "running build_ext\n",
      "building 'diagram' extension\n",
      "x86_64-linux-gnu-gcc -pthread -DNDEBUG -g -fwrapv -O2 -Wall -Wstrict-prototypes -O3 -Wall -std=c++17 -Wdate-time -D_FORTIFY_SOURCE=2 -fPIC -I/usr/include/python3.5m -c diagram.cpp -o build/temp.linux-x86_64-3.5/diagram.o\n",
      "\u001b[01m\u001b[Kcc1plus:\u001b[m\u001b[K \u001b[01;35m\u001b[Kwarning: \u001b[m\u001b[Kcommand line option ‘\u001b[01m\u001b[K-Wstrict-prototypes\u001b[m\u001b[K’ is valid for C/ObjC but not for C++\n",
      "x86_64-linux-gnu-g++ -pthread -shared -Wl,-O1 -Wl,-Bsymbolic-functions -Wl,-Bsymbolic-functions -Wl,-z,relro -Wl,-Bsymbolic-functions -Wl,-z,relro -O3 -Wall -std=c++17 -Wdate-time -D_FORTIFY_SOURCE=2 build/temp.linux-x86_64-3.5/diagram.o -o /media/ura/Windows/Users/ura-lenovo/ubuntu_mount/Diploma/diagram.cpython-35m-x86_64-linux-gnu.so\n"
     ]
    }
   ],
   "source": [
    "!python3 ./setup.py build_ext --inplace "
   ]
  },
  {
   "cell_type": "code",
   "execution_count": 6,
   "metadata": {},
   "outputs": [],
   "source": [
    "from diagram import Diagram\n"
   ]
  },
  {
   "cell_type": "code",
   "execution_count": 7,
   "metadata": {},
   "outputs": [
    {
     "name": "stdout",
     "output_type": "stream",
     "text": [
      "Help on class Diagram in module diagram:\n",
      "\n",
      "class Diagram(builtins.object)\n",
      " |  Optimized for fast dist_to operation\n",
      " |  Constructing is relatively slow operation\n",
      " |  \n",
      " |  Methods defined here:\n",
      " |  \n",
      " |  __init__(...)\n",
      " |      Example: 'Diagram([[(1, \"water\")], [(1, \"forest\"), (2, \"water\")]])'\n",
      " |      Support types: OBJ_TYPES\n",
      " |  \n",
      " |  __new__(*args, **kwargs) from builtins.type\n",
      " |      Create and return a new object.  See help(type) for accurate signature.\n",
      " |  \n",
      " |  __reduce__ = __reduce_cython__(...)\n",
      " |  \n",
      " |  __repr__(self, /)\n",
      " |      Return repr(self).\n",
      " |  \n",
      " |  __setstate__ = __setstate_cython__(...)\n",
      " |  \n",
      " |  dist_to(...)\n",
      " |  \n",
      " |  ----------------------------------------------------------------------\n",
      " |  Data and other attributes defined here:\n",
      " |  \n",
      " |  __pyx_vtable__ = <capsule object NULL>\n",
      "\n"
     ]
    }
   ],
   "source": [
    "help(Diagram)"
   ]
  },
  {
   "cell_type": "code",
   "execution_count": 8,
   "metadata": {},
   "outputs": [
    {
     "data": {
      "text/plain": [
       "[[(1.0, 'water')], [(1.0, 'wood'), (2.0, 'water')]]"
      ]
     },
     "execution_count": 8,
     "metadata": {},
     "output_type": "execute_result"
    }
   ],
   "source": [
    "Diagram([[(1, \"water\")], [(1, \"wood\"), (2, \"water\")]])"
   ]
  },
  {
   "cell_type": "code",
   "execution_count": 9,
   "metadata": {},
   "outputs": [],
   "source": [
    "assert Diagram([[(1, \"water\")]]).dist_to(Diagram([[(1, \"water\")]])) == 0.0, \"Incorrect equal\"\n",
    "assert Diagram([[(1, \"water\")]]).dist_to(Diagram([[(1, \"wood\")]])) == 1.0, \"Incorrect different\"\n",
    "assert Diagram([[(1, \"water\")], [(1, \"wood\"), (2, \"water\")]]).dist_to(\n",
    "    Diagram([[(1, \"wood\")], [(1, \"water\")]])) == 0.25, \"Incorrect shift\"\n"
   ]
  },
  {
   "cell_type": "code",
   "execution_count": 10,
   "metadata": {},
   "outputs": [],
   "source": [
    "assert Diagram([[]]).dist_to(Diagram([[]])) == 0.0, \"Incorrect shift\""
   ]
  },
  {
   "cell_type": "code",
   "execution_count": null,
   "metadata": {},
   "outputs": [],
   "source": []
  }
 ],
 "metadata": {
  "kernelspec": {
   "display_name": "Python 3",
   "language": "python",
   "name": "python3"
  },
  "language_info": {
   "codemirror_mode": {
    "name": "ipython",
    "version": 3
   },
   "file_extension": ".py",
   "mimetype": "text/x-python",
   "name": "python",
   "nbconvert_exporter": "python",
   "pygments_lexer": "ipython3",
   "version": "3.5.2"
  }
 },
 "nbformat": 4,
 "nbformat_minor": 2
}
